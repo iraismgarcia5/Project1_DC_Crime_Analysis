{
 "cells": [
  {
   "cell_type": "code",
   "execution_count": null,
   "metadata": {
    "scrolled": true
   },
   "outputs": [],
   "source": [
    "# Dependencies and Setup\n",
    "%matplotlib inline\n",
    "import matplotlib.pyplot as plt\n",
    "from uszipcode import ZipcodeSearchEngine\n",
    "from pprint import pprint\n",
    "import pandas as pd\n",
    "import numpy as np\n",
    "from citipy import citipy\n",
    "from scipy.stats import sem"
   ]
  },
  {
   "cell_type": "code",
   "execution_count": null,
   "metadata": {},
   "outputs": [],
   "source": [
    "#Dependencies to merge the csv's\n",
    "#Import packages\n",
    "import os\n",
    "import glob\n",
    "import csv"
   ]
  },
  {
   "cell_type": "code",
   "execution_count": null,
   "metadata": {},
   "outputs": [],
   "source": [
    "# Hide warning messages in notebook\n",
    "import warnings\n",
    "warnings.filterwarnings('ignore')"
   ]
  },
  {
   "cell_type": "code",
   "execution_count": null,
   "metadata": {},
   "outputs": [],
   "source": [
    "# Files to Load\n",
    "#File for 2019\n",
    "csv_2019_df=pd.read_csv(\"../Project1_DC_Crime_Analysis/Resources/Crime_Incidents_in_2019.csv\")\n",
    "#File for 2018\n",
    "csv_2018_df=pd.read_csv(\"../Project1_DC_Crime_Analysis/Resources/Crime_Incidents_in_2018.csv\")\n",
    "#File for 2017\n",
    "csv_2017_df=pd.read_csv(\"../Project1_DC_Crime_Analysis/Resources/Crime_Incidents_in_2017.csv\")\n",
    "#File for 2016\n",
    "csv_2016_df=pd.read_csv(\"../Project1_DC_Crime_Analysis/Resources/Crime_Incidents_in_2016.csv\")\n",
    "#File for 2015\n",
    "csv_2015_df=pd.read_csv(\"../Project1_DC_Crime_Analysis/Resources/Crime_Incidents_in_2015.csv\")\n",
    "#File for 2014\n",
    "csv_2014_df=pd.read_csv(\"../Project1_DC_Crime_Analysis/Resources/Crime_Incidents_in_2014.csv\")\n",
    "#File for 2013\n",
    "csv_2013_df=pd.read_csv(\"../Project1_DC_Crime_Analysis/Resources/Crime_Incidents_in_2013.csv\")\n",
    "#File for 2012\n",
    "csv_2012_df=pd.read_csv(\"../Project1_DC_Crime_Analysis/Resources/Crime_Incidents_in_2012.csv\")\n",
    "#File for 2011\n",
    "csv_2011_df=pd.read_csv(\"../Project1_DC_Crime_Analysis/Resources/Crime_Incidents_in_2011.csv\")\n",
    "#File for 2010\n",
    "csv_2010_df=pd.read_csv(\"../Project1_DC_Crime_Analysis/Resources/Crime_Incidents_in_2010.csv\")\n",
    "#File for 2009\n",
    "csv_2009_df=pd.read_csv(\"../Project1_DC_Crime_Analysis/Resources/Crime_Incidents_in_2009.csv\")"
   ]
  },
  {
   "cell_type": "code",
   "execution_count": null,
   "metadata": {},
   "outputs": [],
   "source": [
    "#Count the number of rows in each file\n",
    "#csv_2019_df[\"REPORT_DAT\"].count() #27145\n",
    "#csv_2018_df[\"REPORT_DAT\"].count() #33783\n",
    "#csv_2017_df[\"REPORT_DAT\"].count() #33116\n",
    "#csv_2016_df[\"REPORT_DAT\"].count() #37227\n",
    "#csv_2015_df[\"REPORT_DAT\"].count() #37328\n",
    "#csv_2014_df[\"REPORT_DAT\"].count() #38438\n",
    "#csv_2013_df[\"REPORT_DAT\"].count() #35895\n",
    "#csv_2012_df[\"REPORT_DAT\"].count() #35317\n",
    "#csv_2011_df[\"REPORT_DAT\"].count() #33292\n",
    "#csv_2010_df[\"REPORT_DAT\"].count() #31676\n",
    "#csv_2009_df[\"REPORT_DAT\"].count() #31312"
   ]
  },
  {
   "cell_type": "code",
   "execution_count": null,
   "metadata": {
    "scrolled": true
   },
   "outputs": [],
   "source": [
    "#Use glob to match the pattern ‘csv’\n",
    "#Match the pattern (‘csv’) and save the list of file names in the ‘all_files’ variable.\n",
    "#extension = 'csv'\n",
    "#Use pandas to concatenate all files in the list and export as CSV. \n",
    "#The output file is named “dc_crimes.csv” located in your working directory.\n",
    "#combine all files in the list\n",
    "path = '../Project1_DC_Crime_Analysis/Resources/'\n",
    "all_files = glob.glob(path + \"/*.csv\")\n",
    "all_files\n",
    "row = []\n",
    "\n",
    "for filename in all_files:\n",
    "   df = pd.read_csv(filename, index_col=None, header=0)\n",
    "   row.append(df)\n",
    "\n",
    "dc_crimes = pd.concat(row, axis=0, ignore_index=True)\n",
    "\n",
    "#Convert to DataFrame\n",
    "dc_crimes_df=pd.DataFrame(dc_crimes)\n",
    "dc_crimes_df.count()\n",
    "dc_crimes_df.head(2)\n",
    "dc_crimes_df.to_csv(\"../dc_crimes.csv\",index=False,header=True,encoding='utf-8-sig')"
   ]
  },
  {
   "cell_type": "code",
   "execution_count": null,
   "metadata": {},
   "outputs": [],
   "source": [
    "#Save the csv of all merged data\n",
    "dc_crimes_df.to_csv(\"../dc_crimes_2009_2019.csv\",index=False,header=True,encoding='utf-8-sig')"
   ]
  },
  {
   "cell_type": "code",
   "execution_count": null,
   "metadata": {},
   "outputs": [],
   "source": [
    "# Loc for CCN - 14148057\n",
    "#dc_crimes_df.loc[dc_crimes_df[\"CCN\"]==14148057,:]\n",
    "#dc_crimes_df.columns"
   ]
  },
  {
   "cell_type": "code",
   "execution_count": null,
   "metadata": {},
   "outputs": [],
   "source": [
    "#Split the data in START_DATE column to get Date and Time information\n",
    "dc_crimes_df[['START_DATE','Start_Time']] = dc_crimes_df['START_DATE'].str.split('T',expand=True)\n",
    "dc_crimes_df[['REPORT_DAT','Report_Time']] = dc_crimes_df['REPORT_DAT'].str.split('T',expand=True)\n",
    "dc_crimes_df[['END_DATE','End_Time']] = dc_crimes_df['END_DATE'].str.split('T',expand=True)\n",
    "#pd.to_datetime(dc_crimes_df[\"START_DATE\"])"
   ]
  },
  {
   "cell_type": "code",
   "execution_count": null,
   "metadata": {},
   "outputs": [],
   "source": [
    "#Display the data\n",
    "dc_crimes_df.head(2)"
   ]
  },
  {
   "cell_type": "code",
   "execution_count": null,
   "metadata": {},
   "outputs": [],
   "source": [
    "#Determine Day of the week and Week number\n",
    "#Use the to_datetime function of Pandas\n",
    "dc_crimes_df['START_DATE'] = pd.to_datetime(dc_crimes_df['START_DATE'])\n",
    "dc_crimes_df['Day_of_Week'] = dc_crimes_df['START_DATE'].dt.day_name()\n",
    "dc_crimes_df['Week_Number'] = dc_crimes_df['START_DATE'].dt.week\n",
    "\n",
    "\n",
    "#Splitting the Day, Month and Year to new columns\n",
    "dc_crimes_df['Day'] = dc_crimes_df ['START_DATE'].dt.day\n",
    "dc_crimes_df['Month'] = dc_crimes_df['START_DATE'].dt.month\n",
    "dc_crimes_df['Year'] = dc_crimes_df['START_DATE'].dt.year\n",
    "\n",
    "#The above conversions result in float values - Convert them to integers\n",
    "\n",
    "dc_crimes_df['Day']=dc_crimes_df['Day'].fillna(0.0).astype(int)\n",
    "dc_crimes_df['Month']=dc_crimes_df['Month'].fillna(0.0).astype(int)\n",
    "dc_crimes_df['Year']=dc_crimes_df['Year'].fillna(0.0).astype(int)\n",
    "\n",
    "#Display the output\n",
    "dc_crimes_df[[\"START_DATE\",\"REPORT_DAT\",\"END_DATE\",\"OFFENSE\",\"Day_of_Week\",\"Week_Number\",\"Day\",\"Month\",\"Year\"]].head()\n",
    "#dc_crimes_df.Day.dtype"
   ]
  },
  {
   "cell_type": "code",
   "execution_count": null,
   "metadata": {
    "scrolled": false
   },
   "outputs": [],
   "source": [
    "#Counts - Data Profiling\n",
    "dc_crimes_df.count()\n",
    "for_me=dc_crimes_df.copy()"
   ]
  },
  {
   "cell_type": "code",
   "execution_count": null,
   "metadata": {},
   "outputs": [],
   "source": [
    "# Drop the unnecessary columns\n",
    "dc_crimes_df.drop(['XBLOCK', 'YBLOCK','Start_Time','Report_Time','End_Time',\n",
    "                   'X','Y','ANC','BLOCK_GROUP',\n",
    "                   'CENSUS_TRACT','VOTING_PRECINCT',\n",
    "                   'BID','OBJECTID','OCTO_RECORD_ID','BID'],axis=1,inplace=True)\n",
    "dc_crimes_df.count()"
   ]
  },
  {
   "cell_type": "code",
   "execution_count": null,
   "metadata": {
    "scrolled": false
   },
   "outputs": [],
   "source": [
    "#Reorganizing the columns\n",
    "dc_crimes_df=dc_crimes_df[[\"CCN\",\"START_DATE\",\"END_DATE\",\"Day_of_Week\",\"Week_Number\",\"Day\",\"Month\",\"Year\",\n",
    "                            \"LATITUDE\",\"LONGITUDE\",\"BLOCK\",\"NEIGHBORHOOD_CLUSTER\",\n",
    "                            \"METHOD\",\"OFFENSE\",\"PSA\",\n",
    "                            \"SHIFT\",\"WARD\",\"DISTRICT\",\n",
    "                            \"REPORT_DAT\"]]\n",
    "dc_crimes_df.count()"
   ]
  },
  {
   "cell_type": "code",
   "execution_count": null,
   "metadata": {},
   "outputs": [],
   "source": [
    "#Find the columns that have null values in them - Find the count of null values in a column\n",
    "dc_crimes_df.isna().sum()"
   ]
  },
  {
   "cell_type": "code",
   "execution_count": null,
   "metadata": {},
   "outputs": [],
   "source": [
    "#Deleting rows that have null values in them - Retain END_DATE ( to analyze open cases if required)\n",
    "dc_crimes_df = dc_crimes_df.dropna(axis=0, subset=['START_DATE','NEIGHBORHOOD_CLUSTER','BLOCK',\n",
    "                                                  'PSA','WARD','DISTRICT'])\n",
    "dc_crimes_df.isna().sum()"
   ]
  },
  {
   "cell_type": "code",
   "execution_count": null,
   "metadata": {},
   "outputs": [],
   "source": [
    "dc_crimes_df.count()"
   ]
  },
  {
   "cell_type": "code",
   "execution_count": null,
   "metadata": {},
   "outputs": [],
   "source": [
    "# # #Any Duplicate incidents?\n",
    "# dc_crimes_df['Dup_CCN'] = dc_crimes_df.groupby('CCN')['CCN'].transform('size')\n",
    "# # dc_crimes_df['Dup_CCN']\n",
    "# # dc_crimes_df_sorted=dc_crimes_df.sort_values(\"Dup_CCN\",ascending=False)\n",
    "# # dc_crimes_df_sorted['Dup_CCN']\n",
    "# # dc_crimes_df_sorted.drop_duplicates(subset =\"CCN\",keep = False, inplace = True)\n",
    "# # #dc_crimes_df_sorted.drop_duplicates('CCN')\n",
    "# # dc_crimes_df_sorted['Dup_CCN']\n",
    "# # #df_export=for_me.loc[dc_crimes_df[\"CCN\"]==13132784,:]\n",
    "# # #df_export.to_csv(\"../sample_dup_data.csv\",index=False,header=True,encoding='utf-8-sig')"
   ]
  },
  {
   "cell_type": "code",
   "execution_count": null,
   "metadata": {},
   "outputs": [],
   "source": [
    "# # There are some incidents that started before 2009 but were reported after 2009\n",
    "# var=dc_crimes_df.loc[dc_crimes_df[\"Year\"]<2009,\"CCN\"]\n",
    "# var.count()\n",
    "# dc_crimes_df[\"START_DATE\"].count()"
   ]
  },
  {
   "cell_type": "code",
   "execution_count": null,
   "metadata": {},
   "outputs": [],
   "source": [
    "#Crimes by Year\n",
    "#plt.figure(figsize = (8,5))\n",
    "#dc_crimes_df.groupby([dc_crimes_df.Year]).size().plot.bar()"
   ]
  },
  {
   "cell_type": "code",
   "execution_count": null,
   "metadata": {},
   "outputs": [],
   "source": [
    "#Plot crimes per year\n",
    "dc_crimes_df.groupby([dc_crimes_df.Year]).size().plot.bar()\n",
    "plt.title('Crime Over the Years')\n",
    "plt.xlabel('Year')\n",
    "plt.ylabel('Number of Crimes')\n",
    "plt.show()"
   ]
  },
  {
   "cell_type": "code",
   "execution_count": null,
   "metadata": {},
   "outputs": [],
   "source": [
    "#Plot crimes per month\n",
    "dc_crimes_df.groupby([dc_crimes_df.Month]).size().plot.bar()\n",
    "plt.title('Crimes vs Month')\n",
    "plt.xlabel('Month')\n",
    "plt.ylabel('Number of Crimes')\n",
    "plt.show()"
   ]
  },
  {
   "cell_type": "code",
   "execution_count": null,
   "metadata": {},
   "outputs": [],
   "source": [
    "#Plot crimes crimes per day of the week\n",
    "dc_crimes_df.groupby([dc_crimes_df.Day_of_Week]).size().plot.bar()\n",
    "plt.title('Crimes vs Day of the Week')\n",
    "plt.xlabel('Day_of_Week')\n",
    "plt.ylabel('Number of Crimes Acts')\n",
    "plt.show()"
   ]
  },
  {
   "cell_type": "code",
   "execution_count": null,
   "metadata": {},
   "outputs": [],
   "source": [
    "#Plot crimes crimes per Time of the day\n",
    "dc_crimes_df.groupby([dc_crimes_df.SHIFT]).size().plot.bar()\n",
    "plt.title('Crimes vs Time')\n",
    "plt.xlabel('Time of the Day')\n",
    "plt.ylabel('Number of Crimes Acts')\n",
    "plt.show()"
   ]
  },
  {
   "cell_type": "code",
   "execution_count": null,
   "metadata": {
    "scrolled": false
   },
   "outputs": [],
   "source": [
    "#Distribution of each type of crime\n",
    "dc_crimes_df.columns\n",
    "dc_crimes_df[\"OFFENSE\"].unique()\n",
    "dc_crimes_df[\"OFFENSE\"].value_counts()"
   ]
  },
  {
   "cell_type": "code",
   "execution_count": null,
   "metadata": {},
   "outputs": [],
   "source": [
    "#Offense Plot - Bar Graph\n",
    "dc_crimes_df.groupby(dc_crimes_df['OFFENSE']).size().sort_values(ascending = True).plot(kind = 'barh')\n",
    "plt.xlabel('Total Number of Crimes Committed')\n",
    "plt.title(\"Count of each type crime in Washington D.C\")\n",
    "plt.show()"
   ]
  },
  {
   "cell_type": "markdown",
   "metadata": {},
   "source": [
    "# Analysis \n",
    "It appears that the most common type of Offense is: Theft "
   ]
  },
  {
   "cell_type": "markdown",
   "metadata": {},
   "source": [
    "# Analyzing the trend for different types of Offenses over the years"
   ]
  },
  {
   "cell_type": "code",
   "execution_count": null,
   "metadata": {},
   "outputs": [],
   "source": [
    "#THEFT/OTHER                   141605\n",
    "#THEFT F/AUTO                  106850\n",
    "#ROBBERY                        35171\n",
    "#MOTOR VEHICLE THEFT            32388\n",
    "#BURGLARY                       30229\n",
    "#ASSAULT W/DANGEROUS WEAPON     23757\n",
    "#SEX ABUSE                       2750\n",
    "#HOMICIDE                        1374\n",
    "#ARSON                            279\n",
    "#dc_crimes_df.columns"
   ]
  },
  {
   "cell_type": "code",
   "execution_count": null,
   "metadata": {},
   "outputs": [],
   "source": [
    "# gather yearly count of \"Theft from Vehicle\" crime \n",
    "#theft = dc_crimes_df[dc_crimes_df[\"OFFENSE\"]==\"THEFT/OTHER\"]\n",
    "#theft_yearly= theft[\"Year\"].value_counts(sort=False)\n",
    "#theft_yearly"
   ]
  },
  {
   "cell_type": "code",
   "execution_count": null,
   "metadata": {},
   "outputs": [],
   "source": [
    "#Extract the information for x-axis (i.e years)\n",
    "#x_axis = theft_yearly.index.tolist()\n",
    "#x_axis"
   ]
  },
  {
   "cell_type": "code",
   "execution_count": null,
   "metadata": {},
   "outputs": [],
   "source": [
    "#plt.plot(x_axis, theft_yearly, label = \"Trend for Theft/Other\") "
   ]
  },
  {
   "cell_type": "code",
   "execution_count": null,
   "metadata": {},
   "outputs": [],
   "source": [
    "# #Finding Neighbourhoods\n",
    "# dc_crimes_df.columns\n",
    "# dc_crimes_df[\"BLOCK\"].unique()"
   ]
  },
  {
   "cell_type": "code",
   "execution_count": null,
   "metadata": {},
   "outputs": [],
   "source": [
    "# #Top 10 crime blocks\n",
    "# dc_crimes_df[\"BLOCK\"].value_counts()[:10].plot.bar(title='Top 10 Dangerous Blocks')"
   ]
  },
  {
   "cell_type": "code",
   "execution_count": null,
   "metadata": {},
   "outputs": [],
   "source": [
    "# plt.scatter(dc_crimes_df['LONGITUDE'], dc_crimes_df['LATITUDE'], s=0.5, alpha=0.3, color=\"brown\", lw=0)"
   ]
  },
  {
   "cell_type": "code",
   "execution_count": null,
   "metadata": {},
   "outputs": [],
   "source": [
    "#Export the city data into a .csv. -\"Should be the final step\"\n",
    "#dc_crimes_df.to_csv(\"../dc_crimes.csv\",index=False,header=True,encoding='utf-8-sig')\n",
    "#encoding also exports any non-english data"
   ]
  },
  {
   "cell_type": "code",
   "execution_count": null,
   "metadata": {},
   "outputs": [],
   "source": [
    "# df1 = dc_crimes_df['BLOCK'].str.extract('(?P<number>\\d+)(?P<name>.*)', expand=True)\n",
    "# print (df1)"
   ]
  },
  {
   "cell_type": "code",
   "execution_count": null,
   "metadata": {},
   "outputs": [],
   "source": [
    "copy_df=dc_crimes_df.copy()\n",
    "copy_df[['BLOCK','Street_Name']] = dc_crimes_df['BLOCK'].str.split('BLOCK OF ',expand=True)\n",
    "copy_df[['BLOCK','Street_Name']].head(2)\n",
    "#copy_df.loc[copy_df[\"Street_Name\"]==\"None\",:]"
   ]
  },
  {
   "cell_type": "code",
   "execution_count": null,
   "metadata": {
    "scrolled": false
   },
   "outputs": [],
   "source": [
    "copy_df[\"Street_Name\"].value_counts()[:10].plot.bar(title='Top 10 Dangerous Blocks')"
   ]
  },
  {
   "cell_type": "code",
   "execution_count": null,
   "metadata": {},
   "outputs": [],
   "source": []
  }
 ],
 "metadata": {
  "kernelspec": {
   "display_name": "Python 3",
   "language": "python",
   "name": "python3"
  },
  "language_info": {
   "codemirror_mode": {
    "name": "ipython",
    "version": 3
   },
   "file_extension": ".py",
   "mimetype": "text/x-python",
   "name": "python",
   "nbconvert_exporter": "python",
   "pygments_lexer": "ipython3",
   "version": "3.7.3"
  }
 },
 "nbformat": 4,
 "nbformat_minor": 2
}

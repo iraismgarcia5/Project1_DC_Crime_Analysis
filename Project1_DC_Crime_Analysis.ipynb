{
 "cells": [
  {
   "cell_type": "code",
   "execution_count": null,
   "metadata": {},
   "outputs": [],
   "source": [
    "# Dependencies and Setup\n",
    "%matplotlib inline\n",
    "import matplotlib.pyplot as plt\n",
    "from pprint import pprint\n",
    "import pandas as pd\n",
    "import numpy as np\n",
    "from citipy import citipy\n",
    "from scipy.stats import sem"
   ]
  },
  {
   "cell_type": "code",
   "execution_count": null,
   "metadata": {},
   "outputs": [],
   "source": [
    "#Dependencies to merge the csv's\n",
    "#Import packages\n",
    "import os\n",
    "import glob\n",
    "import csv"
   ]
  },
  {
   "cell_type": "code",
   "execution_count": null,
   "metadata": {},
   "outputs": [],
   "source": [
    "# Hide warning messages in notebook\n",
    "import warnings\n",
    "warnings.filterwarnings('ignore')"
   ]
  },
  {
   "cell_type": "code",
   "execution_count": null,
   "metadata": {},
   "outputs": [],
   "source": [
    "# Files to Load\n",
    "#File for 2019\n",
    "csv_2019_df=pd.read_csv(\"../Project1_DC_Crime_Analysis/Resources/Crime_Incidents_in_2019.csv\")\n",
    "#File for 2018\n",
    "csv_2018_df=pd.read_csv(\"../Project1_DC_Crime_Analysis/Resources/Crime_Incidents_in_2018.csv\")\n",
    "#File for 2017\n",
    "csv_2017_df=pd.read_csv(\"../Project1_DC_Crime_Analysis/Resources/Crime_Incidents_in_2017.csv\")\n",
    "#File for 2016\n",
    "csv_2016_df=pd.read_csv(\"../Project1_DC_Crime_Analysis/Resources/Crime_Incidents_in_2016.csv\")\n",
    "#File for 2015\n",
    "csv_2015_df=pd.read_csv(\"../Project1_DC_Crime_Analysis/Resources/Crime_Incidents_in_2015.csv\")\n",
    "#File for 2014\n",
    "csv_2014_df=pd.read_csv(\"../Project1_DC_Crime_Analysis/Resources/Crime_Incidents_in_2014.csv\")\n",
    "#File for 2013\n",
    "csv_2013_df=pd.read_csv(\"../Project1_DC_Crime_Analysis/Resources/Crime_Incidents_in_2013.csv\")\n",
    "#File for 2012\n",
    "csv_2012_df=pd.read_csv(\"../Project1_DC_Crime_Analysis/Resources/Crime_Incidents_in_2012.csv\")\n",
    "#File for 2011\n",
    "csv_2011_df=pd.read_csv(\"../Project1_DC_Crime_Analysis/Resources/Crime_Incidents_in_2011.csv\")\n",
    "#File for 2010\n",
    "csv_2010_df=pd.read_csv(\"../Project1_DC_Crime_Analysis/Resources/Crime_Incidents_in_2010.csv\")\n",
    "#File for 2009\n",
    "csv_2009_df=pd.read_csv(\"../Project1_DC_Crime_Analysis/Resources/Crime_Incidents_in_2009.csv\")"
   ]
  },
  {
   "cell_type": "code",
   "execution_count": null,
   "metadata": {},
   "outputs": [],
   "source": [
    "#Count the number of rows in each file\n",
    "#csv_2019_df[\"REPORT_DAT\"].count() #27145\n",
    "#csv_2018_df[\"REPORT_DAT\"].count() #33783\n",
    "#csv_2017_df[\"REPORT_DAT\"].count() #33116\n",
    "#csv_2016_df[\"REPORT_DAT\"].count() #37227\n",
    "#csv_2015_df[\"REPORT_DAT\"].count() #37328\n",
    "#csv_2014_df[\"REPORT_DAT\"].count() #38438\n",
    "#csv_2013_df[\"REPORT_DAT\"].count() #35895\n",
    "#csv_2012_df[\"REPORT_DAT\"].count() #35317\n",
    "#csv_2011_df[\"REPORT_DAT\"].count() #33292\n",
    "#csv_2010_df[\"REPORT_DAT\"].count() #31676\n",
    "#csv_2009_df[\"REPORT_DAT\"].count() #31312"
   ]
  },
  {
   "cell_type": "code",
   "execution_count": null,
   "metadata": {},
   "outputs": [],
   "source": [
    "#Use glob to match the pattern ‘csv’\n",
    "#Match the pattern (‘csv’) and save the list of file names in the ‘all_files’ variable.\n",
    "#extension = 'csv'\n",
    "#Use pandas to concatenate all files in the list and export as CSV. \n",
    "#The output file is named “dc_crimes.csv” located in your working directory.\n",
    "#combine all files in the list\n",
    "path = '../Project1_DC_Crime_Analysis/Resources/'\n",
    "all_files = glob.glob(path + \"/*.csv\")\n",
    "all_files\n",
    "row = []\n",
    "\n",
    "for filename in all_files:\n",
    "   df = pd.read_csv(filename, index_col=None, header=0)\n",
    "   row.append(df)\n",
    "\n",
    "dc_crimes = pd.concat(row, axis=0, ignore_index=True)\n",
    "dc_crimes_df=pd.DataFrame(dc_crimes)\n",
    "dc_crimes_df.count()\n",
    "dc_crimes_df"
   ]
  },
  {
   "cell_type": "code",
   "execution_count": null,
   "metadata": {},
   "outputs": [],
   "source": [
    "#Split the data in REPORT_DAT column to get Date and Time information\n",
    "dc_crimes_df[['REPORT_DAT','Time']] = dc_crimes_df['REPORT_DAT'].str.split('T',expand=True)"
   ]
  },
  {
   "cell_type": "code",
   "execution_count": null,
   "metadata": {},
   "outputs": [],
   "source": [
    "#Display the data\n",
    "dc_crimes_df.head(2)"
   ]
  },
  {
   "cell_type": "code",
   "execution_count": null,
   "metadata": {},
   "outputs": [],
   "source": [
    "#Counts\n",
    "dc_crimes_df.count()"
   ]
  },
  {
   "cell_type": "code",
   "execution_count": null,
   "metadata": {},
   "outputs": [],
   "source": [
    "#Determine Day of the week and Week number\n",
    "#Use the to_datetime function of Pandas\n",
    "dc_crimes_df['REPORT_DAT'] = pd.to_datetime(dc_crimes_df['REPORT_DAT'])\n",
    "dc_crimes_df['day_of_week'] = dc_crimes_df['REPORT_DAT'].dt.day_name()\n",
    "dc_crimes_df['Week_Number'] = dc_crimes_df['REPORT_DAT'].dt.week\n",
    "dc_crimes_df[[\"REPORT_DAT\",\"day_of_week\",\"Week_Number\"]]"
   ]
  },
  {
   "cell_type": "code",
   "execution_count": null,
   "metadata": {},
   "outputs": [],
   "source": [
    "# Retrieving post codes from Latitudes and Longitudes\n",
    "dc_crimes_df[[\"LATITUDE\",\"LONGITUDE\"]].head(5)"
   ]
  },
  {
   "cell_type": "code",
   "execution_count": null,
   "metadata": {},
   "outputs": [],
   "source": [
    "plt.scatter(dc_crimes_df['LONGITUDE'], dc_crimes_df['LATITUDE'], s=50, alpha=0.3, color=\"brown\", lw=0)"
   ]
  },
  {
   "cell_type": "code",
   "execution_count": null,
   "metadata": {},
   "outputs": [],
   "source": [
    "#Export the city data into a .csv. -\"Should be the final step\"\n",
    "#dc_crimes_df.to_csv(\"../Project1-Additional_Docs/Analyzed_outputs/dc_crimes.csv\",index=False,header=True,encoding='utf-8-sig')\n",
    "#encoding also exports any non-english data"
   ]
  }
 ],
 "metadata": {
  "kernelspec": {
   "display_name": "Python 3",
   "language": "python",
   "name": "python3"
  },
  "language_info": {
   "codemirror_mode": {
    "name": "ipython",
    "version": 3
   },
   "file_extension": ".py",
   "mimetype": "text/x-python",
   "name": "python",
   "nbconvert_exporter": "python",
   "pygments_lexer": "ipython3",
   "version": "3.7.3"
  }
 },
 "nbformat": 4,
 "nbformat_minor": 2
}

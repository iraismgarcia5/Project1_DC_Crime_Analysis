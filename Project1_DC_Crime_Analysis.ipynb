{
 "cells": [
  {
   "cell_type": "markdown",
   "metadata": {},
   "source": [
    "Project 1: Analysis of DC Metro Crime Data"
   ]
  },
  {
   "cell_type": "markdown",
   "metadata": {},
   "source": [
    " Step 1: Dependencies and Setup"
   ]
  },
  {
   "cell_type": "code",
   "execution_count": 1,
   "metadata": {
    "scrolled": true
   },
   "outputs": [],
   "source": [
    "%matplotlib inline\n",
    "import matplotlib.pyplot as plt\n",
    "import pandas as pd\n",
    "import numpy as np\n",
    "import os\n",
    "import glob\n",
    "import csv\n",
    "import calendar\n",
    "from pprint import pprint\n",
    "from citipy import citipy\n",
    "from scipy.stats import sem"
   ]
  },
  {
   "cell_type": "code",
   "execution_count": 2,
   "metadata": {},
   "outputs": [],
   "source": [
    "# Hide warning messages in notebook\n",
    "import warnings\n",
    "warnings.filterwarnings('ignore')"
   ]
  },
  {
   "cell_type": "markdown",
   "metadata": {},
   "source": [
    "Step 2: Read the .csv files and merge all the .csv files into a single DataFrame "
   ]
  },
  {
   "cell_type": "code",
   "execution_count": 3,
   "metadata": {},
   "outputs": [],
   "source": [
    "# Files to Load\n",
    "#File for 2019\n",
    "csv_2019_df=pd.read_csv(\"../Project1_DC_Crime_Analysis/Resources/Crime_Incidents_in_2019.csv\")\n",
    "#File for 2018\n",
    "csv_2018_df=pd.read_csv(\"../Project1_DC_Crime_Analysis/Resources/Crime_Incidents_in_2018.csv\")\n",
    "#File for 2017\n",
    "csv_2017_df=pd.read_csv(\"../Project1_DC_Crime_Analysis/Resources/Crime_Incidents_in_2017.csv\")\n",
    "#File for 2016\n",
    "csv_2016_df=pd.read_csv(\"../Project1_DC_Crime_Analysis/Resources/Crime_Incidents_in_2016.csv\")\n",
    "#File for 2015\n",
    "csv_2015_df=pd.read_csv(\"../Project1_DC_Crime_Analysis/Resources/Crime_Incidents_in_2015.csv\")\n",
    "#File for 2014\n",
    "csv_2014_df=pd.read_csv(\"../Project1_DC_Crime_Analysis/Resources/Crime_Incidents_in_2014.csv\")\n",
    "#File for 2013\n",
    "csv_2013_df=pd.read_csv(\"../Project1_DC_Crime_Analysis/Resources/Crime_Incidents_in_2013.csv\")\n",
    "#File for 2012\n",
    "csv_2012_df=pd.read_csv(\"../Project1_DC_Crime_Analysis/Resources/Crime_Incidents_in_2012.csv\")\n",
    "#File for 2011\n",
    "csv_2011_df=pd.read_csv(\"../Project1_DC_Crime_Analysis/Resources/Crime_Incidents_in_2011.csv\")\n",
    "#File for 2010\n",
    "csv_2010_df=pd.read_csv(\"../Project1_DC_Crime_Analysis/Resources/Crime_Incidents_in_2010.csv\")\n",
    "#File for 2009\n",
    "csv_2009_df=pd.read_csv(\"../Project1_DC_Crime_Analysis/Resources/Crime_Incidents_in_2009.csv\")"
   ]
  },
  {
   "cell_type": "code",
   "execution_count": 4,
   "metadata": {
    "scrolled": true
   },
   "outputs": [
    {
     "data": {
      "text/html": [
       "<div>\n",
       "<style scoped>\n",
       "    .dataframe tbody tr th:only-of-type {\n",
       "        vertical-align: middle;\n",
       "    }\n",
       "\n",
       "    .dataframe tbody tr th {\n",
       "        vertical-align: top;\n",
       "    }\n",
       "\n",
       "    .dataframe thead th {\n",
       "        text-align: right;\n",
       "    }\n",
       "</style>\n",
       "<table border=\"1\" class=\"dataframe\">\n",
       "  <thead>\n",
       "    <tr style=\"text-align: right;\">\n",
       "      <th></th>\n",
       "      <th>X</th>\n",
       "      <th>Y</th>\n",
       "      <th>CCN</th>\n",
       "      <th>REPORT_DAT</th>\n",
       "      <th>SHIFT</th>\n",
       "      <th>METHOD</th>\n",
       "      <th>OFFENSE</th>\n",
       "      <th>BLOCK</th>\n",
       "      <th>XBLOCK</th>\n",
       "      <th>YBLOCK</th>\n",
       "      <th>...</th>\n",
       "      <th>BLOCK_GROUP</th>\n",
       "      <th>CENSUS_TRACT</th>\n",
       "      <th>VOTING_PRECINCT</th>\n",
       "      <th>LATITUDE</th>\n",
       "      <th>LONGITUDE</th>\n",
       "      <th>BID</th>\n",
       "      <th>START_DATE</th>\n",
       "      <th>END_DATE</th>\n",
       "      <th>OBJECTID</th>\n",
       "      <th>OCTO_RECORD_ID</th>\n",
       "    </tr>\n",
       "  </thead>\n",
       "  <tbody>\n",
       "    <tr>\n",
       "      <th>0</th>\n",
       "      <td>-77.039673</td>\n",
       "      <td>38.903151</td>\n",
       "      <td>8005297</td>\n",
       "      <td>2009-01-12T10:30:00.000Z</td>\n",
       "      <td>DAY</td>\n",
       "      <td>OTHERS</td>\n",
       "      <td>BURGLARY</td>\n",
       "      <td>1000 - 1099 BLOCK OF CONNECTICUT AVENUE NW</td>\n",
       "      <td>396559.0</td>\n",
       "      <td>137255.0</td>\n",
       "      <td>...</td>\n",
       "      <td>010700 1</td>\n",
       "      <td>10700.0</td>\n",
       "      <td>Precinct 17</td>\n",
       "      <td>38.903143</td>\n",
       "      <td>-77.039670</td>\n",
       "      <td>GOLDEN TRIANGLE</td>\n",
       "      <td>2008-12-28T00:00:00.000Z</td>\n",
       "      <td>NaN</td>\n",
       "      <td>356048194</td>\n",
       "      <td>08005297-01</td>\n",
       "    </tr>\n",
       "    <tr>\n",
       "      <th>1</th>\n",
       "      <td>-76.999518</td>\n",
       "      <td>38.904689</td>\n",
       "      <td>162302</td>\n",
       "      <td>2009-11-12T18:00:00.000Z</td>\n",
       "      <td>EVENING</td>\n",
       "      <td>OTHERS</td>\n",
       "      <td>MOTOR VEHICLE THEFT</td>\n",
       "      <td>1100 - 1199 BLOCK OF 5TH STREET NE</td>\n",
       "      <td>400042.0</td>\n",
       "      <td>137425.0</td>\n",
       "      <td>...</td>\n",
       "      <td>010600 2</td>\n",
       "      <td>10600.0</td>\n",
       "      <td>Precinct 83</td>\n",
       "      <td>38.904682</td>\n",
       "      <td>-76.999516</td>\n",
       "      <td>NaN</td>\n",
       "      <td>2009-11-06T12:00:00.000Z</td>\n",
       "      <td>2009-11-12T17:00:00.000Z</td>\n",
       "      <td>356046669</td>\n",
       "      <td>00162302-01</td>\n",
       "    </tr>\n",
       "  </tbody>\n",
       "</table>\n",
       "<p>2 rows × 25 columns</p>\n",
       "</div>"
      ],
      "text/plain": [
       "           X          Y      CCN                REPORT_DAT    SHIFT  METHOD  \\\n",
       "0 -77.039673  38.903151  8005297  2009-01-12T10:30:00.000Z      DAY  OTHERS   \n",
       "1 -76.999518  38.904689   162302  2009-11-12T18:00:00.000Z  EVENING  OTHERS   \n",
       "\n",
       "               OFFENSE                                       BLOCK    XBLOCK  \\\n",
       "0             BURGLARY  1000 - 1099 BLOCK OF CONNECTICUT AVENUE NW  396559.0   \n",
       "1  MOTOR VEHICLE THEFT          1100 - 1199 BLOCK OF 5TH STREET NE  400042.0   \n",
       "\n",
       "     YBLOCK  ...  BLOCK_GROUP CENSUS_TRACT  VOTING_PRECINCT   LATITUDE  \\\n",
       "0  137255.0  ...     010700 1      10700.0      Precinct 17  38.903143   \n",
       "1  137425.0  ...     010600 2      10600.0      Precinct 83  38.904682   \n",
       "\n",
       "   LONGITUDE              BID                START_DATE  \\\n",
       "0 -77.039670  GOLDEN TRIANGLE  2008-12-28T00:00:00.000Z   \n",
       "1 -76.999516              NaN  2009-11-06T12:00:00.000Z   \n",
       "\n",
       "                   END_DATE   OBJECTID  OCTO_RECORD_ID  \n",
       "0                       NaN  356048194     08005297-01  \n",
       "1  2009-11-12T17:00:00.000Z  356046669     00162302-01  \n",
       "\n",
       "[2 rows x 25 columns]"
      ]
     },
     "execution_count": 4,
     "metadata": {},
     "output_type": "execute_result"
    }
   ],
   "source": [
    "#Use glob to match the pattern ‘csv’\n",
    "#Match the pattern (‘csv’) and save the list of file names in the ‘all_files’ variable.\n",
    "#extension = 'csv'\n",
    "#Use pandas to concatenate all files in the list and export as CSV. \n",
    "#The output file is named “dc_crimes.csv” located in your working directory.\n",
    "#combine all files in the list\n",
    "path = '../Project1_DC_Crime_Analysis/Resources/'\n",
    "all_files = glob.glob(path + \"/*.csv\")\n",
    "all_files\n",
    "row = []\n",
    "\n",
    "for filename in all_files:\n",
    "   df = pd.read_csv(filename, index_col=None, header=0)\n",
    "   row.append(df)\n",
    "\n",
    "dc_crimes = pd.concat(row, axis=0, ignore_index=True)\n",
    "\n",
    "#Convert to DataFrame\n",
    "dc_crimes_df=pd.DataFrame(dc_crimes)\n",
    "dc_crimes_df.head(2)"
   ]
  },
  {
   "cell_type": "code",
   "execution_count": 5,
   "metadata": {},
   "outputs": [],
   "source": [
    "#Save the csv of all merged data\n",
    "dc_crimes_df.to_csv(\"../dc_crimes_2009_2019.csv\",index=False,header=True,encoding='utf-8-sig')"
   ]
  },
  {
   "cell_type": "markdown",
   "metadata": {},
   "source": [
    "Step 3: Data Profiling and Data Cleansing"
   ]
  },
  {
   "cell_type": "code",
   "execution_count": 6,
   "metadata": {
    "scrolled": false
   },
   "outputs": [
    {
     "data": {
      "text/plain": [
       "X                       374403\n",
       "Y                       374403\n",
       "CCN                     374403\n",
       "REPORT_DAT              374403\n",
       "SHIFT                   374403\n",
       "METHOD                  374403\n",
       "OFFENSE                 374403\n",
       "BLOCK                   374402\n",
       "XBLOCK                  374403\n",
       "YBLOCK                  374403\n",
       "WARD                    374392\n",
       "ANC                     374403\n",
       "DISTRICT                374201\n",
       "PSA                     374173\n",
       "NEIGHBORHOOD_CLUSTER    369548\n",
       "BLOCK_GROUP             373335\n",
       "CENSUS_TRACT            373335\n",
       "VOTING_PRECINCT         374339\n",
       "LATITUDE                374403\n",
       "LONGITUDE               374403\n",
       "BID                      62208\n",
       "START_DATE              374393\n",
       "END_DATE                352236\n",
       "OBJECTID                374403\n",
       "OCTO_RECORD_ID          374403\n",
       "dtype: int64"
      ]
     },
     "execution_count": 6,
     "metadata": {},
     "output_type": "execute_result"
    }
   ],
   "source": [
    "#Counts - Data Profiling\n",
    "dc_crimes_copy=dc_crimes_df.copy()\n",
    "dc_crimes_df.count()"
   ]
  },
  {
   "cell_type": "code",
   "execution_count": 7,
   "metadata": {},
   "outputs": [
    {
     "data": {
      "text/html": [
       "<div>\n",
       "<style scoped>\n",
       "    .dataframe tbody tr th:only-of-type {\n",
       "        vertical-align: middle;\n",
       "    }\n",
       "\n",
       "    .dataframe tbody tr th {\n",
       "        vertical-align: top;\n",
       "    }\n",
       "\n",
       "    .dataframe thead th {\n",
       "        text-align: right;\n",
       "    }\n",
       "</style>\n",
       "<table border=\"1\" class=\"dataframe\">\n",
       "  <thead>\n",
       "    <tr style=\"text-align: right;\">\n",
       "      <th></th>\n",
       "      <th>X</th>\n",
       "      <th>Y</th>\n",
       "      <th>CCN</th>\n",
       "      <th>REPORT_DAT</th>\n",
       "      <th>SHIFT</th>\n",
       "      <th>METHOD</th>\n",
       "      <th>OFFENSE</th>\n",
       "      <th>BLOCK</th>\n",
       "      <th>XBLOCK</th>\n",
       "      <th>YBLOCK</th>\n",
       "      <th>...</th>\n",
       "      <th>LATITUDE</th>\n",
       "      <th>LONGITUDE</th>\n",
       "      <th>BID</th>\n",
       "      <th>START_DATE</th>\n",
       "      <th>END_DATE</th>\n",
       "      <th>OBJECTID</th>\n",
       "      <th>OCTO_RECORD_ID</th>\n",
       "      <th>Start_Time</th>\n",
       "      <th>Report_Time</th>\n",
       "      <th>End_Time</th>\n",
       "    </tr>\n",
       "  </thead>\n",
       "  <tbody>\n",
       "    <tr>\n",
       "      <th>0</th>\n",
       "      <td>-77.039673</td>\n",
       "      <td>38.903151</td>\n",
       "      <td>8005297</td>\n",
       "      <td>2009-01-12</td>\n",
       "      <td>DAY</td>\n",
       "      <td>OTHERS</td>\n",
       "      <td>BURGLARY</td>\n",
       "      <td>1000 - 1099 BLOCK OF CONNECTICUT AVENUE NW</td>\n",
       "      <td>396559.0</td>\n",
       "      <td>137255.0</td>\n",
       "      <td>...</td>\n",
       "      <td>38.903143</td>\n",
       "      <td>-77.039670</td>\n",
       "      <td>GOLDEN TRIANGLE</td>\n",
       "      <td>2008-12-28</td>\n",
       "      <td>NaN</td>\n",
       "      <td>356048194</td>\n",
       "      <td>08005297-01</td>\n",
       "      <td>00:00:00.000Z</td>\n",
       "      <td>10:30:00.000Z</td>\n",
       "      <td>NaN</td>\n",
       "    </tr>\n",
       "    <tr>\n",
       "      <th>1</th>\n",
       "      <td>-76.999518</td>\n",
       "      <td>38.904689</td>\n",
       "      <td>162302</td>\n",
       "      <td>2009-11-12</td>\n",
       "      <td>EVENING</td>\n",
       "      <td>OTHERS</td>\n",
       "      <td>MOTOR VEHICLE THEFT</td>\n",
       "      <td>1100 - 1199 BLOCK OF 5TH STREET NE</td>\n",
       "      <td>400042.0</td>\n",
       "      <td>137425.0</td>\n",
       "      <td>...</td>\n",
       "      <td>38.904682</td>\n",
       "      <td>-76.999516</td>\n",
       "      <td>NaN</td>\n",
       "      <td>2009-11-06</td>\n",
       "      <td>2009-11-12</td>\n",
       "      <td>356046669</td>\n",
       "      <td>00162302-01</td>\n",
       "      <td>12:00:00.000Z</td>\n",
       "      <td>18:00:00.000Z</td>\n",
       "      <td>17:00:00.000Z</td>\n",
       "    </tr>\n",
       "  </tbody>\n",
       "</table>\n",
       "<p>2 rows × 28 columns</p>\n",
       "</div>"
      ],
      "text/plain": [
       "           X          Y      CCN  REPORT_DAT    SHIFT  METHOD  \\\n",
       "0 -77.039673  38.903151  8005297  2009-01-12      DAY  OTHERS   \n",
       "1 -76.999518  38.904689   162302  2009-11-12  EVENING  OTHERS   \n",
       "\n",
       "               OFFENSE                                       BLOCK    XBLOCK  \\\n",
       "0             BURGLARY  1000 - 1099 BLOCK OF CONNECTICUT AVENUE NW  396559.0   \n",
       "1  MOTOR VEHICLE THEFT          1100 - 1199 BLOCK OF 5TH STREET NE  400042.0   \n",
       "\n",
       "     YBLOCK  ...   LATITUDE  LONGITUDE              BID  START_DATE  \\\n",
       "0  137255.0  ...  38.903143 -77.039670  GOLDEN TRIANGLE  2008-12-28   \n",
       "1  137425.0  ...  38.904682 -76.999516              NaN  2009-11-06   \n",
       "\n",
       "     END_DATE   OBJECTID  OCTO_RECORD_ID     Start_Time    Report_Time  \\\n",
       "0         NaN  356048194     08005297-01  00:00:00.000Z  10:30:00.000Z   \n",
       "1  2009-11-12  356046669     00162302-01  12:00:00.000Z  18:00:00.000Z   \n",
       "\n",
       "        End_Time  \n",
       "0            NaN  \n",
       "1  17:00:00.000Z  \n",
       "\n",
       "[2 rows x 28 columns]"
      ]
     },
     "execution_count": 7,
     "metadata": {},
     "output_type": "execute_result"
    }
   ],
   "source": [
    "#Split the data in START_DATE column to get Date and Time information\n",
    "dc_crimes_df[['START_DATE','Start_Time']] = dc_crimes_df['START_DATE'].str.split('T',expand=True)\n",
    "dc_crimes_df[['REPORT_DAT','Report_Time']] = dc_crimes_df['REPORT_DAT'].str.split('T',expand=True)\n",
    "dc_crimes_df[['END_DATE','End_Time']] = dc_crimes_df['END_DATE'].str.split('T',expand=True)\n",
    "#Display the data\n",
    "dc_crimes_df.head(2)"
   ]
  },
  {
   "cell_type": "code",
   "execution_count": 8,
   "metadata": {},
   "outputs": [
    {
     "data": {
      "text/html": [
       "<div>\n",
       "<style scoped>\n",
       "    .dataframe tbody tr th:only-of-type {\n",
       "        vertical-align: middle;\n",
       "    }\n",
       "\n",
       "    .dataframe tbody tr th {\n",
       "        vertical-align: top;\n",
       "    }\n",
       "\n",
       "    .dataframe thead th {\n",
       "        text-align: right;\n",
       "    }\n",
       "</style>\n",
       "<table border=\"1\" class=\"dataframe\">\n",
       "  <thead>\n",
       "    <tr style=\"text-align: right;\">\n",
       "      <th></th>\n",
       "      <th>START_DATE</th>\n",
       "      <th>REPORT_DAT</th>\n",
       "      <th>END_DATE</th>\n",
       "      <th>OFFENSE</th>\n",
       "      <th>DAY_OF_WEEK</th>\n",
       "      <th>WEEK_NUMBER</th>\n",
       "      <th>DAY</th>\n",
       "      <th>MONTH</th>\n",
       "      <th>YEAR</th>\n",
       "    </tr>\n",
       "  </thead>\n",
       "  <tbody>\n",
       "    <tr>\n",
       "      <th>0</th>\n",
       "      <td>2008-12-28</td>\n",
       "      <td>2009-01-12</td>\n",
       "      <td>NaN</td>\n",
       "      <td>BURGLARY</td>\n",
       "      <td>Sunday</td>\n",
       "      <td>52</td>\n",
       "      <td>28</td>\n",
       "      <td>Dec</td>\n",
       "      <td>2008</td>\n",
       "    </tr>\n",
       "    <tr>\n",
       "      <th>1</th>\n",
       "      <td>2009-11-06</td>\n",
       "      <td>2009-11-12</td>\n",
       "      <td>2009-11-12</td>\n",
       "      <td>MOTOR VEHICLE THEFT</td>\n",
       "      <td>Friday</td>\n",
       "      <td>45</td>\n",
       "      <td>6</td>\n",
       "      <td>Nov</td>\n",
       "      <td>2009</td>\n",
       "    </tr>\n",
       "    <tr>\n",
       "      <th>2</th>\n",
       "      <td>2009-12-06</td>\n",
       "      <td>2009-12-06</td>\n",
       "      <td>2009-12-06</td>\n",
       "      <td>THEFT F/AUTO</td>\n",
       "      <td>Sunday</td>\n",
       "      <td>49</td>\n",
       "      <td>6</td>\n",
       "      <td>Dec</td>\n",
       "      <td>2009</td>\n",
       "    </tr>\n",
       "    <tr>\n",
       "      <th>3</th>\n",
       "      <td>2002-01-26</td>\n",
       "      <td>2009-10-20</td>\n",
       "      <td>2002-01-26</td>\n",
       "      <td>THEFT/OTHER</td>\n",
       "      <td>Saturday</td>\n",
       "      <td>4</td>\n",
       "      <td>26</td>\n",
       "      <td>Jan</td>\n",
       "      <td>2002</td>\n",
       "    </tr>\n",
       "    <tr>\n",
       "      <th>4</th>\n",
       "      <td>2005-04-30</td>\n",
       "      <td>2009-10-20</td>\n",
       "      <td>2005-04-30</td>\n",
       "      <td>ASSAULT W/DANGEROUS WEAPON</td>\n",
       "      <td>Saturday</td>\n",
       "      <td>17</td>\n",
       "      <td>30</td>\n",
       "      <td>Apr</td>\n",
       "      <td>2005</td>\n",
       "    </tr>\n",
       "  </tbody>\n",
       "</table>\n",
       "</div>"
      ],
      "text/plain": [
       "  START_DATE  REPORT_DAT    END_DATE                     OFFENSE DAY_OF_WEEK  \\\n",
       "0 2008-12-28  2009-01-12         NaN                    BURGLARY      Sunday   \n",
       "1 2009-11-06  2009-11-12  2009-11-12         MOTOR VEHICLE THEFT      Friday   \n",
       "2 2009-12-06  2009-12-06  2009-12-06                THEFT F/AUTO      Sunday   \n",
       "3 2002-01-26  2009-10-20  2002-01-26                 THEFT/OTHER    Saturday   \n",
       "4 2005-04-30  2009-10-20  2005-04-30  ASSAULT W/DANGEROUS WEAPON    Saturday   \n",
       "\n",
       "   WEEK_NUMBER  DAY MONTH  YEAR  \n",
       "0           52   28   Dec  2008  \n",
       "1           45    6   Nov  2009  \n",
       "2           49    6   Dec  2009  \n",
       "3            4   26   Jan  2002  \n",
       "4           17   30   Apr  2005  "
      ]
     },
     "execution_count": 8,
     "metadata": {},
     "output_type": "execute_result"
    }
   ],
   "source": [
    "#Determine Day of the week and Week number\n",
    "#Use the to_datetime function of Pandas\n",
    "dc_crimes_df['START_DATE'] = pd.to_datetime(dc_crimes_df['START_DATE'])\n",
    "dc_crimes_df['DAY_OF_WEEK'] = dc_crimes_df['START_DATE'].dt.day_name()\n",
    "dc_crimes_df['WEEK_NUMBER'] = dc_crimes_df['START_DATE'].dt.week\n",
    "\n",
    "\n",
    "#Splitting the Day, Month and Year to new columns\n",
    "dc_crimes_df['DAY'] = dc_crimes_df ['START_DATE'].dt.day\n",
    "dc_crimes_df['MONTH'] = dc_crimes_df['START_DATE'].dt.month\n",
    "dc_crimes_df['YEAR'] = dc_crimes_df['START_DATE'].dt.year\n",
    "\n",
    "#The above conversions result in float values - Convert them to integers\n",
    "dc_crimes_df['WEEK_NUMBER']=dc_crimes_df['WEEK_NUMBER'].fillna(0.0).astype(int)\n",
    "dc_crimes_df['DAY']=dc_crimes_df['DAY'].fillna(0.0).astype(int)\n",
    "dc_crimes_df['MONTH']=dc_crimes_df['MONTH'].fillna(0.0).astype(int)\n",
    "dc_crimes_df['YEAR']=dc_crimes_df['YEAR'].fillna(0.0).astype(int)\n",
    "\n",
    "dc_crimes_df['MONTH'] = dc_crimes_df['MONTH'].apply(lambda x: calendar.month_abbr[x])\n",
    "\n",
    "#Display the output\n",
    "dc_crimes_df[[\"START_DATE\",\"REPORT_DAT\",\"END_DATE\",\"OFFENSE\",\"DAY_OF_WEEK\",\"WEEK_NUMBER\",\"DAY\",\"MONTH\",\"YEAR\"]].head()\n",
    "#dc_crimes_df.Day.dtype"
   ]
  },
  {
   "cell_type": "code",
   "execution_count": 9,
   "metadata": {},
   "outputs": [],
   "source": [
    "#Converting data types\n",
    "dc_crimes_df['REPORT_DAT'] = pd.to_datetime(dc_crimes_df['REPORT_DAT'])\n",
    "dc_crimes_df['START_DATE'] = pd.to_datetime(dc_crimes_df['START_DATE'])\n"
   ]
  },
  {
   "cell_type": "code",
   "execution_count": 10,
   "metadata": {},
   "outputs": [
    {
     "data": {
      "text/plain": [
       "CCN                     374403\n",
       "REPORT_DAT              374403\n",
       "SHIFT                   374403\n",
       "METHOD                  374403\n",
       "OFFENSE                 374403\n",
       "BLOCK                   374402\n",
       "WARD                    374392\n",
       "DISTRICT                374201\n",
       "PSA                     374173\n",
       "NEIGHBORHOOD_CLUSTER    369548\n",
       "LATITUDE                374403\n",
       "LONGITUDE               374403\n",
       "START_DATE              374393\n",
       "END_DATE                352236\n",
       "DAY_OF_WEEK             374393\n",
       "WEEK_NUMBER             374403\n",
       "DAY                     374403\n",
       "MONTH                   374403\n",
       "YEAR                    374403\n",
       "dtype: int64"
      ]
     },
     "execution_count": 10,
     "metadata": {},
     "output_type": "execute_result"
    }
   ],
   "source": [
    "# Drop the unnecessary columns\n",
    "dc_crimes_df.drop(['XBLOCK', 'YBLOCK','Start_Time','Report_Time','End_Time',\n",
    "                   'X','Y','ANC','BLOCK_GROUP',\n",
    "                   'CENSUS_TRACT','VOTING_PRECINCT',\n",
    "                   'BID','OBJECTID','OCTO_RECORD_ID','BID'],axis=1,inplace=True)\n",
    "dc_crimes_df.count()"
   ]
  },
  {
   "cell_type": "code",
   "execution_count": 11,
   "metadata": {
    "scrolled": false
   },
   "outputs": [],
   "source": [
    "#Reorganizing the columns\n",
    "dc_crimes_df=dc_crimes_df[[\"CCN\",\"START_DATE\",\"END_DATE\",\"DAY_OF_WEEK\",\"WEEK_NUMBER\",\"DAY\",\"MONTH\",\"YEAR\",\n",
    "                            \"LATITUDE\",\"LONGITUDE\",\"BLOCK\",\"NEIGHBORHOOD_CLUSTER\",\n",
    "                            \"METHOD\",\"OFFENSE\",\"PSA\",\n",
    "                            \"SHIFT\",\"WARD\",\"DISTRICT\",\n",
    "                            \"REPORT_DAT\"]]"
   ]
  },
  {
   "cell_type": "code",
   "execution_count": 12,
   "metadata": {},
   "outputs": [
    {
     "data": {
      "text/plain": [
       "CCN                         0\n",
       "START_DATE                 10\n",
       "END_DATE                22167\n",
       "DAY_OF_WEEK                10\n",
       "WEEK_NUMBER                 0\n",
       "DAY                         0\n",
       "MONTH                       0\n",
       "YEAR                        0\n",
       "LATITUDE                    0\n",
       "LONGITUDE                   0\n",
       "BLOCK                       1\n",
       "NEIGHBORHOOD_CLUSTER     4855\n",
       "METHOD                      0\n",
       "OFFENSE                     0\n",
       "PSA                       230\n",
       "SHIFT                       0\n",
       "WARD                       11\n",
       "DISTRICT                  202\n",
       "REPORT_DAT                  0\n",
       "dtype: int64"
      ]
     },
     "execution_count": 12,
     "metadata": {},
     "output_type": "execute_result"
    }
   ],
   "source": [
    "#Find the columns that have null values in them - Find the count of null values in a column\n",
    "dc_crimes_df.isna().sum()"
   ]
  },
  {
   "cell_type": "code",
   "execution_count": 13,
   "metadata": {},
   "outputs": [
    {
     "data": {
      "text/plain": [
       "CCN                         0\n",
       "START_DATE                  0\n",
       "END_DATE                21879\n",
       "DAY_OF_WEEK                 0\n",
       "WEEK_NUMBER                 0\n",
       "DAY                         0\n",
       "MONTH                       0\n",
       "YEAR                        0\n",
       "LATITUDE                    0\n",
       "LONGITUDE                   0\n",
       "BLOCK                       0\n",
       "NEIGHBORHOOD_CLUSTER        0\n",
       "METHOD                      0\n",
       "OFFENSE                     0\n",
       "PSA                         0\n",
       "SHIFT                       0\n",
       "WARD                        0\n",
       "DISTRICT                    0\n",
       "REPORT_DAT                  0\n",
       "dtype: int64"
      ]
     },
     "execution_count": 13,
     "metadata": {},
     "output_type": "execute_result"
    }
   ],
   "source": [
    "#Deleting rows that have null values in them - Retain END_DATE ( to analyze open cases if required)\n",
    "dc_crimes_df = dc_crimes_df.dropna(axis=0, subset=['START_DATE','NEIGHBORHOOD_CLUSTER','BLOCK',\n",
    "                                                  'PSA','WARD','DISTRICT'])\n",
    "dc_crimes_df.isna().sum()"
   ]
  },
  {
   "cell_type": "code",
   "execution_count": 14,
   "metadata": {},
   "outputs": [
    {
     "data": {
      "text/plain": [
       "CCN                     369302\n",
       "START_DATE              369302\n",
       "END_DATE                347423\n",
       "DAY_OF_WEEK             369302\n",
       "WEEK_NUMBER             369302\n",
       "DAY                     369302\n",
       "MONTH                   369302\n",
       "YEAR                    369302\n",
       "LATITUDE                369302\n",
       "LONGITUDE               369302\n",
       "BLOCK                   369302\n",
       "NEIGHBORHOOD_CLUSTER    369302\n",
       "METHOD                  369302\n",
       "OFFENSE                 369302\n",
       "PSA                     369302\n",
       "SHIFT                   369302\n",
       "WARD                    369302\n",
       "DISTRICT                369302\n",
       "REPORT_DAT              369302\n",
       "dtype: int64"
      ]
     },
     "execution_count": 14,
     "metadata": {},
     "output_type": "execute_result"
    }
   ],
   "source": [
    "dc_crimes_df.count()"
   ]
  },
  {
   "cell_type": "code",
   "execution_count": 15,
   "metadata": {
    "scrolled": true
   },
   "outputs": [
    {
     "data": {
      "text/plain": [
       "309430    12\n",
       "309423    12\n",
       "309429    12\n",
       "309428    12\n",
       "309427    12\n",
       "309426    12\n",
       "309431    12\n",
       "309432    12\n",
       "309422    12\n",
       "309425    12\n",
       "309421    12\n",
       "309424    12\n",
       "167875     4\n",
       "167876     4\n",
       "167877     4\n",
       "137384     4\n",
       "31304      3\n",
       "84189      3\n",
       "342712     3\n",
       "84190      3\n",
       "84191      3\n",
       "374379     3\n",
       "342713     3\n",
       "31303      3\n",
       "342711     3\n",
       "374380     3\n",
       "374381     3\n",
       "374386     3\n",
       "374387     3\n",
       "374388     3\n",
       "          ..\n",
       "124873     1\n",
       "124872     1\n",
       "124871     1\n",
       "124870     1\n",
       "124869     1\n",
       "124868     1\n",
       "124867     1\n",
       "124886     1\n",
       "124887     1\n",
       "124888     1\n",
       "124899     1\n",
       "124907     1\n",
       "124906     1\n",
       "124905     1\n",
       "124904     1\n",
       "124903     1\n",
       "124902     1\n",
       "124901     1\n",
       "124900     1\n",
       "124898     1\n",
       "124889     1\n",
       "124897     1\n",
       "124896     1\n",
       "124895     1\n",
       "124894     1\n",
       "124893     1\n",
       "124892     1\n",
       "124891     1\n",
       "124890     1\n",
       "187208     1\n",
       "Name: Dup_CCN, Length: 369302, dtype: int64"
      ]
     },
     "execution_count": 15,
     "metadata": {},
     "output_type": "execute_result"
    }
   ],
   "source": [
    "#Any Duplicate incidents?\n",
    "dc_crimes_df['Dup_CCN'] = dc_crimes_df.groupby('CCN')['CCN'].transform('size')\n",
    "dc_crimes_df['Dup_CCN']\n",
    "dc_crimes_df=dc_crimes_df.sort_values(\"Dup_CCN\",ascending=False)\n",
    "dc_crimes_df['Dup_CCN']"
   ]
  },
  {
   "cell_type": "code",
   "execution_count": 16,
   "metadata": {},
   "outputs": [
    {
     "data": {
      "text/plain": [
       "CCN                     369103\n",
       "START_DATE              369103\n",
       "END_DATE                347242\n",
       "DAY_OF_WEEK             369103\n",
       "WEEK_NUMBER             369103\n",
       "DAY                     369103\n",
       "MONTH                   369103\n",
       "YEAR                    369103\n",
       "LATITUDE                369103\n",
       "LONGITUDE               369103\n",
       "BLOCK                   369103\n",
       "NEIGHBORHOOD_CLUSTER    369103\n",
       "METHOD                  369103\n",
       "OFFENSE                 369103\n",
       "PSA                     369103\n",
       "SHIFT                   369103\n",
       "WARD                    369103\n",
       "DISTRICT                369103\n",
       "REPORT_DAT              369103\n",
       "Dup_CCN                 369103\n",
       "dtype: int64"
      ]
     },
     "execution_count": 16,
     "metadata": {},
     "output_type": "execute_result"
    }
   ],
   "source": [
    "#Delete duplicate Incident Data\n",
    "dc_crimes_df.drop_duplicates(subset =\"CCN\",keep = False, inplace = True)\n",
    "dc_crimes_df['Dup_CCN']\n",
    "dc_crimes_df.count()"
   ]
  },
  {
   "cell_type": "markdown",
   "metadata": {},
   "source": [
    "Outliers :Incidents with a start date before 2009 but were reported after 2009"
   ]
  },
  {
   "cell_type": "code",
   "execution_count": 17,
   "metadata": {},
   "outputs": [
    {
     "data": {
      "text/html": [
       "<div>\n",
       "<style scoped>\n",
       "    .dataframe tbody tr th:only-of-type {\n",
       "        vertical-align: middle;\n",
       "    }\n",
       "\n",
       "    .dataframe tbody tr th {\n",
       "        vertical-align: top;\n",
       "    }\n",
       "\n",
       "    .dataframe thead th {\n",
       "        text-align: right;\n",
       "    }\n",
       "</style>\n",
       "<table border=\"1\" class=\"dataframe\">\n",
       "  <thead>\n",
       "    <tr style=\"text-align: right;\">\n",
       "      <th></th>\n",
       "      <th>CCN</th>\n",
       "      <th>REPORT_DAT</th>\n",
       "      <th>START_DATE</th>\n",
       "      <th>END_DATE</th>\n",
       "      <th>OFFENSE</th>\n",
       "      <th>YEAR</th>\n",
       "    </tr>\n",
       "  </thead>\n",
       "  <tbody>\n",
       "    <tr>\n",
       "      <th>96652</th>\n",
       "      <td>14007964</td>\n",
       "      <td>2014-01-17</td>\n",
       "      <td>1800-01-16</td>\n",
       "      <td>2014-01-17</td>\n",
       "      <td>THEFT/OTHER</td>\n",
       "      <td>1800</td>\n",
       "    </tr>\n",
       "    <tr>\n",
       "      <th>259657</th>\n",
       "      <td>12118874</td>\n",
       "      <td>2012-08-22</td>\n",
       "      <td>1912-08-22</td>\n",
       "      <td>2012-08-22</td>\n",
       "      <td>THEFT/OTHER</td>\n",
       "      <td>1912</td>\n",
       "    </tr>\n",
       "    <tr>\n",
       "      <th>261553</th>\n",
       "      <td>12131446</td>\n",
       "      <td>2012-09-16</td>\n",
       "      <td>1912-09-16</td>\n",
       "      <td>2012-09-16</td>\n",
       "      <td>THEFT/OTHER</td>\n",
       "      <td>1912</td>\n",
       "    </tr>\n",
       "    <tr>\n",
       "      <th>119019</th>\n",
       "      <td>14148057</td>\n",
       "      <td>2014-09-27</td>\n",
       "      <td>1914-09-26</td>\n",
       "      <td>2014-09-27</td>\n",
       "      <td>THEFT/OTHER</td>\n",
       "      <td>1914</td>\n",
       "    </tr>\n",
       "    <tr>\n",
       "      <th>164351</th>\n",
       "      <td>15402513</td>\n",
       "      <td>2015-12-08</td>\n",
       "      <td>1915-09-17</td>\n",
       "      <td>2015-09-17</td>\n",
       "      <td>THEFT/OTHER</td>\n",
       "      <td>1915</td>\n",
       "    </tr>\n",
       "    <tr>\n",
       "      <th>151835</th>\n",
       "      <td>15145586</td>\n",
       "      <td>2015-09-15</td>\n",
       "      <td>1915-08-30</td>\n",
       "      <td>2015-09-14</td>\n",
       "      <td>THEFT/OTHER</td>\n",
       "      <td>1915</td>\n",
       "    </tr>\n",
       "    <tr>\n",
       "      <th>136531</th>\n",
       "      <td>15038309</td>\n",
       "      <td>2015-03-19</td>\n",
       "      <td>1915-03-18</td>\n",
       "      <td>2015-03-18</td>\n",
       "      <td>MOTOR VEHICLE THEFT</td>\n",
       "      <td>1915</td>\n",
       "    </tr>\n",
       "    <tr>\n",
       "      <th>160140</th>\n",
       "      <td>15168916</td>\n",
       "      <td>2015-10-24</td>\n",
       "      <td>1915-10-17</td>\n",
       "      <td>2015-10-18</td>\n",
       "      <td>THEFT F/AUTO</td>\n",
       "      <td>1915</td>\n",
       "    </tr>\n",
       "    <tr>\n",
       "      <th>159005</th>\n",
       "      <td>15172902</td>\n",
       "      <td>2015-10-30</td>\n",
       "      <td>1915-10-16</td>\n",
       "      <td>NaN</td>\n",
       "      <td>THEFT/OTHER</td>\n",
       "      <td>1915</td>\n",
       "    </tr>\n",
       "    <tr>\n",
       "      <th>157258</th>\n",
       "      <td>15161356</td>\n",
       "      <td>2015-10-11</td>\n",
       "      <td>1915-10-10</td>\n",
       "      <td>2015-10-11</td>\n",
       "      <td>MOTOR VEHICLE THEFT</td>\n",
       "      <td>1915</td>\n",
       "    </tr>\n",
       "  </tbody>\n",
       "</table>\n",
       "</div>"
      ],
      "text/plain": [
       "             CCN REPORT_DAT START_DATE    END_DATE              OFFENSE  YEAR\n",
       "96652   14007964 2014-01-17 1800-01-16  2014-01-17          THEFT/OTHER  1800\n",
       "259657  12118874 2012-08-22 1912-08-22  2012-08-22          THEFT/OTHER  1912\n",
       "261553  12131446 2012-09-16 1912-09-16  2012-09-16          THEFT/OTHER  1912\n",
       "119019  14148057 2014-09-27 1914-09-26  2014-09-27          THEFT/OTHER  1914\n",
       "164351  15402513 2015-12-08 1915-09-17  2015-09-17          THEFT/OTHER  1915\n",
       "151835  15145586 2015-09-15 1915-08-30  2015-09-14          THEFT/OTHER  1915\n",
       "136531  15038309 2015-03-19 1915-03-18  2015-03-18  MOTOR VEHICLE THEFT  1915\n",
       "160140  15168916 2015-10-24 1915-10-17  2015-10-18         THEFT F/AUTO  1915\n",
       "159005  15172902 2015-10-30 1915-10-16         NaN          THEFT/OTHER  1915\n",
       "157258  15161356 2015-10-11 1915-10-10  2015-10-11  MOTOR VEHICLE THEFT  1915"
      ]
     },
     "execution_count": 17,
     "metadata": {},
     "output_type": "execute_result"
    }
   ],
   "source": [
    "# There are some incidents that started before 2009 but were reported after 2009\n",
    "error_data=dc_crimes_df.loc[dc_crimes_df[\"YEAR\"]<2009,:]\n",
    "error_data[[\"CCN\",\"REPORT_DAT\",\"START_DATE\",\"END_DATE\",\"OFFENSE\",\"YEAR\"]]\n",
    "error_data_sorted=error_data.sort_values(\"YEAR\")\n",
    "error_data_sorted[[\"CCN\",\"REPORT_DAT\",\"START_DATE\",\"END_DATE\",\"OFFENSE\",\"YEAR\"]].head(10)"
   ]
  },
  {
   "cell_type": "markdown",
   "metadata": {},
   "source": [
    "Are these start dates in error or were these unsolved crimes recently solved through new technology advancements? \n",
    "Is it truly a 100-year-old cold case, or did the person simply enter the wrong century? "
   ]
  },
  {
   "cell_type": "code",
   "execution_count": 18,
   "metadata": {},
   "outputs": [
    {
     "data": {
      "text/plain": [
       "CCN                     368725\n",
       "START_DATE              368725\n",
       "END_DATE                346876\n",
       "DAY_OF_WEEK             368725\n",
       "WEEK_NUMBER             368725\n",
       "DAY                     368725\n",
       "MONTH                   368725\n",
       "YEAR                    368725\n",
       "LATITUDE                368725\n",
       "LONGITUDE               368725\n",
       "BLOCK                   368725\n",
       "NEIGHBORHOOD_CLUSTER    368725\n",
       "METHOD                  368725\n",
       "OFFENSE                 368725\n",
       "PSA                     368725\n",
       "SHIFT                   368725\n",
       "WARD                    368725\n",
       "DISTRICT                368725\n",
       "REPORT_DAT              368725\n",
       "Dup_CCN                 368725\n",
       "dtype: int64"
      ]
     },
     "execution_count": 18,
     "metadata": {},
     "output_type": "execute_result"
    }
   ],
   "source": [
    "#Deleting these 378 rows\n",
    "dc_crimes_df.count()\n",
    "dc_crimes_df.drop(dc_crimes_df[dc_crimes_df.YEAR < 2009].index, inplace=True)\n",
    "dc_crimes_df.count()"
   ]
  },
  {
   "cell_type": "markdown",
   "metadata": {},
   "source": [
    "# Analysis"
   ]
  },
  {
   "cell_type": "markdown",
   "metadata": {},
   "source": [
    "# Analyzing the Crime Rate"
   ]
  },
  {
   "cell_type": "code",
   "execution_count": 19,
   "metadata": {
    "scrolled": false
   },
   "outputs": [
    {
     "name": "stdout",
     "output_type": "stream",
     "text": [
      "Total number of Crimes for each category of offense\n",
      "\n",
      "OFFENSE\n",
      "ARSON                            273\n",
      "ASSAULT W/DANGEROUS WEAPON     23409\n",
      "BURGLARY                       29863\n",
      "HOMICIDE                        1243\n",
      "MOTOR VEHICLE THEFT            31789\n",
      "ROBBERY                        34671\n",
      "SEX ABUSE                       2595\n",
      "THEFT F/AUTO                  105710\n",
      "THEFT/OTHER                   139172\n",
      "Name: CCN, dtype: int64\n",
      "\n",
      "\n",
      "Percentage of Crimes for each category of offense\n",
      "\n",
      "OFFENSE\n",
      "ARSON                          0.074039\n",
      "ASSAULT W/DANGEROUS WEAPON     6.348634\n",
      "BURGLARY                       8.098990\n",
      "HOMICIDE                       0.337108\n",
      "MOTOR VEHICLE THEFT            8.621330\n",
      "ROBBERY                        9.402943\n",
      "SEX ABUSE                      0.703777\n",
      "THEFT F/AUTO                  28.669062\n",
      "THEFT/OTHER                   37.744118\n",
      "Name: CCN, dtype: float64\n"
     ]
    },
    {
     "data": {
      "text/plain": [
       "368725"
      ]
     },
     "execution_count": 19,
     "metadata": {},
     "output_type": "execute_result"
    }
   ],
   "source": [
    "#Total Crimes\n",
    "t_crimes=len(dc_crimes_df[\"CCN\"].unique())\n",
    "t_crimes\n",
    "\n",
    "crime_rate = dc_crimes_df.groupby('OFFENSE')\n",
    "crime_rate.count().head()\n",
    "c_crime_rate=crime_rate.CCN.count()\n",
    "print(\"Total number of Crimes for each category of offense\\n\")\n",
    "print(c_crime_rate)\n",
    "print(\"\\n\")\n",
    "print(\"Percentage of Crimes for each category of offense\\n\")\n",
    "p_crime_rate=(crime_rate.CCN.count()/t_crimes)*100\n",
    "print(p_crime_rate)\n",
    "t_crimes"
   ]
  },
  {
   "cell_type": "code",
   "execution_count": 20,
   "metadata": {},
   "outputs": [
    {
     "data": {
      "image/png": "[encoded data removed]",
      "text/plain": [
       "<Figure size 432x288 with 1 Axes>"
      ]
     },
     "metadata": {
      "needs_background": "light"
     },
     "output_type": "display_data"
    }
   ],
   "source": [
    "#Offense Plot - Bar Graph\n",
    "crime_rate_df=pd.DataFrame(p_crime_rate)\n",
    "crime_rate_df\n",
    "fig = crime_rate_df[\"CCN\"].plot(kind=\"barh\") \n",
    "plt.xlabel('Percentage of Crimes Committed')\n",
    "plt.title(\"Crimes in Washington D.C\")\n",
    "plt.show()"
   ]
  },
  {
   "cell_type": "code",
   "execution_count": 67,
   "metadata": {},
   "outputs": [
    {
     "data": {
      "text/plain": [
       "DISTRICT\n",
       "1.0    52623\n",
       "2.0    66720\n",
       "3.0    68214\n",
       "4.0    47684\n",
       "5.0    48430\n",
       "6.0    49131\n",
       "7.0    35923\n",
       "Name: CCN, dtype: int64"
      ]
     },
     "execution_count": 67,
     "metadata": {},
     "output_type": "execute_result"
    }
   ],
   "source": [
    "year_count = dc_crimes_df.groupby(['YEAR'])['CCN'].count()\n",
    "year_count\n",
    "month_count = dc_crimes_df.groupby(['MONTH'])['CCN'].count()\n",
    "month_count = month_count.reindex(index=['Jan','Feb', 'Mar', 'Apr', 'May', 'Jun', 'Jul','Aug','Sep','Oct','Nov','Dec'])\n",
    "    \n",
    "day_count = dc_crimes_df.groupby(['DAY_OF_WEEK'])['CCN'].count()\n",
    "day_count = day_count.reindex(index=['Sunday','Monday', 'Tuesday', 'Wednesday', 'Thursday', 'Friday', 'Saturday'])\n",
    "day_count\n",
    "district_count = dc_crimes_df.groupby(['DISTRICT'])['CCN'].count()\n",
    "district_count"
   ]
  },
  {
   "cell_type": "code",
   "execution_count": 68,
   "metadata": {},
   "outputs": [],
   "source": [
    "# Function to plot graphs\n",
    "def make_plot(var, xlabel, ylabel, title):\n",
    "    sns.set(style=\"darkgrid\")\n",
    "    norm = plt.Normalize(0, var.values.max())\n",
    "    colors = plt.cm.Reds(norm(var.values))\n",
    "    plt.figure(figsize=(8, 5))\n",
    "    ax = sns.barplot(var.index, var.values, palette=colors)\n",
    "    ax.set(ylabel=ylabel, xlabel=xlabel)\n",
    "    plt.title(title)\n",
    "    # save plot to an image\n",
    "    #plt.savefig(images_path + image_name)\n",
    "    plt.show()"
   ]
  },
  {
   "cell_type": "code",
   "execution_count": 69,
   "metadata": {},
   "outputs": [
    {
     "data": {
      "image/png": "[encoded data removed]",
      "text/plain": [
       "<Figure size 576x360 with 1 Axes>"
      ]
     },
     "metadata": {},
     "output_type": "display_data"
    },
    {
     "data": {
      "image/png": "[encoded data removed]",
      "text/plain": [
       "<Figure size 576x360 with 1 Axes>"
      ]
     },
     "metadata": {},
     "output_type": "display_data"
    },
    {
     "data": {
      "image/png": "[encoded data removed]",
      "text/plain": [
       "<Figure size 576x360 with 1 Axes>"
      ]
     },
     "metadata": {},
     "output_type": "display_data"
    },
    {
     "data": {
      "image/png": "[encoded data removed]",
      "text/plain": [
       "<Figure size 576x360 with 1 Axes>"
      ]
     },
     "metadata": {},
     "output_type": "display_data"
    }
   ],
   "source": [
    "#Plotting graphs\n",
    "make_plot(year_count, 'Year', 'Total Number of Crimes','Crime frequency by year')\n",
    "make_plot(month_count, 'Month', 'Total Number of Crimes','Crime frequency by month')\n",
    "make_plot(day_count, 'Day', 'Total Number of Crimes','Crime frequency by day')\n",
    "make_plot(district_count, 'District', 'Total Number of Crimes','Crime frequency by district')"
   ]
  },
  {
   "cell_type": "code",
   "execution_count": 46,
   "metadata": {},
   "outputs": [
    {
     "data": {
      "text/plain": [
       "SHIFT\n",
       "DAY         139868\n",
       "EVENING     157274\n",
       "MIDNIGHT     71583\n",
       "Name: CCN, dtype: int64"
      ]
     },
     "execution_count": 46,
     "metadata": {},
     "output_type": "execute_result"
    }
   ],
   "source": [
    "#Total Crimes\n",
    "t_crimes=len(dc_crimes_df[\"CCN\"].unique())\n",
    "t_crimes\n",
    "\n",
    "s_crime_rate = dc_crimes_df.groupby('SHIFT')\n",
    "s_crime_rate.count().head()\n",
    "s_crime_rate=s_crime_rate.CCN.count()\n",
    "s_crime_rate\n",
    "#print(\"Total number of Crimes for each category of offense\\n\")\n",
    "#print(s_crime_rate)\n",
    "# print(\"\\n\")\n",
    "# print(\"Percentage of Crimes for each category of offense\\n\")\n",
    "# p_crime_rate=(crime_rate.CCN.count()/t_crimes)*100\n",
    "# print(p_crime_rate)"
   ]
  },
  {
   "cell_type": "code",
   "execution_count": null,
   "metadata": {
    "scrolled": false
   },
   "outputs": [],
   "source": [
    "#Time to report a crime\n",
    "#dc_crimes_df['TIME_TO_REPORT'] = (dc_crimes_df['REPORT_DAT'] - dc_crimes_df['END_DATE'])"
   ]
  },
  {
   "cell_type": "code",
   "execution_count": null,
   "metadata": {},
   "outputs": [],
   "source": [
    "# #Group crimes by WARD and Offense\n",
    "# w_crime_df= dc_crimes_df.groupby('WARD')['OFFENSE'].value_counts()\n",
    "# w_crime_df"
   ]
  },
  {
   "cell_type": "code",
   "execution_count": null,
   "metadata": {},
   "outputs": [],
   "source": [
    "# #Group crimes by neighbourhood cluster and offense\n",
    "# n_crime_df = dc_crimes_df.groupby('NEIGHBORHOOD_CLUSTER')['OFFENSE'].value_counts()\n",
    "# n_crime_df"
   ]
  },
  {
   "cell_type": "markdown",
   "metadata": {},
   "source": [
    "# Analyzing the trend for different types of Offenses over the years"
   ]
  },
  {
   "cell_type": "code",
   "execution_count": null,
   "metadata": {},
   "outputs": [],
   "source": [
    "#THEFT/OTHER                   141605\n",
    "#THEFT F/AUTO                  106850\n",
    "#ROBBERY                        35171\n",
    "#MOTOR VEHICLE THEFT            32388\n",
    "#BURGLARY                       30229\n",
    "#ASSAULT W/DANGEROUS WEAPON     23757\n",
    "#SEX ABUSE                       2750\n",
    "#HOMICIDE                        1374\n",
    "#ARSON                            279\n",
    "#dc_crimes_df.columns"
   ]
  },
  {
   "cell_type": "code",
   "execution_count": 54,
   "metadata": {},
   "outputs": [
    {
     "data": {
      "text/plain": [
       "[2009, 2010, 2011, 2012, 2013, 2014, 2015, 2016, 2017, 2018, 2019]"
      ]
     },
     "execution_count": 54,
     "metadata": {},
     "output_type": "execute_result"
    }
   ],
   "source": [
    "# gather yearly count of \"Theft from Vehicle\" crime \n",
    "theft = dc_crimes_df[dc_crimes_df[\"OFFENSE\"]==\"THEFT/OTHER\"]\n",
    "theft_yearly= theft[\"YEAR\"].value_counts(sort=False)\n",
    "theft_index = theft_yearly.index.tolist()\n",
    "theft_index"
   ]
  },
  {
   "cell_type": "code",
   "execution_count": 55,
   "metadata": {},
   "outputs": [
    {
     "data": {
      "image/png": "[encoded data removed]",
      "text/plain": [
       "<Figure size 432x288 with 1 Axes>"
      ]
     },
     "metadata": {},
     "output_type": "display_data"
    }
   ],
   "source": [
    "# plot the \"Theft from Vehicle\" trend from 2009 to 2019 \n",
    "# plotting the line 2 points  \n",
    "import matplotlib.pylab as pylab\n",
    "plt.scatter(theft_index, theft_yearly, label = \"Trend for Theft\") \n",
    "\n",
    "# calc the trendline\n",
    "trendline = np.polyfit(theft_index, theft_yearly, 1)\n",
    "p = np.poly1d(trendline)\n",
    "pylab.plot(theft_index,p(theft_index),\"r--\", label=\"trend\")\n",
    "\n",
    "# configuration\n",
    "plt.xlabel('Year')\n",
    "plt.ylabel('Number of thefts')\n",
    "plt.title('Trend of Offense type - Theft from 2009 to 2019') \n",
    "plt.legend()\n",
    "plt.xticks(theft_index, rotation='vertical')\n",
    "plt.show()"
   ]
  },
  {
   "cell_type": "code",
   "execution_count": null,
   "metadata": {},
   "outputs": [],
   "source": [
    "copy_df=dc_crimes_df.copy()\n",
    "copy_df[['BLOCK','Street_Name']] = dc_crimes_df['BLOCK'].str.split('BLOCK OF ',expand=True)\n",
    "copy_df[['BLOCK','Street_Name']].head(2)\n",
    "#copy_df.loc[copy_df[\"Street_Name\"]==\"None\",:]"
   ]
  },
  {
   "cell_type": "code",
   "execution_count": null,
   "metadata": {
    "scrolled": false
   },
   "outputs": [],
   "source": [
    "copy_df[\"Street_Name\"].value_counts()[:5].plot.bar(title='Top 10 Dangerous Blocks')"
   ]
  },
  {
   "cell_type": "code",
   "execution_count": null,
   "metadata": {},
   "outputs": [],
   "source": [
    "plt.scatter(dc_crimes_df['LONGITUDE'], dc_crimes_df['LATITUDE'], s=0.5, alpha=0.3, color=\"brown\", lw=0)"
   ]
  },
  {
   "cell_type": "code",
   "execution_count": null,
   "metadata": {},
   "outputs": [],
   "source": [
    "#fig = crime_rate_df[\"CCN\"].plot(kind=\"bar\", figsize = (20,10), rot=75) \n",
    "\n",
    "#fig.set_title(\"Frequency of Crimes by Category\", fontsize=15, weight = \"bold\")\n",
    "#fig.set_ylabel(\"Percentage of Crimes\", fontsize=12)\n",
    "#plt.savefig('../plot/04.perc_crime_category_2016.png')\n",
    "#plt.show()"
   ]
  },
  {
   "cell_type": "code",
   "execution_count": null,
   "metadata": {},
   "outputs": [],
   "source": [
    "#Export the city data into a .csv. -\"Should be the final step\"\n",
    "#dc_crimes_df.to_csv(\"../dc_crimes.csv\",index=False,header=True,encoding='utf-8-sig')\n",
    "#encoding also exports any non-english data"
   ]
  },
  {
   "cell_type": "code",
   "execution_count": null,
   "metadata": {},
   "outputs": [],
   "source": [
    "dc_crimes_df"
   ]
  },
  {
   "cell_type": "code",
   "execution_count": null,
   "metadata": {},
   "outputs": [],
   "source": [
    "# Percent Changes\n",
    "v_offense=dc_crimes_df[\"OFFENSE\"].unique()\n",
    "data_2018=dc_crimes_df.loc[dc_crimes_df[\"YEAR\"]==2018]\n",
    "data_2018_burglary[\"OFFENSE\"].unique()\n"
   ]
  },
  {
   "cell_type": "code",
   "execution_count": null,
   "metadata": {},
   "outputs": [],
   "source": [
    "# #Crime Count for every year\n",
    "# crime_2019 = dc_crimes_df.loc[dc_crimes_df[\"YEAR\"]==2019]\n",
    "# crime_2019 = crime_2019.groupby(\"OFFENSE\").count().reset_index()\n",
    "crime_2019 = crime_2019[[\"OFFENSE\",\"CCN\"]\n",
    "\n",
    "# crime_2018 = dc_crimes_df.loc[dc_crimes_df[\"YEAR\"]==2018]\n",
    "# crime_2018 = crime_2018.groupby(\"OFFENSE\").count().reset_index()\n",
    "# crime_2018 = crime_2018[\"CCN\"]\n",
    "\n",
    "# crime_2017 = dc_crimes_df.loc[dc_crimes_df[\"YEAR\"]==2017]\n",
    "# crime_2017 = crime_2017.groupby(\"OFFENSE\").count().reset_index()\n",
    "# crime_2017 = crime_2017[\"CCN\"]\n",
    "\n",
    "# crime_2016 = dc_crimes_df.loc[dc_crimes_df[\"YEAR\"]==2016]\n",
    "# crime_2016 = crime_2016.groupby(\"OFFENSE\").count().reset_index()\n",
    "# crime_2016 = crime_2016[\"CCN\"]\n",
    "\n",
    "# crime_2015 = dc_crimes_df.loc[dc_crimes_df[\"YEAR\"]==2015]\n",
    "# crime_2015 = crime_2015.groupby(\"OFFENSE\").count().reset_index()\n",
    "# crime_2015 = crime_2015[\"CCN\"]\n",
    "\n",
    "# crime_2014 = dc_crimes_df.loc[dc_crimes_df[\"YEAR\"]==2014]\n",
    "# crime_2014 = crime_2014.groupby(\"OFFENSE\").count().reset_index()\n",
    "# crime_2014 = crime_2014[\"CCN\"]\n",
    "\n",
    "# crime_2013 = dc_crimes_df.loc[dc_crimes_df[\"YEAR\"]==2013]\n",
    "# crime_2013 = crime_2013.groupby(\"OFFENSE\").count().reset_index()\n",
    "# crime_2013 = crime_2013[\"CCN\"]\n",
    "\n",
    "# crime_2012 = dc_crimes_df.loc[dc_crimes_df[\"YEAR\"]==2012]\n",
    "# crime_2012 = crime_2012.groupby(\"OFFENSE\").count().reset_index()\n",
    "# crime_2012 = crime_2012[\"CCN\"]\n",
    "\n",
    "# crime_2011 = dc_crimes_df.loc[dc_crimes_df[\"YEAR\"]==2011]\n",
    "# crime_2011 = crime_2011.groupby(\"OFFENSE\").count().reset_index()\n",
    "# crime_2011 = crime_2011[\"CCN\"]\n",
    "\n",
    "# crime_2010 = dc_crimes_df.loc[dc_crimes_df[\"YEAR\"]==2010]\n",
    "# crime_2010 = crime_2010.groupby(\"OFFENSE\").count().reset_index()\n",
    "# crime_2010 = crime_2010[\"CCN\"]\n",
    "\n",
    "# crime_2009 = dc_crimes_df.loc[dc_crimes_df[\"YEAR\"]==2009]\n",
    "# crime_2009 = crime_2009.groupby(\"OFFENSE\").count().reset_index()\n",
    "# crime_2009 = crime_2009[\"CCN\"]\n",
    "\n",
    "# off=dc_crimes_df[\"OFFENSE\"].unique()\n",
    "\n",
    "# yearly_count_df=pd.DataFrame({\"OFFENSES\":off,\n",
    "#                              \"2009\":crime_2009,\n",
    "#                              \"2010\":crime_2010,\n",
    "#                              \"2011\":crime_2011,\n",
    "#                              \"2012\":crime_2012,\n",
    "#                              \"2013\":crime_2013,\n",
    "#                              \"2014\":crime_2014,\n",
    "#                              \"2015\":crime_2015,\n",
    "#                              \"2016\":crime_2016,\n",
    "#                              \"2017\":crime_2017,\n",
    "#                              \"2018\":crime_2018,\n",
    "#                              \"2019\":crime_2019})\n",
    "# yearly_count_df\n",
    "\n",
    "# #crime_2010 = crime_2010.rename(columns={\"crm_cd_1\": \"2010 Crime count\"})"
   ]
  },
  {
   "cell_type": "code",
   "execution_count": null,
   "metadata": {},
   "outputs": [],
   "source": []
  }
 ],
 "metadata": {
  "kernelspec": {
   "display_name": "Python 3",
   "language": "python",
   "name": "python3"
  },
  "language_info": {
   "codemirror_mode": {
    "name": "ipython",
    "version": 3
   },
   "file_extension": ".py",
   "mimetype": "text/x-python",
   "name": "python",
   "nbconvert_exporter": "python",
   "pygments_lexer": "ipython3",
   "version": "3.7.3"
  }
 },
 "nbformat": 4,
 "nbformat_minor": 2
}

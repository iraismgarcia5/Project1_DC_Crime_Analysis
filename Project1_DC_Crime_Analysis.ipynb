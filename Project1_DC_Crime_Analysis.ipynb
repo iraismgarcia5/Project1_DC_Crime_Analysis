{
 "cells": [
  {
   "cell_type": "code",
   "execution_count": 2,
   "metadata": {
    "scrolled": true
   },
   "outputs": [],
   "source": [
    "# Dependencies and Setup\n",
    "%matplotlib inline\n",
    "import matplotlib.pyplot as plt\n",
    "import uszipcode\n",
    "from pprint import pprint\n",
    "import pandas as pd\n",
    "import numpy as np\n",
    "from citipy import citipy\n",
    "from scipy.stats import sem"
   ]
  },
  {
   "cell_type": "code",
   "execution_count": 3,
   "metadata": {},
   "outputs": [],
   "source": [
    "#Dependencies to merge the csv's\n",
    "#Import packages\n",
    "import os\n",
    "import glob\n",
    "import csv"
   ]
  },
  {
   "cell_type": "code",
   "execution_count": 4,
   "metadata": {},
   "outputs": [],
   "source": [
    "# Hide warning messages in notebook\n",
    "import warnings\n",
    "warnings.filterwarnings('ignore')"
   ]
  },
  {
   "cell_type": "code",
   "execution_count": 5,
   "metadata": {},
   "outputs": [],
   "source": [
    "# Files to Load\n",
    "#File for 2019\n",
    "csv_2019_df=pd.read_csv(\"../Project1_DC_Crime_Analysis/Resources/Crime_Incidents_in_2019.csv\")\n",
    "#File for 2018\n",
    "csv_2018_df=pd.read_csv(\"../Project1_DC_Crime_Analysis/Resources/Crime_Incidents_in_2018.csv\")\n",
    "#File for 2017\n",
    "csv_2017_df=pd.read_csv(\"../Project1_DC_Crime_Analysis/Resources/Crime_Incidents_in_2017.csv\")\n",
    "#File for 2016\n",
    "csv_2016_df=pd.read_csv(\"../Project1_DC_Crime_Analysis/Resources/Crime_Incidents_in_2016.csv\")\n",
    "#File for 2015\n",
    "csv_2015_df=pd.read_csv(\"../Project1_DC_Crime_Analysis/Resources/Crime_Incidents_in_2015.csv\")\n",
    "#File for 2014\n",
    "csv_2014_df=pd.read_csv(\"../Project1_DC_Crime_Analysis/Resources/Crime_Incidents_in_2014.csv\")\n",
    "#File for 2013\n",
    "csv_2013_df=pd.read_csv(\"../Project1_DC_Crime_Analysis/Resources/Crime_Incidents_in_2013.csv\")\n",
    "#File for 2012\n",
    "csv_2012_df=pd.read_csv(\"../Project1_DC_Crime_Analysis/Resources/Crime_Incidents_in_2012.csv\")\n",
    "#File for 2011\n",
    "csv_2011_df=pd.read_csv(\"../Project1_DC_Crime_Analysis/Resources/Crime_Incidents_in_2011.csv\")\n",
    "#File for 2010\n",
    "csv_2010_df=pd.read_csv(\"../Project1_DC_Crime_Analysis/Resources/Crime_Incidents_in_2010.csv\")\n",
    "#File for 2009\n",
    "csv_2009_df=pd.read_csv(\"../Project1_DC_Crime_Analysis/Resources/Crime_Incidents_in_2009.csv\")"
   ]
  },
  {
   "cell_type": "code",
   "execution_count": 6,
   "metadata": {},
   "outputs": [],
   "source": [
    "#Count the number of rows in each file\n",
    "#csv_2019_df[\"REPORT_DAT\"].count() #27145\n",
    "#csv_2018_df[\"REPORT_DAT\"].count() #33783\n",
    "#csv_2017_df[\"REPORT_DAT\"].count() #33116\n",
    "#csv_2016_df[\"REPORT_DAT\"].count() #37227\n",
    "#csv_2015_df[\"REPORT_DAT\"].count() #37328\n",
    "#csv_2014_df[\"REPORT_DAT\"].count() #38438\n",
    "#csv_2013_df[\"REPORT_DAT\"].count() #35895\n",
    "#csv_2012_df[\"REPORT_DAT\"].count() #35317\n",
    "#csv_2011_df[\"REPORT_DAT\"].count() #33292\n",
    "#csv_2010_df[\"REPORT_DAT\"].count() #31676\n",
    "#csv_2009_df[\"REPORT_DAT\"].count() #31312"
   ]
  },
  {
   "cell_type": "code",
   "execution_count": 7,
   "metadata": {
    "scrolled": true
   },
   "outputs": [],
   "source": [
    "#Use glob to match the pattern ‘csv’\n",
    "#Match the pattern (‘csv’) and save the list of file names in the ‘all_files’ variable.\n",
    "#extension = 'csv'\n",
    "#Use pandas to concatenate all files in the list and export as CSV. \n",
    "#The output file is named “dc_crimes.csv” located in your working directory.\n",
    "#combine all files in the list\n",
    "path = '../Project1_DC_Crime_Analysis/Resources/'\n",
    "all_files = glob.glob(path + \"/*.csv\")\n",
    "all_files\n",
    "row = []\n",
    "\n",
    "for filename in all_files:\n",
    "   df = pd.read_csv(filename, index_col=None, header=0)\n",
    "   row.append(df)\n",
    "\n",
    "dc_crimes = pd.concat(row, axis=0, ignore_index=True)\n",
    "\n",
    "#Convert to DataFrame\n",
    "dc_crimes_df=pd.DataFrame(dc_crimes)\n",
    "dc_crimes_df.count()\n",
    "dc_crimes_df.head(2)\n",
    "dc_crimes_df.to_csv(\"../dc_crimes.csv\",index=False,header=True,encoding='utf-8-sig')"
   ]
  },
  {
   "cell_type": "code",
   "execution_count": 8,
   "metadata": {},
   "outputs": [],
   "source": [
    "#Save the csv of all merged data\n",
    "dc_crimes_df.to_csv(\"../dc_crimes_2009_2019.csv\",index=False,header=True,encoding='utf-8-sig')"
   ]
  },
  {
   "cell_type": "code",
   "execution_count": 9,
   "metadata": {},
   "outputs": [],
   "source": [
    "# Loc for CCN - 14148057\n",
    "#dc_crimes_df.loc[dc_crimes_df[\"CCN\"]==14148057,:]\n",
    "#dc_crimes_df.columns"
   ]
  },
  {
   "cell_type": "code",
   "execution_count": 10,
   "metadata": {},
   "outputs": [],
   "source": [
    "#Split the data in START_DATE column to get Date and Time information\n",
    "dc_crimes_df[['START_DATE','Start_Time']] = dc_crimes_df['START_DATE'].str.split('T',expand=True)\n",
    "dc_crimes_df[['REPORT_DAT','Report_Time']] = dc_crimes_df['REPORT_DAT'].str.split('T',expand=True)\n",
    "dc_crimes_df[['END_DATE','End_Time']] = dc_crimes_df['END_DATE'].str.split('T',expand=True)\n",
    "#pd.to_datetime(dc_crimes_df[\"START_DATE\"])"
   ]
  },
  {
   "cell_type": "code",
   "execution_count": 11,
   "metadata": {},
   "outputs": [
    {
     "data": {
      "text/html": [
       "<div>\n",
       "<style scoped>\n",
       "    .dataframe tbody tr th:only-of-type {\n",
       "        vertical-align: middle;\n",
       "    }\n",
       "\n",
       "    .dataframe tbody tr th {\n",
       "        vertical-align: top;\n",
       "    }\n",
       "\n",
       "    .dataframe thead th {\n",
       "        text-align: right;\n",
       "    }\n",
       "</style>\n",
       "<table border=\"1\" class=\"dataframe\">\n",
       "  <thead>\n",
       "    <tr style=\"text-align: right;\">\n",
       "      <th></th>\n",
       "      <th>X</th>\n",
       "      <th>Y</th>\n",
       "      <th>CCN</th>\n",
       "      <th>REPORT_DAT</th>\n",
       "      <th>SHIFT</th>\n",
       "      <th>METHOD</th>\n",
       "      <th>OFFENSE</th>\n",
       "      <th>BLOCK</th>\n",
       "      <th>XBLOCK</th>\n",
       "      <th>YBLOCK</th>\n",
       "      <th>...</th>\n",
       "      <th>LATITUDE</th>\n",
       "      <th>LONGITUDE</th>\n",
       "      <th>BID</th>\n",
       "      <th>START_DATE</th>\n",
       "      <th>END_DATE</th>\n",
       "      <th>OBJECTID</th>\n",
       "      <th>OCTO_RECORD_ID</th>\n",
       "      <th>Start_Time</th>\n",
       "      <th>Report_Time</th>\n",
       "      <th>End_Time</th>\n",
       "    </tr>\n",
       "  </thead>\n",
       "  <tbody>\n",
       "    <tr>\n",
       "      <td>0</td>\n",
       "      <td>-77.039673</td>\n",
       "      <td>38.903151</td>\n",
       "      <td>8005297</td>\n",
       "      <td>2009-01-12</td>\n",
       "      <td>DAY</td>\n",
       "      <td>OTHERS</td>\n",
       "      <td>BURGLARY</td>\n",
       "      <td>1000 - 1099 BLOCK OF CONNECTICUT AVENUE NW</td>\n",
       "      <td>396559.0</td>\n",
       "      <td>137255.0</td>\n",
       "      <td>...</td>\n",
       "      <td>38.903143</td>\n",
       "      <td>-77.039670</td>\n",
       "      <td>GOLDEN TRIANGLE</td>\n",
       "      <td>2008-12-28</td>\n",
       "      <td>NaN</td>\n",
       "      <td>356048194</td>\n",
       "      <td>08005297-01</td>\n",
       "      <td>00:00:00.000Z</td>\n",
       "      <td>10:30:00.000Z</td>\n",
       "      <td>NaN</td>\n",
       "    </tr>\n",
       "    <tr>\n",
       "      <td>1</td>\n",
       "      <td>-76.999518</td>\n",
       "      <td>38.904689</td>\n",
       "      <td>162302</td>\n",
       "      <td>2009-11-12</td>\n",
       "      <td>EVENING</td>\n",
       "      <td>OTHERS</td>\n",
       "      <td>MOTOR VEHICLE THEFT</td>\n",
       "      <td>1100 - 1199 BLOCK OF 5TH STREET NE</td>\n",
       "      <td>400042.0</td>\n",
       "      <td>137425.0</td>\n",
       "      <td>...</td>\n",
       "      <td>38.904682</td>\n",
       "      <td>-76.999516</td>\n",
       "      <td>NaN</td>\n",
       "      <td>2009-11-06</td>\n",
       "      <td>2009-11-12</td>\n",
       "      <td>356046669</td>\n",
       "      <td>00162302-01</td>\n",
       "      <td>12:00:00.000Z</td>\n",
       "      <td>18:00:00.000Z</td>\n",
       "      <td>17:00:00.000Z</td>\n",
       "    </tr>\n",
       "  </tbody>\n",
       "</table>\n",
       "<p>2 rows × 28 columns</p>\n",
       "</div>"
      ],
      "text/plain": [
       "           X          Y      CCN  REPORT_DAT    SHIFT  METHOD  \\\n",
       "0 -77.039673  38.903151  8005297  2009-01-12      DAY  OTHERS   \n",
       "1 -76.999518  38.904689   162302  2009-11-12  EVENING  OTHERS   \n",
       "\n",
       "               OFFENSE                                       BLOCK    XBLOCK  \\\n",
       "0             BURGLARY  1000 - 1099 BLOCK OF CONNECTICUT AVENUE NW  396559.0   \n",
       "1  MOTOR VEHICLE THEFT          1100 - 1199 BLOCK OF 5TH STREET NE  400042.0   \n",
       "\n",
       "     YBLOCK  ...   LATITUDE  LONGITUDE              BID  START_DATE  \\\n",
       "0  137255.0  ...  38.903143 -77.039670  GOLDEN TRIANGLE  2008-12-28   \n",
       "1  137425.0  ...  38.904682 -76.999516              NaN  2009-11-06   \n",
       "\n",
       "     END_DATE   OBJECTID  OCTO_RECORD_ID     Start_Time    Report_Time  \\\n",
       "0         NaN  356048194     08005297-01  00:00:00.000Z  10:30:00.000Z   \n",
       "1  2009-11-12  356046669     00162302-01  12:00:00.000Z  18:00:00.000Z   \n",
       "\n",
       "        End_Time  \n",
       "0            NaN  \n",
       "1  17:00:00.000Z  \n",
       "\n",
       "[2 rows x 28 columns]"
      ]
     },
     "execution_count": 11,
     "metadata": {},
     "output_type": "execute_result"
    }
   ],
   "source": [
    "#Display the data\n",
    "dc_crimes_df.head(2)"
   ]
  },
  {
   "cell_type": "code",
   "execution_count": 12,
   "metadata": {},
   "outputs": [
    {
     "data": {
      "text/html": [
       "<div>\n",
       "<style scoped>\n",
       "    .dataframe tbody tr th:only-of-type {\n",
       "        vertical-align: middle;\n",
       "    }\n",
       "\n",
       "    .dataframe tbody tr th {\n",
       "        vertical-align: top;\n",
       "    }\n",
       "\n",
       "    .dataframe thead th {\n",
       "        text-align: right;\n",
       "    }\n",
       "</style>\n",
       "<table border=\"1\" class=\"dataframe\">\n",
       "  <thead>\n",
       "    <tr style=\"text-align: right;\">\n",
       "      <th></th>\n",
       "      <th>START_DATE</th>\n",
       "      <th>REPORT_DAT</th>\n",
       "      <th>END_DATE</th>\n",
       "      <th>OFFENSE</th>\n",
       "      <th>Day_of_Week</th>\n",
       "      <th>Week_Number</th>\n",
       "      <th>Day</th>\n",
       "      <th>Month</th>\n",
       "      <th>Year</th>\n",
       "    </tr>\n",
       "  </thead>\n",
       "  <tbody>\n",
       "    <tr>\n",
       "      <td>0</td>\n",
       "      <td>2008-12-28</td>\n",
       "      <td>2009-01-12</td>\n",
       "      <td>NaN</td>\n",
       "      <td>BURGLARY</td>\n",
       "      <td>Sunday</td>\n",
       "      <td>52.0</td>\n",
       "      <td>28</td>\n",
       "      <td>12</td>\n",
       "      <td>2008</td>\n",
       "    </tr>\n",
       "    <tr>\n",
       "      <td>1</td>\n",
       "      <td>2009-11-06</td>\n",
       "      <td>2009-11-12</td>\n",
       "      <td>2009-11-12</td>\n",
       "      <td>MOTOR VEHICLE THEFT</td>\n",
       "      <td>Friday</td>\n",
       "      <td>45.0</td>\n",
       "      <td>6</td>\n",
       "      <td>11</td>\n",
       "      <td>2009</td>\n",
       "    </tr>\n",
       "    <tr>\n",
       "      <td>2</td>\n",
       "      <td>2009-12-06</td>\n",
       "      <td>2009-12-06</td>\n",
       "      <td>2009-12-06</td>\n",
       "      <td>THEFT F/AUTO</td>\n",
       "      <td>Sunday</td>\n",
       "      <td>49.0</td>\n",
       "      <td>6</td>\n",
       "      <td>12</td>\n",
       "      <td>2009</td>\n",
       "    </tr>\n",
       "    <tr>\n",
       "      <td>3</td>\n",
       "      <td>2002-01-26</td>\n",
       "      <td>2009-10-20</td>\n",
       "      <td>2002-01-26</td>\n",
       "      <td>THEFT/OTHER</td>\n",
       "      <td>Saturday</td>\n",
       "      <td>4.0</td>\n",
       "      <td>26</td>\n",
       "      <td>1</td>\n",
       "      <td>2002</td>\n",
       "    </tr>\n",
       "    <tr>\n",
       "      <td>4</td>\n",
       "      <td>2005-04-30</td>\n",
       "      <td>2009-10-20</td>\n",
       "      <td>2005-04-30</td>\n",
       "      <td>ASSAULT W/DANGEROUS WEAPON</td>\n",
       "      <td>Saturday</td>\n",
       "      <td>17.0</td>\n",
       "      <td>30</td>\n",
       "      <td>4</td>\n",
       "      <td>2005</td>\n",
       "    </tr>\n",
       "  </tbody>\n",
       "</table>\n",
       "</div>"
      ],
      "text/plain": [
       "  START_DATE  REPORT_DAT    END_DATE                     OFFENSE Day_of_Week  \\\n",
       "0 2008-12-28  2009-01-12         NaN                    BURGLARY      Sunday   \n",
       "1 2009-11-06  2009-11-12  2009-11-12         MOTOR VEHICLE THEFT      Friday   \n",
       "2 2009-12-06  2009-12-06  2009-12-06                THEFT F/AUTO      Sunday   \n",
       "3 2002-01-26  2009-10-20  2002-01-26                 THEFT/OTHER    Saturday   \n",
       "4 2005-04-30  2009-10-20  2005-04-30  ASSAULT W/DANGEROUS WEAPON    Saturday   \n",
       "\n",
       "   Week_Number  Day  Month  Year  \n",
       "0         52.0   28     12  2008  \n",
       "1         45.0    6     11  2009  \n",
       "2         49.0    6     12  2009  \n",
       "3          4.0   26      1  2002  \n",
       "4         17.0   30      4  2005  "
      ]
     },
     "execution_count": 12,
     "metadata": {},
     "output_type": "execute_result"
    }
   ],
   "source": [
    "#Determine Day of the week and Week number\n",
    "#Use the to_datetime function of Pandas\n",
    "dc_crimes_df['START_DATE'] = pd.to_datetime(dc_crimes_df['START_DATE'])\n",
    "dc_crimes_df['Day_of_Week'] = dc_crimes_df['START_DATE'].dt.day_name()\n",
    "dc_crimes_df['Week_Number'] = dc_crimes_df['START_DATE'].dt.week\n",
    "\n",
    "\n",
    "#Splitting the Day, Month and Year to new columns\n",
    "dc_crimes_df['Day'] = dc_crimes_df ['START_DATE'].dt.day\n",
    "dc_crimes_df['Month'] = dc_crimes_df['START_DATE'].dt.month\n",
    "dc_crimes_df['Year'] = dc_crimes_df['START_DATE'].dt.year\n",
    "\n",
    "#The above conversions result in float values - Convert them to integers\n",
    "\n",
    "dc_crimes_df['Day']=dc_crimes_df['Day'].fillna(0.0).astype(int)\n",
    "dc_crimes_df['Month']=dc_crimes_df['Month'].fillna(0.0).astype(int)\n",
    "dc_crimes_df['Year']=dc_crimes_df['Year'].fillna(0.0).astype(int)\n",
    "\n",
    "#Display the output\n",
    "dc_crimes_df[[\"START_DATE\",\"REPORT_DAT\",\"END_DATE\",\"OFFENSE\",\"Day_of_Week\",\"Week_Number\",\"Day\",\"Month\",\"Year\"]].head()\n",
    "#dc_crimes_df.Day.dtype"
   ]
  },
  {
   "cell_type": "code",
   "execution_count": 13,
   "metadata": {
    "scrolled": false
   },
   "outputs": [],
   "source": [
    "#Counts - Data Profiling\n",
    "dc_crimes_df.count()\n",
    "for_me=dc_crimes_df.copy()"
   ]
  },
  {
   "cell_type": "code",
   "execution_count": 14,
   "metadata": {},
   "outputs": [
    {
     "data": {
      "text/plain": [
       "CCN                     374403\n",
       "REPORT_DAT              374403\n",
       "SHIFT                   374403\n",
       "METHOD                  374403\n",
       "OFFENSE                 374403\n",
       "BLOCK                   374402\n",
       "WARD                    374392\n",
       "DISTRICT                374201\n",
       "PSA                     374173\n",
       "NEIGHBORHOOD_CLUSTER    369548\n",
       "LATITUDE                374403\n",
       "LONGITUDE               374403\n",
       "START_DATE              374393\n",
       "END_DATE                352236\n",
       "Day_of_Week             374393\n",
       "Week_Number             374393\n",
       "Day                     374403\n",
       "Month                   374403\n",
       "Year                    374403\n",
       "dtype: int64"
      ]
     },
     "execution_count": 14,
     "metadata": {},
     "output_type": "execute_result"
    }
   ],
   "source": [
    "# Drop the unnecessary columns\n",
    "dc_crimes_df.drop(['XBLOCK', 'YBLOCK','Start_Time','Report_Time','End_Time',\n",
    "                   'X','Y','ANC','BLOCK_GROUP',\n",
    "                   'CENSUS_TRACT','VOTING_PRECINCT',\n",
    "                   'BID','OBJECTID','OCTO_RECORD_ID','BID'],axis=1,inplace=True)\n",
    "dc_crimes_df.count()"
   ]
  },
  {
   "cell_type": "code",
   "execution_count": 15,
   "metadata": {
    "scrolled": false
   },
   "outputs": [
    {
     "data": {
      "text/plain": [
       "CCN                     374403\n",
       "START_DATE              374393\n",
       "END_DATE                352236\n",
       "Day_of_Week             374393\n",
       "Week_Number             374393\n",
       "Day                     374403\n",
       "Month                   374403\n",
       "Year                    374403\n",
       "LATITUDE                374403\n",
       "LONGITUDE               374403\n",
       "BLOCK                   374402\n",
       "NEIGHBORHOOD_CLUSTER    369548\n",
       "METHOD                  374403\n",
       "OFFENSE                 374403\n",
       "PSA                     374173\n",
       "SHIFT                   374403\n",
       "WARD                    374392\n",
       "DISTRICT                374201\n",
       "REPORT_DAT              374403\n",
       "dtype: int64"
      ]
     },
     "execution_count": 15,
     "metadata": {},
     "output_type": "execute_result"
    }
   ],
   "source": [
    "#Reorganizing the columns\n",
    "dc_crimes_df=dc_crimes_df[[\"CCN\",\"START_DATE\",\"END_DATE\",\"Day_of_Week\",\"Week_Number\",\"Day\",\"Month\",\"Year\",\n",
    "                            \"LATITUDE\",\"LONGITUDE\",\"BLOCK\",\"NEIGHBORHOOD_CLUSTER\",\n",
    "                            \"METHOD\",\"OFFENSE\",\"PSA\",\n",
    "                            \"SHIFT\",\"WARD\",\"DISTRICT\",\n",
    "                            \"REPORT_DAT\"]]\n",
    "dc_crimes_df.count()"
   ]
  },
  {
   "cell_type": "code",
   "execution_count": 16,
   "metadata": {},
   "outputs": [
    {
     "data": {
      "text/plain": [
       "CCN                         0\n",
       "START_DATE                 10\n",
       "END_DATE                22167\n",
       "Day_of_Week                10\n",
       "Week_Number                10\n",
       "Day                         0\n",
       "Month                       0\n",
       "Year                        0\n",
       "LATITUDE                    0\n",
       "LONGITUDE                   0\n",
       "BLOCK                       1\n",
       "NEIGHBORHOOD_CLUSTER     4855\n",
       "METHOD                      0\n",
       "OFFENSE                     0\n",
       "PSA                       230\n",
       "SHIFT                       0\n",
       "WARD                       11\n",
       "DISTRICT                  202\n",
       "REPORT_DAT                  0\n",
       "dtype: int64"
      ]
     },
     "execution_count": 16,
     "metadata": {},
     "output_type": "execute_result"
    }
   ],
   "source": [
    "#Find the columns that have null values in them - Find the count of null values in a column\n",
    "dc_crimes_df.isna().sum()"
   ]
  },
  {
   "cell_type": "code",
   "execution_count": 17,
   "metadata": {},
   "outputs": [
    {
     "data": {
      "text/plain": [
       "CCN                         0\n",
       "START_DATE                  0\n",
       "END_DATE                21879\n",
       "Day_of_Week                 0\n",
       "Week_Number                 0\n",
       "Day                         0\n",
       "Month                       0\n",
       "Year                        0\n",
       "LATITUDE                    0\n",
       "LONGITUDE                   0\n",
       "BLOCK                       0\n",
       "NEIGHBORHOOD_CLUSTER        0\n",
       "METHOD                      0\n",
       "OFFENSE                     0\n",
       "PSA                         0\n",
       "SHIFT                       0\n",
       "WARD                        0\n",
       "DISTRICT                    0\n",
       "REPORT_DAT                  0\n",
       "dtype: int64"
      ]
     },
     "execution_count": 17,
     "metadata": {},
     "output_type": "execute_result"
    }
   ],
   "source": [
    "#Deleting rows that have null values in them - Retain END_DATE ( to analyze open cases if required)\n",
    "dc_crimes_df = dc_crimes_df.dropna(axis=0, subset=['START_DATE','NEIGHBORHOOD_CLUSTER','BLOCK',\n",
    "                                                  'PSA','WARD','DISTRICT'])\n",
    "dc_crimes_df.isna().sum()"
   ]
  },
  {
   "cell_type": "code",
   "execution_count": 18,
   "metadata": {},
   "outputs": [
    {
     "data": {
      "text/plain": [
       "CCN                     369302\n",
       "START_DATE              369302\n",
       "END_DATE                347423\n",
       "Day_of_Week             369302\n",
       "Week_Number             369302\n",
       "Day                     369302\n",
       "Month                   369302\n",
       "Year                    369302\n",
       "LATITUDE                369302\n",
       "LONGITUDE               369302\n",
       "BLOCK                   369302\n",
       "NEIGHBORHOOD_CLUSTER    369302\n",
       "METHOD                  369302\n",
       "OFFENSE                 369302\n",
       "PSA                     369302\n",
       "SHIFT                   369302\n",
       "WARD                    369302\n",
       "DISTRICT                369302\n",
       "REPORT_DAT              369302\n",
       "dtype: int64"
      ]
     },
     "execution_count": 18,
     "metadata": {},
     "output_type": "execute_result"
    }
   ],
   "source": [
    "dc_crimes_df.count()"
   ]
  },
  {
   "cell_type": "code",
   "execution_count": 19,
   "metadata": {},
   "outputs": [],
   "source": [
    "# # #Any Duplicate incidents?\n",
    "# dc_crimes_df['Dup_CCN'] = dc_crimes_df.groupby('CCN')['CCN'].transform('size')\n",
    "# # dc_crimes_df['Dup_CCN']\n",
    "# # dc_crimes_df_sorted=dc_crimes_df.sort_values(\"Dup_CCN\",ascending=False)\n",
    "# # dc_crimes_df_sorted['Dup_CCN']\n",
    "# # dc_crimes_df_sorted.drop_duplicates(subset =\"CCN\",keep = False, inplace = True)\n",
    "# # #dc_crimes_df_sorted.drop_duplicates('CCN')\n",
    "# # dc_crimes_df_sorted['Dup_CCN']\n",
    "# # #df_export=for_me.loc[dc_crimes_df[\"CCN\"]==13132784,:]\n",
    "# # #df_export.to_csv(\"../sample_dup_data.csv\",index=False,header=True,encoding='utf-8-sig')"
   ]
  },
  {
   "cell_type": "code",
   "execution_count": 20,
   "metadata": {},
   "outputs": [],
   "source": [
    "# # There are some incidents that started before 2009 but were reported after 2009\n",
    "# var=dc_crimes_df.loc[dc_crimes_df[\"Year\"]<2009,\"CCN\"]\n",
    "# var.count()\n",
    "# dc_crimes_df[\"START_DATE\"].count()"
   ]
  },
  {
   "cell_type": "code",
   "execution_count": 21,
   "metadata": {},
   "outputs": [],
   "source": [
    "#Crimes by Year\n",
    "#plt.figure(figsize = (8,5))\n",
    "#dc_crimes_df.groupby([dc_crimes_df.Year]).size().plot.bar()"
   ]
  },
  {
   "cell_type": "code",
   "execution_count": 22,
   "metadata": {},
   "outputs": [
    {
     "data": {
      "image/png": "[encoded data removed]",
      "text/plain": [
       "<Figure size 432x288 with 1 Axes>"
      ]
     },
     "metadata": {
      "needs_background": "light"
     },
     "output_type": "display_data"
    }
   ],
   "source": [
    "#Plot crimes per year\n",
    "dc_crimes_df.groupby([dc_crimes_df.Year]).size().plot.bar()\n",
    "plt.title('Crime Over the Years')\n",
    "plt.xlabel('Year')\n",
    "plt.ylabel('Number of Crimes')\n",
    "plt.show()"
   ]
  },
  {
   "cell_type": "code",
   "execution_count": 23,
   "metadata": {},
   "outputs": [
    {
     "data": {
      "image/png": "[encoded data removed]",
      "text/plain": [
       "<Figure size 432x288 with 1 Axes>"
      ]
     },
     "metadata": {
      "needs_background": "light"
     },
     "output_type": "display_data"
    }
   ],
   "source": [
    "#Plot crimes per month\n",
    "dc_crimes_df.groupby([dc_crimes_df.Month]).size().plot.bar()\n",
    "plt.title('Crimes vs Month')\n",
    "plt.xlabel('Month')\n",
    "plt.ylabel('Number of Crimes')\n",
    "plt.show()"
   ]
  },
  {
   "cell_type": "code",
   "execution_count": 58,
   "metadata": {},
   "outputs": [
    {
     "data": {
      "image/png": "[encoded data removed]",
      "text/plain": [
       "<Figure size 432x288 with 1 Axes>"
      ]
     },
     "metadata": {
      "needs_background": "light"
     },
     "output_type": "display_data"
    }
   ],
   "source": [
    "fig, ax = plt.subplots()\n",
    "dc_crimes_df.groupby([dc_crimes_df.Month]).size().plot.bar()\n",
    "plt.grid(axis='y', alpha=0.45)\n",
    "plt.title('Crimes vs Month')\n",
    "plt.xlabel('Month')\n",
    "plt.ylabel('Number of Crimes')\n",
    "plt.ylim(20000, 36000)\n",
    "labels = [item.get_text() for item in ax.get_xticklabels()]\n",
    "ax.set_xticklabels([\"Jan.\", \"Feb.\", \"Mar.\", \"Apr.\", \"May\", \"Jun.\",\n",
    "            \"Jul.\", \"Aug.\", \"Sep.\", \"Oct.\", \"Nov.\", \"Dec.\"])\n",
    "plt.show()"
   ]
  },
  {
   "cell_type": "code",
   "execution_count": 24,
   "metadata": {},
   "outputs": [
    {
     "data": {
      "image/png": "[encoded data removed]",
      "text/plain": [
       "<Figure size 432x288 with 1 Axes>"
      ]
     },
     "metadata": {
      "needs_background": "light"
     },
     "output_type": "display_data"
    }
   ],
   "source": [
    "#Plot crimes crimes per day of the week\n",
    "dc_crimes_df.groupby([dc_crimes_df.Day_of_Week]).size().plot.bar()\n",
    "plt.title('Crimes vs Day of the Week')\n",
    "plt.xlabel('Day_of_Week')\n",
    "plt.ylabel('Number of Crimes Acts')\n",
    "plt.show()"
   ]
  },
  {
   "cell_type": "code",
   "execution_count": 25,
   "metadata": {},
   "outputs": [
    {
     "data": {
      "image/png": "[encoded data removed]",
      "text/plain": [
       "<Figure size 432x288 with 1 Axes>"
      ]
     },
     "metadata": {
      "needs_background": "light"
     },
     "output_type": "display_data"
    }
   ],
   "source": [
    "#Plot crimes crimes per Time of the day\n",
    "dc_crimes_df.groupby([dc_crimes_df.SHIFT]).size().plot.bar()\n",
    "plt.title('Crimes vs Time')\n",
    "plt.xlabel('Time of the Day')\n",
    "plt.ylabel('Number of Crimes Acts')\n",
    "plt.show()"
   ]
  },
  {
   "cell_type": "code",
   "execution_count": 26,
   "metadata": {
    "scrolled": false
   },
   "outputs": [
    {
     "data": {
      "text/plain": [
       "THEFT/OTHER                   139401\n",
       "THEFT F/AUTO                  105733\n",
       "ROBBERY                        34686\n",
       "MOTOR VEHICLE THEFT            31839\n",
       "BURGLARY                       29901\n",
       "ASSAULT W/DANGEROUS WEAPON     23420\n",
       "SEX ABUSE                       2691\n",
       "HOMICIDE                        1357\n",
       "ARSON                            274\n",
       "Name: OFFENSE, dtype: int64"
      ]
     },
     "execution_count": 26,
     "metadata": {},
     "output_type": "execute_result"
    }
   ],
   "source": [
    "#Distribution of each type of crime\n",
    "dc_crimes_df.columns\n",
    "dc_crimes_df[\"OFFENSE\"].unique()\n",
    "dc_crimes_df[\"OFFENSE\"].value_counts()"
   ]
  },
  {
   "cell_type": "code",
   "execution_count": 27,
   "metadata": {},
   "outputs": [
    {
     "data": {
      "image/png": "[encoded data removed]",
      "text/plain": [
       "<Figure size 432x288 with 1 Axes>"
      ]
     },
     "metadata": {
      "needs_background": "light"
     },
     "output_type": "display_data"
    }
   ],
   "source": [
    "#Offense Plot - Bar Graph\n",
    "dc_crimes_df.groupby(dc_crimes_df['OFFENSE']).size().sort_values(ascending = True).plot(kind = 'barh')\n",
    "plt.xlabel('Total Number of Crimes Committed')\n",
    "plt.title(\"Count of each type crime in Washington D.C\")\n",
    "plt.show()"
   ]
  },
  {
   "cell_type": "markdown",
   "metadata": {},
   "source": [
    "# Analysis \n",
    "It appears that the most common type of Offense is: Theft "
   ]
  },
  {
   "cell_type": "markdown",
   "metadata": {},
   "source": [
    "# Analyzing the trend for different types of Offenses over the years"
   ]
  },
  {
   "cell_type": "code",
   "execution_count": 28,
   "metadata": {},
   "outputs": [],
   "source": [
    "#THEFT/OTHER                   141605\n",
    "#THEFT F/AUTO                  106850\n",
    "#ROBBERY                        35171\n",
    "#MOTOR VEHICLE THEFT            32388\n",
    "#BURGLARY                       30229\n",
    "#ASSAULT W/DANGEROUS WEAPON     23757\n",
    "#SEX ABUSE                       2750\n",
    "#HOMICIDE                        1374\n",
    "#ARSON                            279\n",
    "#dc_crimes_df.columns"
   ]
  },
  {
   "cell_type": "code",
   "execution_count": 29,
   "metadata": {},
   "outputs": [],
   "source": [
    "# gather yearly count of \"Theft from Vehicle\" crime \n",
    "#theft = dc_crimes_df[dc_crimes_df[\"OFFENSE\"]==\"THEFT/OTHER\"]\n",
    "#theft_yearly= theft[\"Year\"].value_counts(sort=False)\n",
    "#theft_yearly"
   ]
  },
  {
   "cell_type": "code",
   "execution_count": 30,
   "metadata": {},
   "outputs": [],
   "source": [
    "#Extract the information for x-axis (i.e years)\n",
    "#x_axis = theft_yearly.index.tolist()\n",
    "#x_axis"
   ]
  },
  {
   "cell_type": "code",
   "execution_count": 31,
   "metadata": {},
   "outputs": [],
   "source": [
    "#plt.plot(x_axis, theft_yearly, label = \"Trend for Theft/Other\") "
   ]
  },
  {
   "cell_type": "code",
   "execution_count": 32,
   "metadata": {},
   "outputs": [],
   "source": [
    "# #Finding Neighbourhoods\n",
    "# dc_crimes_df.columns\n",
    "# dc_crimes_df[\"BLOCK\"].unique()"
   ]
  },
  {
   "cell_type": "code",
   "execution_count": 33,
   "metadata": {},
   "outputs": [],
   "source": [
    "# #Top 10 crime blocks\n",
    "# dc_crimes_df[\"BLOCK\"].value_counts()[:10].plot.bar(title='Top 10 Dangerous Blocks')"
   ]
  },
  {
   "cell_type": "code",
   "execution_count": 34,
   "metadata": {},
   "outputs": [],
   "source": [
    "# plt.scatter(dc_crimes_df['LONGITUDE'], dc_crimes_df['LATITUDE'], s=0.5, alpha=0.3, color=\"brown\", lw=0)"
   ]
  },
  {
   "cell_type": "code",
   "execution_count": 35,
   "metadata": {},
   "outputs": [],
   "source": [
    "#Export the city data into a .csv. -\"Should be the final step\"\n",
    "#dc_crimes_df.to_csv(\"../dc_crimes.csv\",index=False,header=True,encoding='utf-8-sig')\n",
    "#encoding also exports any non-english data"
   ]
  },
  {
   "cell_type": "code",
   "execution_count": 36,
   "metadata": {},
   "outputs": [],
   "source": [
    "# df1 = dc_crimes_df['BLOCK'].str.extract('(?P<number>\\d+)(?P<name>.*)', expand=True)\n",
    "# print (df1)"
   ]
  },
  {
   "cell_type": "code",
   "execution_count": 37,
   "metadata": {},
   "outputs": [
    {
     "data": {
      "text/html": [
       "<div>\n",
       "<style scoped>\n",
       "    .dataframe tbody tr th:only-of-type {\n",
       "        vertical-align: middle;\n",
       "    }\n",
       "\n",
       "    .dataframe tbody tr th {\n",
       "        vertical-align: top;\n",
       "    }\n",
       "\n",
       "    .dataframe thead th {\n",
       "        text-align: right;\n",
       "    }\n",
       "</style>\n",
       "<table border=\"1\" class=\"dataframe\">\n",
       "  <thead>\n",
       "    <tr style=\"text-align: right;\">\n",
       "      <th></th>\n",
       "      <th>BLOCK</th>\n",
       "      <th>Street_Name</th>\n",
       "    </tr>\n",
       "  </thead>\n",
       "  <tbody>\n",
       "    <tr>\n",
       "      <td>0</td>\n",
       "      <td>1000 - 1099</td>\n",
       "      <td>CONNECTICUT AVENUE NW</td>\n",
       "    </tr>\n",
       "    <tr>\n",
       "      <td>1</td>\n",
       "      <td>1100 - 1199</td>\n",
       "      <td>5TH STREET NE</td>\n",
       "    </tr>\n",
       "  </tbody>\n",
       "</table>\n",
       "</div>"
      ],
      "text/plain": [
       "          BLOCK            Street_Name\n",
       "0  1000 - 1099   CONNECTICUT AVENUE NW\n",
       "1  1100 - 1199           5TH STREET NE"
      ]
     },
     "execution_count": 37,
     "metadata": {},
     "output_type": "execute_result"
    }
   ],
   "source": [
    "copy_df=dc_crimes_df.copy()\n",
    "copy_df[['BLOCK','Street_Name']] = dc_crimes_df['BLOCK'].str.split('BLOCK OF ',expand=True)\n",
    "copy_df[['BLOCK','Street_Name']].head(2)\n",
    "#copy_df.loc[copy_df[\"Street_Name\"]==\"None\",:]"
   ]
  },
  {
   "cell_type": "code",
   "execution_count": 38,
   "metadata": {
    "scrolled": false
   },
   "outputs": [
    {
     "data": {
      "text/plain": [
       "<matplotlib.axes._subplots.AxesSubplot at 0x7fd9ddbe8be0>"
      ]
     },
     "execution_count": 38,
     "metadata": {},
     "output_type": "execute_result"
    },
    {
     "data": {
      "image/png": "[encoded data removed]",
      "text/plain": [
       "<Figure size 432x288 with 1 Axes>"
      ]
     },
     "metadata": {
      "needs_background": "light"
     },
     "output_type": "display_data"
    }
   ],
   "source": [
    "copy_df[\"Street_Name\"].value_counts()[:10].plot.bar(title='Top 10 Dangerous Blocks')"
   ]
  },
  {
   "cell_type": "code",
   "execution_count": null,
   "metadata": {},
   "outputs": [],
   "source": []
  },
  {
   "cell_type": "code",
   "execution_count": null,
   "metadata": {},
   "outputs": [],
   "source": []
  },
  {
   "cell_type": "code",
   "execution_count": null,
   "metadata": {},
   "outputs": [],
   "source": []
  },
  {
   "cell_type": "code",
   "execution_count": null,
   "metadata": {},
   "outputs": [],
   "source": []
  }
 ],
 "metadata": {
  "kernelspec": {
   "display_name": "Python 3",
   "language": "python",
   "name": "python3"
  },
  "language_info": {
   "codemirror_mode": {
    "name": "ipython",
    "version": 3
   },
   "file_extension": ".py",
   "mimetype": "text/x-python",
   "name": "python",
   "nbconvert_exporter": "python",
   "pygments_lexer": "ipython3",
   "version": "3.7.3"
  }
 },
 "nbformat": 4,
 "nbformat_minor": 2
}

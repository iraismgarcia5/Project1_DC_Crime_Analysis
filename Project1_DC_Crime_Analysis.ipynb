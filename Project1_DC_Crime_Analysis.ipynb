{
 "cells": [
  {
   "cell_type": "code",
<<<<<<< HEAD
   "execution_count": 1,
=======
   "execution_count": 2,
>>>>>>> origin/omar_analytics
   "metadata": {
    "scrolled": true
   },
   "outputs": [],
   "source": [
    "# Dependencies and Setup\n",
    "%matplotlib inline\n",
    "import matplotlib.pyplot as plt\n",
<<<<<<< HEAD
    "from uszipcode import ZipcodeSearchEngine\n",
=======
    "import uszipcode\n",
>>>>>>> origin/omar_analytics
    "from pprint import pprint\n",
    "import pandas as pd\n",
    "import numpy as np\n",
    "from citipy import citipy\n",
    "from scipy.stats import sem"
   ]
  },
  {
   "cell_type": "code",
<<<<<<< HEAD
   "execution_count": 2,
=======
   "execution_count": 3,
>>>>>>> origin/omar_analytics
   "metadata": {},
   "outputs": [],
   "source": [
    "#Dependencies to merge the csv's\n",
    "#Import packages\n",
    "import os\n",
    "import glob\n",
    "import csv"
   ]
  },
  {
   "cell_type": "code",
<<<<<<< HEAD
   "execution_count": 3,
=======
   "execution_count": 4,
>>>>>>> origin/omar_analytics
   "metadata": {},
   "outputs": [],
   "source": [
    "# Hide warning messages in notebook\n",
    "import warnings\n",
    "warnings.filterwarnings('ignore')"
   ]
  },
  {
   "cell_type": "code",
<<<<<<< HEAD
   "execution_count": 4,
=======
   "execution_count": 5,
>>>>>>> origin/omar_analytics
   "metadata": {},
   "outputs": [],
   "source": [
    "# Files to Load\n",
    "#File for 2019\n",
    "csv_2019_df=pd.read_csv(\"../Project1_DC_Crime_Analysis/Resources/Crime_Incidents_in_2019.csv\")\n",
    "#File for 2018\n",
    "csv_2018_df=pd.read_csv(\"../Project1_DC_Crime_Analysis/Resources/Crime_Incidents_in_2018.csv\")\n",
    "#File for 2017\n",
    "csv_2017_df=pd.read_csv(\"../Project1_DC_Crime_Analysis/Resources/Crime_Incidents_in_2017.csv\")\n",
    "#File for 2016\n",
    "csv_2016_df=pd.read_csv(\"../Project1_DC_Crime_Analysis/Resources/Crime_Incidents_in_2016.csv\")\n",
    "#File for 2015\n",
    "csv_2015_df=pd.read_csv(\"../Project1_DC_Crime_Analysis/Resources/Crime_Incidents_in_2015.csv\")\n",
    "#File for 2014\n",
    "csv_2014_df=pd.read_csv(\"../Project1_DC_Crime_Analysis/Resources/Crime_Incidents_in_2014.csv\")\n",
    "#File for 2013\n",
    "csv_2013_df=pd.read_csv(\"../Project1_DC_Crime_Analysis/Resources/Crime_Incidents_in_2013.csv\")\n",
    "#File for 2012\n",
    "csv_2012_df=pd.read_csv(\"../Project1_DC_Crime_Analysis/Resources/Crime_Incidents_in_2012.csv\")\n",
    "#File for 2011\n",
    "csv_2011_df=pd.read_csv(\"../Project1_DC_Crime_Analysis/Resources/Crime_Incidents_in_2011.csv\")\n",
    "#File for 2010\n",
    "csv_2010_df=pd.read_csv(\"../Project1_DC_Crime_Analysis/Resources/Crime_Incidents_in_2010.csv\")\n",
    "#File for 2009\n",
    "csv_2009_df=pd.read_csv(\"../Project1_DC_Crime_Analysis/Resources/Crime_Incidents_in_2009.csv\")"
   ]
  },
  {
   "cell_type": "code",
<<<<<<< HEAD
   "execution_count": 5,
=======
   "execution_count": 6,
>>>>>>> origin/omar_analytics
   "metadata": {},
   "outputs": [],
   "source": [
    "#Count the number of rows in each file\n",
    "#csv_2019_df[\"REPORT_DAT\"].count() #27145\n",
    "#csv_2018_df[\"REPORT_DAT\"].count() #33783\n",
    "#csv_2017_df[\"REPORT_DAT\"].count() #33116\n",
    "#csv_2016_df[\"REPORT_DAT\"].count() #37227\n",
    "#csv_2015_df[\"REPORT_DAT\"].count() #37328\n",
    "#csv_2014_df[\"REPORT_DAT\"].count() #38438\n",
    "#csv_2013_df[\"REPORT_DAT\"].count() #35895\n",
    "#csv_2012_df[\"REPORT_DAT\"].count() #35317\n",
    "#csv_2011_df[\"REPORT_DAT\"].count() #33292\n",
    "#csv_2010_df[\"REPORT_DAT\"].count() #31676\n",
    "#csv_2009_df[\"REPORT_DAT\"].count() #31312"
   ]
  },
  {
   "cell_type": "code",
<<<<<<< HEAD
   "execution_count": 6,
=======
   "execution_count": 7,
>>>>>>> origin/omar_analytics
   "metadata": {
    "scrolled": true
   },
   "outputs": [],
   "source": [
    "#Use glob to match the pattern ‘csv’\n",
    "#Match the pattern (‘csv’) and save the list of file names in the ‘all_files’ variable.\n",
    "#extension = 'csv'\n",
    "#Use pandas to concatenate all files in the list and export as CSV. \n",
    "#The output file is named “dc_crimes.csv” located in your working directory.\n",
    "#combine all files in the list\n",
    "path = '../Project1_DC_Crime_Analysis/Resources/'\n",
    "all_files = glob.glob(path + \"/*.csv\")\n",
    "all_files\n",
    "row = []\n",
    "\n",
    "for filename in all_files:\n",
    "   df = pd.read_csv(filename, index_col=None, header=0)\n",
    "   row.append(df)\n",
    "\n",
    "dc_crimes = pd.concat(row, axis=0, ignore_index=True)\n",
    "\n",
    "#Convert to DataFrame\n",
    "dc_crimes_df=pd.DataFrame(dc_crimes)\n",
    "dc_crimes_df.count()\n",
    "dc_crimes_df.head(2)\n",
    "dc_crimes_df.to_csv(\"../dc_crimes.csv\",index=False,header=True,encoding='utf-8-sig')"
   ]
  },
  {
   "cell_type": "code",
<<<<<<< HEAD
   "execution_count": 7,
=======
   "execution_count": 8,
>>>>>>> origin/omar_analytics
   "metadata": {},
   "outputs": [],
   "source": [
    "#Save the csv of all merged data\n",
    "dc_crimes_df.to_csv(\"../dc_crimes_2009_2019.csv\",index=False,header=True,encoding='utf-8-sig')"
   ]
  },
  {
   "cell_type": "code",
<<<<<<< HEAD
   "execution_count": 8,
   "metadata": {},
   "outputs": [
    {
     "data": {
      "text/html": [
       "<div>\n",
       "<style scoped>\n",
       "    .dataframe tbody tr th:only-of-type {\n",
       "        vertical-align: middle;\n",
       "    }\n",
       "\n",
       "    .dataframe tbody tr th {\n",
       "        vertical-align: top;\n",
       "    }\n",
       "\n",
       "    .dataframe thead th {\n",
       "        text-align: right;\n",
       "    }\n",
       "</style>\n",
       "<table border=\"1\" class=\"dataframe\">\n",
       "  <thead>\n",
       "    <tr style=\"text-align: right;\">\n",
       "      <th></th>\n",
       "      <th>X</th>\n",
       "      <th>Y</th>\n",
       "      <th>CCN</th>\n",
       "      <th>REPORT_DAT</th>\n",
       "      <th>SHIFT</th>\n",
       "      <th>METHOD</th>\n",
       "      <th>OFFENSE</th>\n",
       "      <th>BLOCK</th>\n",
       "      <th>XBLOCK</th>\n",
       "      <th>YBLOCK</th>\n",
       "      <th>...</th>\n",
       "      <th>BLOCK_GROUP</th>\n",
       "      <th>CENSUS_TRACT</th>\n",
       "      <th>VOTING_PRECINCT</th>\n",
       "      <th>LATITUDE</th>\n",
       "      <th>LONGITUDE</th>\n",
       "      <th>BID</th>\n",
       "      <th>START_DATE</th>\n",
       "      <th>END_DATE</th>\n",
       "      <th>OBJECTID</th>\n",
       "      <th>OCTO_RECORD_ID</th>\n",
       "    </tr>\n",
       "  </thead>\n",
       "  <tbody>\n",
       "    <tr>\n",
       "      <th>119019</th>\n",
       "      <td>-77.021921</td>\n",
       "      <td>38.912462</td>\n",
       "      <td>14148057</td>\n",
       "      <td>2014-09-27T07:49:00.000Z</td>\n",
       "      <td>DAY</td>\n",
       "      <td>OTHERS</td>\n",
       "      <td>THEFT/OTHER</td>\n",
       "      <td>1624 - 1699 BLOCK OF 7TH STREET NW</td>\n",
       "      <td>398099.0</td>\n",
       "      <td>138288.0</td>\n",
       "      <td>...</td>\n",
       "      <td>004901 1</td>\n",
       "      <td>4901.0</td>\n",
       "      <td>Precinct 21</td>\n",
       "      <td>38.912454</td>\n",
       "      <td>-77.021919</td>\n",
       "      <td>NaN</td>\n",
       "      <td>1914-09-26T19:00:00.000Z</td>\n",
       "      <td>2014-09-27T07:00:00.000Z</td>\n",
       "      <td>356685986</td>\n",
       "      <td>14148057-01</td>\n",
       "    </tr>\n",
       "  </tbody>\n",
       "</table>\n",
       "<p>1 rows × 25 columns</p>\n",
       "</div>"
      ],
      "text/plain": [
       "                X          Y       CCN                REPORT_DAT SHIFT  \\\n",
       "119019 -77.021921  38.912462  14148057  2014-09-27T07:49:00.000Z   DAY   \n",
       "\n",
       "        METHOD      OFFENSE                               BLOCK    XBLOCK  \\\n",
       "119019  OTHERS  THEFT/OTHER  1624 - 1699 BLOCK OF 7TH STREET NW  398099.0   \n",
       "\n",
       "          YBLOCK  ...  BLOCK_GROUP CENSUS_TRACT  VOTING_PRECINCT   LATITUDE  \\\n",
       "119019  138288.0  ...     004901 1       4901.0      Precinct 21  38.912454   \n",
       "\n",
       "        LONGITUDE  BID                START_DATE                  END_DATE  \\\n",
       "119019 -77.021919  NaN  1914-09-26T19:00:00.000Z  2014-09-27T07:00:00.000Z   \n",
       "\n",
       "         OBJECTID  OCTO_RECORD_ID  \n",
       "119019  356685986     14148057-01  \n",
       "\n",
       "[1 rows x 25 columns]"
      ]
     },
     "execution_count": 8,
     "metadata": {},
     "output_type": "execute_result"
    }
   ],
   "source": [
    "# Loc for CCN - 14148057\n",
    "dc_crimes_df.loc[dc_crimes_df[\"CCN\"]==14148057,:]\n",
=======
   "execution_count": 9,
   "metadata": {},
   "outputs": [],
   "source": [
    "# Loc for CCN - 14148057\n",
    "#dc_crimes_df.loc[dc_crimes_df[\"CCN\"]==14148057,:]\n",
>>>>>>> origin/omar_analytics
    "#dc_crimes_df.columns"
   ]
  },
  {
   "cell_type": "code",
<<<<<<< HEAD
   "execution_count": 9,
=======
   "execution_count": 10,
>>>>>>> origin/omar_analytics
   "metadata": {},
   "outputs": [],
   "source": [
    "#Split the data in START_DATE column to get Date and Time information\n",
    "dc_crimes_df[['START_DATE','Start_Time']] = dc_crimes_df['START_DATE'].str.split('T',expand=True)\n",
    "dc_crimes_df[['REPORT_DAT','Report_Time']] = dc_crimes_df['REPORT_DAT'].str.split('T',expand=True)\n",
    "dc_crimes_df[['END_DATE','End_Time']] = dc_crimes_df['END_DATE'].str.split('T',expand=True)\n",
    "#pd.to_datetime(dc_crimes_df[\"START_DATE\"])"
   ]
  },
  {
   "cell_type": "code",
<<<<<<< HEAD
   "execution_count": 10,
=======
   "execution_count": 11,
>>>>>>> origin/omar_analytics
   "metadata": {},
   "outputs": [
    {
     "data": {
      "text/html": [
       "<div>\n",
       "<style scoped>\n",
       "    .dataframe tbody tr th:only-of-type {\n",
       "        vertical-align: middle;\n",
       "    }\n",
       "\n",
       "    .dataframe tbody tr th {\n",
       "        vertical-align: top;\n",
       "    }\n",
       "\n",
       "    .dataframe thead th {\n",
       "        text-align: right;\n",
       "    }\n",
       "</style>\n",
       "<table border=\"1\" class=\"dataframe\">\n",
       "  <thead>\n",
       "    <tr style=\"text-align: right;\">\n",
       "      <th></th>\n",
       "      <th>X</th>\n",
       "      <th>Y</th>\n",
       "      <th>CCN</th>\n",
       "      <th>REPORT_DAT</th>\n",
       "      <th>SHIFT</th>\n",
       "      <th>METHOD</th>\n",
       "      <th>OFFENSE</th>\n",
       "      <th>BLOCK</th>\n",
       "      <th>XBLOCK</th>\n",
       "      <th>YBLOCK</th>\n",
       "      <th>...</th>\n",
       "      <th>LATITUDE</th>\n",
       "      <th>LONGITUDE</th>\n",
       "      <th>BID</th>\n",
       "      <th>START_DATE</th>\n",
       "      <th>END_DATE</th>\n",
       "      <th>OBJECTID</th>\n",
       "      <th>OCTO_RECORD_ID</th>\n",
       "      <th>Start_Time</th>\n",
       "      <th>Report_Time</th>\n",
       "      <th>End_Time</th>\n",
       "    </tr>\n",
       "  </thead>\n",
       "  <tbody>\n",
       "    <tr>\n",
<<<<<<< HEAD
       "      <th>0</th>\n",
=======
       "      <td>0</td>\n",
>>>>>>> origin/omar_analytics
       "      <td>-77.039673</td>\n",
       "      <td>38.903151</td>\n",
       "      <td>8005297</td>\n",
       "      <td>2009-01-12</td>\n",
       "      <td>DAY</td>\n",
       "      <td>OTHERS</td>\n",
       "      <td>BURGLARY</td>\n",
       "      <td>1000 - 1099 BLOCK OF CONNECTICUT AVENUE NW</td>\n",
       "      <td>396559.0</td>\n",
       "      <td>137255.0</td>\n",
       "      <td>...</td>\n",
       "      <td>38.903143</td>\n",
       "      <td>-77.039670</td>\n",
       "      <td>GOLDEN TRIANGLE</td>\n",
       "      <td>2008-12-28</td>\n",
       "      <td>NaN</td>\n",
       "      <td>356048194</td>\n",
       "      <td>08005297-01</td>\n",
       "      <td>00:00:00.000Z</td>\n",
       "      <td>10:30:00.000Z</td>\n",
       "      <td>NaN</td>\n",
       "    </tr>\n",
       "    <tr>\n",
<<<<<<< HEAD
       "      <th>1</th>\n",
=======
       "      <td>1</td>\n",
>>>>>>> origin/omar_analytics
       "      <td>-76.999518</td>\n",
       "      <td>38.904689</td>\n",
       "      <td>162302</td>\n",
       "      <td>2009-11-12</td>\n",
       "      <td>EVENING</td>\n",
       "      <td>OTHERS</td>\n",
       "      <td>MOTOR VEHICLE THEFT</td>\n",
       "      <td>1100 - 1199 BLOCK OF 5TH STREET NE</td>\n",
       "      <td>400042.0</td>\n",
       "      <td>137425.0</td>\n",
       "      <td>...</td>\n",
       "      <td>38.904682</td>\n",
       "      <td>-76.999516</td>\n",
       "      <td>NaN</td>\n",
       "      <td>2009-11-06</td>\n",
       "      <td>2009-11-12</td>\n",
       "      <td>356046669</td>\n",
       "      <td>00162302-01</td>\n",
       "      <td>12:00:00.000Z</td>\n",
       "      <td>18:00:00.000Z</td>\n",
       "      <td>17:00:00.000Z</td>\n",
       "    </tr>\n",
       "  </tbody>\n",
       "</table>\n",
       "<p>2 rows × 28 columns</p>\n",
       "</div>"
      ],
      "text/plain": [
       "           X          Y      CCN  REPORT_DAT    SHIFT  METHOD  \\\n",
       "0 -77.039673  38.903151  8005297  2009-01-12      DAY  OTHERS   \n",
       "1 -76.999518  38.904689   162302  2009-11-12  EVENING  OTHERS   \n",
       "\n",
       "               OFFENSE                                       BLOCK    XBLOCK  \\\n",
       "0             BURGLARY  1000 - 1099 BLOCK OF CONNECTICUT AVENUE NW  396559.0   \n",
       "1  MOTOR VEHICLE THEFT          1100 - 1199 BLOCK OF 5TH STREET NE  400042.0   \n",
       "\n",
       "     YBLOCK  ...   LATITUDE  LONGITUDE              BID  START_DATE  \\\n",
       "0  137255.0  ...  38.903143 -77.039670  GOLDEN TRIANGLE  2008-12-28   \n",
       "1  137425.0  ...  38.904682 -76.999516              NaN  2009-11-06   \n",
       "\n",
       "     END_DATE   OBJECTID  OCTO_RECORD_ID     Start_Time    Report_Time  \\\n",
       "0         NaN  356048194     08005297-01  00:00:00.000Z  10:30:00.000Z   \n",
       "1  2009-11-12  356046669     00162302-01  12:00:00.000Z  18:00:00.000Z   \n",
       "\n",
       "        End_Time  \n",
       "0            NaN  \n",
       "1  17:00:00.000Z  \n",
       "\n",
       "[2 rows x 28 columns]"
      ]
     },
<<<<<<< HEAD
     "execution_count": 10,
=======
     "execution_count": 11,
>>>>>>> origin/omar_analytics
     "metadata": {},
     "output_type": "execute_result"
    }
   ],
   "source": [
    "#Display the data\n",
    "dc_crimes_df.head(2)"
   ]
  },
  {
   "cell_type": "code",
<<<<<<< HEAD
   "execution_count": 11,
=======
   "execution_count": 12,
>>>>>>> origin/omar_analytics
   "metadata": {},
   "outputs": [
    {
     "data": {
      "text/html": [
       "<div>\n",
       "<style scoped>\n",
       "    .dataframe tbody tr th:only-of-type {\n",
       "        vertical-align: middle;\n",
       "    }\n",
       "\n",
       "    .dataframe tbody tr th {\n",
       "        vertical-align: top;\n",
       "    }\n",
       "\n",
       "    .dataframe thead th {\n",
       "        text-align: right;\n",
       "    }\n",
       "</style>\n",
       "<table border=\"1\" class=\"dataframe\">\n",
       "  <thead>\n",
       "    <tr style=\"text-align: right;\">\n",
       "      <th></th>\n",
       "      <th>START_DATE</th>\n",
       "      <th>REPORT_DAT</th>\n",
       "      <th>END_DATE</th>\n",
       "      <th>OFFENSE</th>\n",
       "      <th>Day_of_Week</th>\n",
       "      <th>Week_Number</th>\n",
       "      <th>Day</th>\n",
       "      <th>Month</th>\n",
       "      <th>Year</th>\n",
       "    </tr>\n",
       "  </thead>\n",
       "  <tbody>\n",
       "    <tr>\n",
<<<<<<< HEAD
       "      <th>0</th>\n",
=======
       "      <td>0</td>\n",
>>>>>>> origin/omar_analytics
       "      <td>2008-12-28</td>\n",
       "      <td>2009-01-12</td>\n",
       "      <td>NaN</td>\n",
       "      <td>BURGLARY</td>\n",
       "      <td>Sunday</td>\n",
       "      <td>52.0</td>\n",
       "      <td>28</td>\n",
       "      <td>12</td>\n",
       "      <td>2008</td>\n",
       "    </tr>\n",
       "    <tr>\n",
<<<<<<< HEAD
       "      <th>1</th>\n",
=======
       "      <td>1</td>\n",
>>>>>>> origin/omar_analytics
       "      <td>2009-11-06</td>\n",
       "      <td>2009-11-12</td>\n",
       "      <td>2009-11-12</td>\n",
       "      <td>MOTOR VEHICLE THEFT</td>\n",
       "      <td>Friday</td>\n",
       "      <td>45.0</td>\n",
       "      <td>6</td>\n",
       "      <td>11</td>\n",
       "      <td>2009</td>\n",
       "    </tr>\n",
       "    <tr>\n",
<<<<<<< HEAD
       "      <th>2</th>\n",
=======
       "      <td>2</td>\n",
>>>>>>> origin/omar_analytics
       "      <td>2009-12-06</td>\n",
       "      <td>2009-12-06</td>\n",
       "      <td>2009-12-06</td>\n",
       "      <td>THEFT F/AUTO</td>\n",
       "      <td>Sunday</td>\n",
       "      <td>49.0</td>\n",
       "      <td>6</td>\n",
       "      <td>12</td>\n",
       "      <td>2009</td>\n",
       "    </tr>\n",
       "    <tr>\n",
<<<<<<< HEAD
       "      <th>3</th>\n",
=======
       "      <td>3</td>\n",
>>>>>>> origin/omar_analytics
       "      <td>2002-01-26</td>\n",
       "      <td>2009-10-20</td>\n",
       "      <td>2002-01-26</td>\n",
       "      <td>THEFT/OTHER</td>\n",
       "      <td>Saturday</td>\n",
       "      <td>4.0</td>\n",
       "      <td>26</td>\n",
       "      <td>1</td>\n",
       "      <td>2002</td>\n",
       "    </tr>\n",
       "    <tr>\n",
<<<<<<< HEAD
       "      <th>4</th>\n",
=======
       "      <td>4</td>\n",
>>>>>>> origin/omar_analytics
       "      <td>2005-04-30</td>\n",
       "      <td>2009-10-20</td>\n",
       "      <td>2005-04-30</td>\n",
       "      <td>ASSAULT W/DANGEROUS WEAPON</td>\n",
       "      <td>Saturday</td>\n",
       "      <td>17.0</td>\n",
       "      <td>30</td>\n",
       "      <td>4</td>\n",
       "      <td>2005</td>\n",
       "    </tr>\n",
       "  </tbody>\n",
       "</table>\n",
       "</div>"
      ],
      "text/plain": [
       "  START_DATE  REPORT_DAT    END_DATE                     OFFENSE Day_of_Week  \\\n",
       "0 2008-12-28  2009-01-12         NaN                    BURGLARY      Sunday   \n",
       "1 2009-11-06  2009-11-12  2009-11-12         MOTOR VEHICLE THEFT      Friday   \n",
       "2 2009-12-06  2009-12-06  2009-12-06                THEFT F/AUTO      Sunday   \n",
       "3 2002-01-26  2009-10-20  2002-01-26                 THEFT/OTHER    Saturday   \n",
       "4 2005-04-30  2009-10-20  2005-04-30  ASSAULT W/DANGEROUS WEAPON    Saturday   \n",
       "\n",
       "   Week_Number  Day  Month  Year  \n",
       "0         52.0   28     12  2008  \n",
       "1         45.0    6     11  2009  \n",
       "2         49.0    6     12  2009  \n",
       "3          4.0   26      1  2002  \n",
       "4         17.0   30      4  2005  "
      ]
     },
<<<<<<< HEAD
     "execution_count": 11,
=======
     "execution_count": 12,
>>>>>>> origin/omar_analytics
     "metadata": {},
     "output_type": "execute_result"
    }
   ],
   "source": [
    "#Determine Day of the week and Week number\n",
    "#Use the to_datetime function of Pandas\n",
    "dc_crimes_df['START_DATE'] = pd.to_datetime(dc_crimes_df['START_DATE'])\n",
    "dc_crimes_df['Day_of_Week'] = dc_crimes_df['START_DATE'].dt.day_name()\n",
    "dc_crimes_df['Week_Number'] = dc_crimes_df['START_DATE'].dt.week\n",
    "\n",
    "\n",
    "#Splitting the Day, Month and Year to new columns\n",
    "dc_crimes_df['Day'] = dc_crimes_df ['START_DATE'].dt.day\n",
    "dc_crimes_df['Month'] = dc_crimes_df['START_DATE'].dt.month\n",
    "dc_crimes_df['Year'] = dc_crimes_df['START_DATE'].dt.year\n",
    "\n",
    "#The above conversions result in float values - Convert them to integers\n",
    "\n",
    "dc_crimes_df['Day']=dc_crimes_df['Day'].fillna(0.0).astype(int)\n",
    "dc_crimes_df['Month']=dc_crimes_df['Month'].fillna(0.0).astype(int)\n",
    "dc_crimes_df['Year']=dc_crimes_df['Year'].fillna(0.0).astype(int)\n",
    "\n",
    "#Display the output\n",
    "dc_crimes_df[[\"START_DATE\",\"REPORT_DAT\",\"END_DATE\",\"OFFENSE\",\"Day_of_Week\",\"Week_Number\",\"Day\",\"Month\",\"Year\"]].head()\n",
    "#dc_crimes_df.Day.dtype"
   ]
  },
  {
   "cell_type": "code",
<<<<<<< HEAD
   "execution_count": 12,
=======
   "execution_count": 13,
>>>>>>> origin/omar_analytics
   "metadata": {
    "scrolled": false
   },
   "outputs": [],
   "source": [
    "#Counts - Data Profiling\n",
    "dc_crimes_df.count()\n",
<<<<<<< HEAD
    "dc_crimes_copy=dc_crimes_df.copy()"
=======
    "for_me=dc_crimes_df.copy()"
>>>>>>> origin/omar_analytics
   ]
  },
  {
   "cell_type": "code",
<<<<<<< HEAD
   "execution_count": 13,
=======
   "execution_count": 14,
>>>>>>> origin/omar_analytics
   "metadata": {},
   "outputs": [
    {
     "data": {
      "text/plain": [
       "CCN                     374403\n",
       "REPORT_DAT              374403\n",
       "SHIFT                   374403\n",
       "METHOD                  374403\n",
       "OFFENSE                 374403\n",
       "BLOCK                   374402\n",
       "WARD                    374392\n",
       "DISTRICT                374201\n",
       "PSA                     374173\n",
       "NEIGHBORHOOD_CLUSTER    369548\n",
       "LATITUDE                374403\n",
       "LONGITUDE               374403\n",
       "START_DATE              374393\n",
       "END_DATE                352236\n",
       "Day_of_Week             374393\n",
       "Week_Number             374393\n",
       "Day                     374403\n",
       "Month                   374403\n",
       "Year                    374403\n",
       "dtype: int64"
      ]
     },
<<<<<<< HEAD
     "execution_count": 13,
=======
     "execution_count": 14,
>>>>>>> origin/omar_analytics
     "metadata": {},
     "output_type": "execute_result"
    }
   ],
   "source": [
    "# Drop the unnecessary columns\n",
    "dc_crimes_df.drop(['XBLOCK', 'YBLOCK','Start_Time','Report_Time','End_Time',\n",
    "                   'X','Y','ANC','BLOCK_GROUP',\n",
    "                   'CENSUS_TRACT','VOTING_PRECINCT',\n",
    "                   'BID','OBJECTID','OCTO_RECORD_ID','BID'],axis=1,inplace=True)\n",
    "dc_crimes_df.count()"
   ]
  },
  {
   "cell_type": "code",
<<<<<<< HEAD
   "execution_count": 14,
=======
   "execution_count": 15,
>>>>>>> origin/omar_analytics
   "metadata": {
    "scrolled": false
   },
   "outputs": [
    {
     "data": {
      "text/plain": [
       "CCN                     374403\n",
       "START_DATE              374393\n",
       "END_DATE                352236\n",
       "Day_of_Week             374393\n",
       "Week_Number             374393\n",
       "Day                     374403\n",
       "Month                   374403\n",
       "Year                    374403\n",
       "LATITUDE                374403\n",
       "LONGITUDE               374403\n",
       "BLOCK                   374402\n",
       "NEIGHBORHOOD_CLUSTER    369548\n",
       "METHOD                  374403\n",
       "OFFENSE                 374403\n",
       "PSA                     374173\n",
       "SHIFT                   374403\n",
       "WARD                    374392\n",
       "DISTRICT                374201\n",
       "REPORT_DAT              374403\n",
       "dtype: int64"
      ]
     },
<<<<<<< HEAD
     "execution_count": 14,
=======
     "execution_count": 15,
>>>>>>> origin/omar_analytics
     "metadata": {},
     "output_type": "execute_result"
    }
   ],
   "source": [
    "#Reorganizing the columns\n",
    "dc_crimes_df=dc_crimes_df[[\"CCN\",\"START_DATE\",\"END_DATE\",\"Day_of_Week\",\"Week_Number\",\"Day\",\"Month\",\"Year\",\n",
    "                            \"LATITUDE\",\"LONGITUDE\",\"BLOCK\",\"NEIGHBORHOOD_CLUSTER\",\n",
    "                            \"METHOD\",\"OFFENSE\",\"PSA\",\n",
    "                            \"SHIFT\",\"WARD\",\"DISTRICT\",\n",
    "                            \"REPORT_DAT\"]]\n",
    "dc_crimes_df.count()"
   ]
  },
  {
   "cell_type": "code",
<<<<<<< HEAD
   "execution_count": 15,
=======
   "execution_count": 16,
>>>>>>> origin/omar_analytics
   "metadata": {},
   "outputs": [
    {
     "data": {
      "text/plain": [
       "CCN                         0\n",
       "START_DATE                 10\n",
       "END_DATE                22167\n",
       "Day_of_Week                10\n",
       "Week_Number                10\n",
       "Day                         0\n",
       "Month                       0\n",
       "Year                        0\n",
       "LATITUDE                    0\n",
       "LONGITUDE                   0\n",
       "BLOCK                       1\n",
       "NEIGHBORHOOD_CLUSTER     4855\n",
       "METHOD                      0\n",
       "OFFENSE                     0\n",
       "PSA                       230\n",
       "SHIFT                       0\n",
       "WARD                       11\n",
       "DISTRICT                  202\n",
       "REPORT_DAT                  0\n",
       "dtype: int64"
      ]
     },
<<<<<<< HEAD
     "execution_count": 15,
=======
     "execution_count": 16,
>>>>>>> origin/omar_analytics
     "metadata": {},
     "output_type": "execute_result"
    }
   ],
   "source": [
    "#Find the columns that have null values in them - Find the count of null values in a column\n",
    "dc_crimes_df.isna().sum()"
   ]
  },
  {
   "cell_type": "code",
<<<<<<< HEAD
   "execution_count": 16,
=======
   "execution_count": 17,
>>>>>>> origin/omar_analytics
   "metadata": {},
   "outputs": [
    {
     "data": {
      "text/plain": [
       "CCN                         0\n",
       "START_DATE                  0\n",
       "END_DATE                21879\n",
       "Day_of_Week                 0\n",
       "Week_Number                 0\n",
       "Day                         0\n",
       "Month                       0\n",
       "Year                        0\n",
       "LATITUDE                    0\n",
       "LONGITUDE                   0\n",
       "BLOCK                       0\n",
       "NEIGHBORHOOD_CLUSTER        0\n",
       "METHOD                      0\n",
       "OFFENSE                     0\n",
       "PSA                         0\n",
       "SHIFT                       0\n",
       "WARD                        0\n",
       "DISTRICT                    0\n",
       "REPORT_DAT                  0\n",
       "dtype: int64"
      ]
     },
<<<<<<< HEAD
     "execution_count": 16,
=======
     "execution_count": 17,
>>>>>>> origin/omar_analytics
     "metadata": {},
     "output_type": "execute_result"
    }
   ],
   "source": [
    "#Deleting rows that have null values in them - Retain END_DATE ( to analyze open cases if required)\n",
    "dc_crimes_df = dc_crimes_df.dropna(axis=0, subset=['START_DATE','NEIGHBORHOOD_CLUSTER','BLOCK',\n",
    "                                                  'PSA','WARD','DISTRICT'])\n",
    "dc_crimes_df.isna().sum()"
   ]
  },
  {
   "cell_type": "code",
<<<<<<< HEAD
   "execution_count": 17,
=======
   "execution_count": 18,
>>>>>>> origin/omar_analytics
   "metadata": {},
   "outputs": [
    {
     "data": {
      "text/plain": [
       "CCN                     369302\n",
       "START_DATE              369302\n",
       "END_DATE                347423\n",
       "Day_of_Week             369302\n",
       "Week_Number             369302\n",
       "Day                     369302\n",
       "Month                   369302\n",
       "Year                    369302\n",
       "LATITUDE                369302\n",
       "LONGITUDE               369302\n",
       "BLOCK                   369302\n",
       "NEIGHBORHOOD_CLUSTER    369302\n",
       "METHOD                  369302\n",
       "OFFENSE                 369302\n",
       "PSA                     369302\n",
       "SHIFT                   369302\n",
       "WARD                    369302\n",
       "DISTRICT                369302\n",
       "REPORT_DAT              369302\n",
       "dtype: int64"
      ]
     },
<<<<<<< HEAD
     "execution_count": 17,
=======
     "execution_count": 18,
>>>>>>> origin/omar_analytics
     "metadata": {},
     "output_type": "execute_result"
    }
   ],
   "source": [
    "dc_crimes_df.count()"
   ]
  },
  {
   "cell_type": "code",
<<<<<<< HEAD
   "execution_count": 18,
   "metadata": {
    "scrolled": true
   },
   "outputs": [
    {
     "data": {
      "text/plain": [
       "309430    12\n",
       "309423    12\n",
       "309429    12\n",
       "309428    12\n",
       "309427    12\n",
       "309426    12\n",
       "309431    12\n",
       "309432    12\n",
       "309422    12\n",
       "309425    12\n",
       "309421    12\n",
       "309424    12\n",
       "167875     4\n",
       "167876     4\n",
       "167877     4\n",
       "137384     4\n",
       "31304      3\n",
       "84189      3\n",
       "342712     3\n",
       "84190      3\n",
       "84191      3\n",
       "374379     3\n",
       "342713     3\n",
       "31303      3\n",
       "342711     3\n",
       "374380     3\n",
       "374381     3\n",
       "374386     3\n",
       "374387     3\n",
       "374388     3\n",
       "          ..\n",
       "124873     1\n",
       "124872     1\n",
       "124871     1\n",
       "124870     1\n",
       "124869     1\n",
       "124868     1\n",
       "124867     1\n",
       "124886     1\n",
       "124887     1\n",
       "124888     1\n",
       "124899     1\n",
       "124907     1\n",
       "124906     1\n",
       "124905     1\n",
       "124904     1\n",
       "124903     1\n",
       "124902     1\n",
       "124901     1\n",
       "124900     1\n",
       "124898     1\n",
       "124889     1\n",
       "124897     1\n",
       "124896     1\n",
       "124895     1\n",
       "124894     1\n",
       "124893     1\n",
       "124892     1\n",
       "124891     1\n",
       "124890     1\n",
       "187208     1\n",
       "Name: Dup_CCN, Length: 369302, dtype: int64"
      ]
     },
     "execution_count": 18,
     "metadata": {},
     "output_type": "execute_result"
    }
   ],
   "source": [
    "# # #Any Duplicate incidents?\n",
    "dc_crimes_df['Dup_CCN'] = dc_crimes_df.groupby('CCN')['CCN'].transform('size')\n",
    "dc_crimes_df['Dup_CCN']\n",
    "dc_crimes_df_sorted=dc_crimes_df.sort_values(\"Dup_CCN\",ascending=False)\n",
    "dc_crimes_df_sorted['Dup_CCN']"
=======
   "execution_count": 19,
   "metadata": {},
   "outputs": [],
   "source": [
    "# # #Any Duplicate incidents?\n",
    "# dc_crimes_df['Dup_CCN'] = dc_crimes_df.groupby('CCN')['CCN'].transform('size')\n",
    "# # dc_crimes_df['Dup_CCN']\n",
    "# # dc_crimes_df_sorted=dc_crimes_df.sort_values(\"Dup_CCN\",ascending=False)\n",
    "# # dc_crimes_df_sorted['Dup_CCN']\n",
    "# # dc_crimes_df_sorted.drop_duplicates(subset =\"CCN\",keep = False, inplace = True)\n",
    "# # #dc_crimes_df_sorted.drop_duplicates('CCN')\n",
    "# # dc_crimes_df_sorted['Dup_CCN']\n",
    "# # #df_export=for_me.loc[dc_crimes_df[\"CCN\"]==13132784,:]\n",
    "# # #df_export.to_csv(\"../sample_dup_data.csv\",index=False,header=True,encoding='utf-8-sig')"
>>>>>>> origin/omar_analytics
   ]
  },
  {
   "cell_type": "code",
<<<<<<< HEAD
   "execution_count": 19,
   "metadata": {},
   "outputs": [
    {
     "data": {
      "text/plain": [
       "CCN                     369103\n",
       "START_DATE              369103\n",
       "END_DATE                347242\n",
       "Day_of_Week             369103\n",
       "Week_Number             369103\n",
       "Day                     369103\n",
       "Month                   369103\n",
       "Year                    369103\n",
       "LATITUDE                369103\n",
       "LONGITUDE               369103\n",
       "BLOCK                   369103\n",
       "NEIGHBORHOOD_CLUSTER    369103\n",
       "METHOD                  369103\n",
       "OFFENSE                 369103\n",
       "PSA                     369103\n",
       "SHIFT                   369103\n",
       "WARD                    369103\n",
       "DISTRICT                369103\n",
       "REPORT_DAT              369103\n",
       "Dup_CCN                 369103\n",
       "dtype: int64"
      ]
     },
     "execution_count": 19,
     "metadata": {},
     "output_type": "execute_result"
    }
   ],
   "source": [
    "#Delete duplicate Incident Data\n",
    "dc_crimes_df_sorted.drop_duplicates(subset =\"CCN\",keep = False, inplace = True)\n",
    "dc_crimes_df_sorted['Dup_CCN']\n",
    "dc_crimes_df_sorted.count()"
=======
   "execution_count": 20,
   "metadata": {},
   "outputs": [],
   "source": [
    "# # There are some incidents that started before 2009 but were reported after 2009\n",
    "# var=dc_crimes_df.loc[dc_crimes_df[\"Year\"]<2009,\"CCN\"]\n",
    "# var.count()\n",
    "# dc_crimes_df[\"START_DATE\"].count()"
>>>>>>> origin/omar_analytics
   ]
  },
  {
   "cell_type": "code",
<<<<<<< HEAD
   "execution_count": 20,
=======
   "execution_count": 21,
   "metadata": {},
   "outputs": [],
   "source": [
    "#Crimes by Year\n",
    "#plt.figure(figsize = (8,5))\n",
    "#dc_crimes_df.groupby([dc_crimes_df.Year]).size().plot.bar()"
   ]
  },
  {
   "cell_type": "code",
   "execution_count": 22,
>>>>>>> origin/omar_analytics
   "metadata": {},
   "outputs": [
    {
     "data": {
<<<<<<< HEAD
      "text/plain": [
       "378"
      ]
     },
     "execution_count": 20,
     "metadata": {},
     "output_type": "execute_result"
    }
   ],
   "source": [
    "# # There are some incidents that started before 2009 but were reported after 2009\n",
    "var=dc_crimes_df_sorted.loc[dc_crimes_df_sorted[\"Year\"]<2009,\"CCN\"]\n",
    "var.count()\n",
    "# dc_crimes_df[\"START_DATE\"].count()"
=======
      "image/png": "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\n",
      "text/plain": [
       "<Figure size 432x288 with 1 Axes>"
      ]
     },
     "metadata": {
      "needs_background": "light"
     },
     "output_type": "display_data"
    }
   ],
   "source": [
    "#Plot crimes per year\n",
    "dc_crimes_df.groupby([dc_crimes_df.Year]).size().plot.bar()\n",
    "plt.title('Crime Over the Years')\n",
    "plt.xlabel('Year')\n",
    "plt.ylabel('Number of Crimes')\n",
    "plt.show()"
>>>>>>> origin/omar_analytics
   ]
  },
  {
   "cell_type": "code",
<<<<<<< HEAD
   "execution_count": 21,
=======
   "execution_count": 23,
>>>>>>> origin/omar_analytics
   "metadata": {},
   "outputs": [
    {
     "data": {
<<<<<<< HEAD
      "image/png": "iVBORw0KGgoAAAANSUhEUgAAAZEAAAEmCAYAAACj7q2aAAAABHNCSVQICAgIfAhkiAAAAAlwSFlzAAALEgAACxIB0t1+/AAAADh0RVh0U29mdHdhcmUAbWF0cGxvdGxpYiB2ZXJzaW9uMy4xLjAsIGh0dHA6Ly9tYXRwbG90bGliLm9yZy+17YcXAAAgAElEQVR4nO3de7xVdZ3/8ddbQMMroGQEKGY4pqWohDb1G80r6iRWatqMol1w+ulkl2m0xtK8pWVazjQ6lHipDC+VkmKI18byAiqKiAapCWqIIYqaF+Qzf3y/R5eLffbZZ8E+Zx/O+/l4rMdZ+7s++7u+a98+Z63vd62liMDMzKyKtbq7AWZm1nM5iZiZWWVOImZmVpmTiJmZVeYkYmZmlTmJmJlZZU4i1qNJ+oakn3R3O7qLpIslndbd7bDey0nEWoqkT0uaKelFSU9Lul7SR9qLj4gzIuJzXdS2dSR9R9ITkv4maZ6kr0lSF63/SEm3N6nu0yXdVCrbStILkj7QjHXamsFJxFqGpK8APwDOADYFNgP+GxjXTnzfrmsdAFcCewD7ARsAhwMTgB+u7hV1w7adArxL0ufz+gX8GDgnImavzhV1w7ZZM0WEJ0/dPgEbAS8CB9eJORm4CvgZ8ALwuVz2s7x8BBDAUcAC4DngX4APAg8AS4H/KtX5GWBujp0GbN7OuvcAXgGGl8p3Bt4A3gscCswsLf8yMCXPrwOcDTwBLAIuAPrnZbsBC4Hjgb8APy3V8768/jfy67Q0l18M/Ai4DlgG3AVsWXje1sB0YAnwCHBIndd3Z+CvwFDg6Pya9Sss/xzwcH6tri++FsB/5fa/AMwA/r6w7DTgcuAXuY1HArsA9+b4RcD3uvsz6Kna1O0N8OQpIgDGAsuBvnViTgZeBw4k7UX3byeJXAC8A9g7//BeDbwz/zg+A+ya4w8E5ucf6L7AicAf2ln3mcBt7Sz7c/7RXTf/SI4sLJsBHJrnfwBMAQaR9mR+A3wnL9stb/9ZOdn0r7GeI4HbS2UX5wQxJm/Dz4HJedl6pGR6VF62I/AssG2d1/j7wE05bnSh/KCchP4u13Uy8L+F5Yfn7epLSoRPAuvkZacBrwEfK7xvM4DD8vINgJ27+zPoqdrkw1nWKjYGno2I5R3E3RERV0fEioj4Wzsxp0bEKxFxA/AS8IuIeCYingT+F9ghxx1N+hGfm9d7BjBK0uY16twEeLqd9T0NbBIRLwPXAIcBSBpJ2hOYkg8PfR74ckQsiYhleX2HFupZAZwUEa/W2bZafhURd+dt+DkwKpf/I/B4RFwUEcsj4l7gl6SE0J4TSXtVP42ImYXyo4EzIuKRvJ7TgDGShgJExE/zdi0HvgtsmOtpc3tE/Kbwvr0OjJS0cUQsi4i7OrG91kKcRKxV/BXYpIHj5QsaqGtRYf5vNR6vn+c3B34oaamkpaT/6EXaYyl7FhjSzvqG5OUAl5GTCPBp4OqcXAaT9lTuKazvt7m8zeKIeKWB7Sv7S2H+Zd6+fTu3rS+v85+Ad7VXUf6BfwyYU1q0OfCjQj3PkpLeMABJ/y7pYUnPkw53rUdKvG3K79tRwDbAI5LulrRf45trrcQdXNYq7iAdejqQ1O/RntV52ekFwOkR8fMGYm8EviRpeES8+YMoaQwwHLg5F91ASoajSMnky7n8WVIC2zbvEdXS0bZ1dtsXkA7B7dXJ57VX1zcj4vLyAkkfBb5C6jd6KBc/T0rIbd7W9oh4BDhU0lrAwcAvJQ2smEStG3lPxFpCRDwPfIv03+6BktaV1E/SvpK+26TVXgB8XdK2AJI2knRwO+27kdRX8EtJ20rqI2kX0uGj8yNiXo5bTkqC3yP1EUzP5StIo53OlfTOvL6hkvbpRHsXAcMkrd1g/LXAVpIOz69lP0kflPS+TqyzzQXAf7Q9V9IASW2HxTYg9ec8C/Qj9ZesV6+y3KZN8uvyPCnJrKjQLutmTiLWMiLiHNJ/tCcCi0n//R5L6hhvxvp+TerInizpBeBBYN86T/kkcAvpMNSLpFFiFwL/Woq7DNgTuLLUx3M8qSP/zry+G0kd1Y26mXSY6S+Snu0oOPe77E3qd3mKdNirreO+UyLiSuAc4Mrc9geAtgQ4lbQt84DHSSOu2us/arMfMFfSMtKItU9FxGudbZd1P0X4plRmZlaN90TMzKwyJxEzM6vMScTMzCpzEjEzs8qcRMzMrLJed7LhJptsEiNGjOjuZpiZ9Sj33HPPsxExuFze65LIiBEjmDlzZseBZmb2Jkl/rlXuw1lmZlaZk4iZmVXmJGJmZpU5iZiZWWVOImZmVpmTiJmZVeYkYmZmlTmJmJlZZb3uZEMzs84accJ1NcsfP3P/Lm5J6/GeiJmZVeYkYmZmlTmJmJlZZU4iZmZWmTvWzcxWo97WCe8kYmbWjWolnZ6UcHw4y8zMKnMSMTOzypxEzMysMicRMzOrzEnEzMwqa1oSkfQOSXdLul/SHEnfzuUXS3pM0qw8jcrlknSepPmSHpC0Y6Gu8ZLm5Wl8oXwnSbPzc86TpGZtj5mZrayZQ3xfBXaPiBcl9QNul3R9Xva1iLiqFL8vMDJPOwPnAztLGgScBIwGArhH0pSIeC7HTADuBKYCY4HrMTPrQG87n6NZmrYnEsmL+WG/PEWdp4wDLs3PuxMYIGkIsA8wPSKW5MQxHRibl20YEXdERACXAgc2a3vMzGxlTe0TkdRH0izgGVIiuCsvOj0fsjpX0jq5bCiwoPD0hbmsXvnCGuVmZtZFmppEIuKNiBgFDAPGSHo/8HVga+CDwCDg+Bxeqz8jKpSvRNIESTMlzVy8eHEnt8LMzNrTJZc9iYilkm4FxkbE2bn4VUkXAf+WHy8EhheeNgx4KpfvViq/NZcPqxFfa/0TgYkAo0ePrndIzcx6MPdzdL1mjs4aLGlAnu8P7Ak8nPsyyCOpDgQezE+ZAhyRR2ntAjwfEU8D04C9JQ2UNBDYG5iWly2TtEuu6wjgmmZtj5mZrayZeyJDgEsk9SElqysi4lpJN0saTDocNQv4lxw/FdgPmA+8DBwFEBFLJJ0KzMhxp0TEkjz/BeBioD9pVJZHZpmZdaGmJZGIeADYoUb57u3EB3BMO8smAZNqlM8E3r9qLTUzs6p8xrqZmVXmJGJmZpU5iZiZWWW+s6GZ2Rqoq4Y7e0/EzMwqcxIxM7PKnETMzKwy94mYWUurdWy/t17GpBVfC++JmJlZZU4iZmZWmZOImZlV5iRiZmaVOYmYmVllTiJmZlaZk4iZmVXm80TMrMu14vkOVo33RMzMrDInETMzq6xph7MkvQP4HbBOXs9VEXGSpC2AycAg4F7g8Ih4TdI6wKXATsBfgU9FxOO5rq8DnwXeAL4YEdNy+Vjgh0Af4CcRcWaztsfM6vMhqt6pmXsirwK7R8T2wChgrKRdgLOAcyNiJPAcKTmQ/z4XEe8Fzs1xSNoGOBTYFhgL/LekPpL6AD8C9gW2AQ7LsWZm1kWalkQieTE/7JenAHYHrsrllwAH5vlx+TF5+R6SlMsnR8SrEfEYMB8Yk6f5EfFoRLxG2rsZ16ztMTOzlTW1TyTvMcwCngGmA38ClkbE8hyyEBia54cCCwDy8ueBjYvlpee0V25mZl2kqUkkIt6IiFHAMNKew/tqheW/amdZZ8tXImmCpJmSZi5evLjjhpuZWUO6ZHRWRCwFbgV2AQZIauvQHwY8lecXAsMB8vKNgCXF8tJz2iuvtf6JETE6IkYPHjx4dWySmZnRxCQiabCkAXm+P7AnMBe4BTgoh40HrsnzU/Jj8vKbIyJy+aGS1skju0YCdwMzgJGStpC0NqnzfUqztsfMzFbWzDPWhwCX5FFUawFXRMS1kh4CJks6DbgPuDDHXwj8VNJ80h7IoQARMUfSFcBDwHLgmIh4A0DSscA00hDfSRExp4nbY2ZmJU1LIhHxALBDjfJHSf0j5fJXgIPbqet04PQa5VOBqavcWDMzq8RnrJuZWWVOImZmVpmTiJmZVeYkYmZmlTmJmJlZZU4iZmZWWaeSiKSBkrZrVmPMzKxn6TCJSLpV0oaSBgH3AxdJOqf5TTMzs1bXyJ7IRhHxAvAJ4KKI2Il0CRMzM+vlGkkifSUNAQ4Brm1ye8zMrAdpJImcQro+1Z8iYoak9wDzmtssMzPrCTq8dlZEXAlcWXj8KPDJZjbKzMx6hkY61reSdJOkB/Pj7SSd2PymmZlZq2vkcNaPga8Dr8ObV+c9tJmNMjOznqGRJLJuRNxdKlteM9LMzHqVRu4n8qykLcn3L5d0EPB0U1tlZmZdZsQJ19Usf/zM/Tt8biNJ5BhgIrC1pCeBx4B/7kT7zMxsDdXI6KxHgT0lrQesFRHLmt8sMzPrCTpMIpIGAEcAI0gnHgIQEV9sasvMzKzlNdKxPpWUQGYD9xSmuiQNl3SLpLmS5kg6LpefLOlJSbPytF/hOV+XNF/SI5L2KZSPzWXzJZ1QKN9C0l2S5km6XNLaDW+5mZmtskb6RN4REV+pUPdy4KsRca+kDYB7JE3Py86NiLOLwZK2IQ0d3hZ4N3CjpK3y4h8BewELgRmSpkTEQ8BZua7Jki4APgucX6GtZmZWQSN7Ij+V9HlJQyQNaps6elJEPB0R9+b5ZcBcYGidp4wDJkfEqxHxGDAfGJOn+RHxaES8BkwGxikdV9sduCo//xLgwAa2x8zMVpNGkshrwPeAO3jrUNbMzqxE0ghgB+CuXHSspAckTZI0MJcNBRYUnrYwl7VXvjGwNCKWl8prrX+CpJmSZi5evLgzTTczszoaSSJfAd4bESMiYos8vafRFUhaH/gl8KV8SfnzgS2BUaTzTb7fFlrj6VGhfOXCiIkRMToiRg8ePLjRppuZWQca6ROZA7xcpXJJ/UgJ5OcR8SuAiFhUWP5j3rq8/EJgeOHpw4Cn8nyt8meBAZL65r2RYryZmXWBRpLIG8AsSbcAr7YVdjTEN/dZXAjMjYhzCuVDIqLtjPePAw/m+SnAZfmuie8GRgJ3k/Y4RkraAniS1Pn+6YiI3KaDSP0k44FrGtgeMzNbTRpJIlfnqbM+DBwOzJY0K5d9AzhM0ijSoafHgaMBImKOpCuAh0gju46JiDcAJB1LuqdJH2BSRMzJ9R0PTJZ0GnAfKWmZmVkXaeSM9UuqVBwRt1O732JqneecDpxeo3xqrefls+nHVGmfmZmtunaTiKQrIuIQSbOp0WEdEds1tWVmZtby6u2JHJf//mNXNMTMzHqedpNIRDwtqQ9wYUTs2YVtMjOzHqLueSK5Y/tlSRt1UXvMzKwHaWR01iukEVbTgZfaCn0VXzMzaySJXJcnMzOzt6k3OmswMLg8xFfS+4FFtZ9lZma9Sb0+kf8Eal1oaijww+Y0x8zMepJ6SeQDEXFbuTAipgE+R8TMzOomkX4Vl5mZWS9RL4nMK966to2kfYFHm9ckMzPrKeqNzvoycK2kQ3jrnuqjgQ/hs9jNzIw6eyIR8UfgA8BtwIg83QZsl5eZmVkvV/c8kYh4Fbioi9piZmY9TCO3xzUzM6vJScTMzCprN4lIuin/PavrmmNmZj1JvT6RIZJ2BQ6QNJnSXQoj4t6mtszMzFpevcNZ3wJOAIYB5wDfL0xnd1SxpOGSbpE0V9IcScfl8kGSpkual/8OzOWSdJ6k+ZIekLRjoa7xOX6epPGF8p0kzc7POU9SrdvxmplZk9Qb4ntVROwLfDciPlqadm+g7uXAVyPifcAuwDGStiElppsiYiRwU34MsC8wMk8TgPMhJR3gJGBn0v3UT2pLPDlmQuF5Yzux7WZmtoo67FiPiFMlHSDp7Dw1dKJhRDzddsgrIpYBc0kXbxwHtF0Z+BLgwDw/Drg0kjuBAZKGAPsA0yNiSUQ8B0wHxuZlG0bEHRERwKWFuszMrAt0mEQkfYd0v/WH8nRcLmuYpBHADsBdwKYR8TSkRAO8M4cNBRYUnrYwl9UrX1ij3MzMukgjN6XaHxgVESsAJF0C3Ad8vZEVSFof+CXwpYh4oU63Ra0FUaG8VhsmkA57sdlmm3XUZDMza1Cj54kMKMw3fL91Sf1ICeTnEfGrXLwoH4oi/30mly8EhheePgx4qoPyYTXKVxIREyNidESMHjy41i1SzMysikaSyHeA+yRdnPdC7gHO6OhJeaTUhcDciDinsGgK0DbCajxwTaH8iDxKaxfg+Xy4axqwt6SBuUN9b2BaXrZM0i55XUcU6jIzsy7Q4eGsiPiFpFuBD5IOIR0fEX9poO4PA4cDsyXNymXfAM4ErpD0WeAJ4OC8bCqwHzAfeBk4Kq9/iaRTgRk57pSIWJLnvwBcDPQHrs+TmZl1kUb6RNo6wKd0puKIuJ3a/RYAe9SID+CYduqaBEyqUT4TeH9n2mVmZquPr51lZmaVOYmYmVlldZOIpLUkPdhVjTEzs56lbhLJ54bcL8knV5iZ2Uoa6VgfAsyRdDfwUlthRBzQtFaZmVmP0EgS+XbTW2FmZj1SI+eJ3CZpc2BkRNwoaV2gT/ObZmZmra6RCzB+HrgK+J9cNBS4upmNMjOznqGRIb7HkM4+fwEgIubx1pV3zcysF2skibwaEa+1PZDUl3aulmtmZr1LI0nkNknfAPpL2gu4EvhNc5tlZmY9QSNJ5ARgMTAbOJp0ocQTm9koMzPrGRoZnbUiXwL+LtJhrEfyxRLNzKyX6zCJSNofuAD4E+mqvFtIOjoifNl1M7NerpGTDb8PfDQi5gNI2hK4Dt+7w8ys12ukT+SZtgSSPcpbt7Q1M7NerN09EUmfyLNzJE0FriD1iRzMW3cZNDOzXqze4ayPFeYXAbvm+cXAwKa1yMzMeox2k0hEHNWVDTEzs56nkWtnbSHpHEm/kjSlbWrgeZMkPVO8qZWkkyU9KWlWnvYrLPu6pPmSHpG0T6F8bC6bL+mEUrvukjRP0uWS1u7cppuZ2apqZHTW1cCFpLPUV3Si7ouB/wIuLZWfGxFnFwskbQMcCmwLvBu4UdJWefGPgL2AhcAMSVMi4iHgrFzXZEkXAJ8Fzu9E+8zMbBU1kkReiYjzOltxRPxO0ogGw8cBkyPiVeAxSfOBMXnZ/Ih4FEDSZGCcpLnA7sCnc8wlwMk4iZiZdalGhvj+UNJJkj4kace2aRXWeaykB/LhrrYO+qHAgkLMwlzWXvnGwNKIWF4qr0nSBEkzJc1cvHjxKjTdzMyKGtkT+QBwOOk//7bDWZEfd9b5wKn5+aeSTmT8DOlM+LKgdpKLOvE1RcREYCLA6NGjfckWM7PVpJEk8nHgPcXLwVcVEYva5iX9GLg2P1wIDC+EDgOeyvO1yp8FBkjqm/dGivFmZtZFGjmcdT8wYHWsTNKQwsOPA20jt6YAh0paR9IWwEjgbtJJjSPzSKy1SZ3vU/IFIG8BDsrPHw9cszraaGZmjWtkT2RT4GFJM4BX2woj4oB6T5L0C2A3YBNJC4GTgN0kjSIdenqcdGl5ImKOpCuAh4DlwDER8Uau51hgGum+7pMiYk5exfHAZEmnAfeRRpCZmVkXaiSJnFSl4og4rEZxuz/0EXE6cHqN8qmke5iUyx/lrRFcZmbWDRq5n8htXdEQMzPreRq5n8gy3hr5tDbQD3gpIjZsZsPMzKz1NbInskHxsaQD8WEkMzOjsdFZbxMRV1PtHBEzM1vDNHI46xOFh2sBo6lzYp+ZmfUejYzOKt5XZDlpaO64prTGzMx6lEb6RHxfETMzq6ne7XG/Ved5ERGnNqE9ZmbWg9TbE3mpRtl6pPt2bEy6gKKZmfVi9W6P+/22eUkbAMcBRwGTSVffNTOzXq5un4ikQcBXgH8i3fhpx4h4risaZmZmra9en8j3gE+Q7sPxgYh4sctaZWZmPUK9kw2/Srrf+YnAU5JeyNMySS90TfPMzKyV1esT6fTZ7GZm1rs4UZiZWWVOImZmVpmTiJmZVeYkYmZmlTUtiUiaJOkZSQ8WygZJmi5pXv47MJdL0nmS5kt6QNKOheeMz/HzJI0vlO8kaXZ+znmS1KxtMTOz2pq5J3IxMLZUdgJwU0SMBG7KjwH2BUbmaQJwPrx5suNJwM6kG2Gd1JZ4csyEwvPK6zIzsyZrWhKJiN8BS0rF40hnvpP/HlgovzSSO4EBkoYA+wDTI2JJPlN+OjA2L9swIu6IiAAuLdRlZmZdpKv7RDaNiKcB8t935vKhwIJC3MJcVq98YY1yMzPrQq3SsV6rPyMqlNeuXJogaaakmYsXL67YRDMzK+vqJLIoH4oi/30mly8EhhfihgFPdVA+rEZ5TRExMSJGR8TowYMHr/JGmJlZ0tVJZArQNsJqPHBNofyIPEprF+D5fLhrGrC3pIG5Q31vYFpetkzSLnlU1hGFuszMrIs0co/1SiT9AtgN2ETSQtIoqzOBKyR9FngCODiHTwX2A+YDL5PuW0JELJF0KjAjx50SEW2d9V8gjQDrD1yfJzMz60JNSyIRcVg7i/aoERvAMe3UMwmYVKN8JvD+VWmjmZmtmlbpWDczsx7IScTMzCpzEjEzs8qcRMzMrDInETMzq8xJxMzMKnMSMTOzypxEzMysMicRMzOrzEnEzMwqcxIxM7PKnETMzKwyJxEzM6vMScTMzCpzEjEzs8qcRMzMrDInETMzq8xJxMzMKuuWJCLpcUmzJc2SNDOXDZI0XdK8/HdgLpek8yTNl/SApB0L9YzP8fMkje+ObTEz6826c0/koxExKiJG58cnADdFxEjgpvwYYF9gZJ4mAOdDSjrAScDOwBjgpLbEY2ZmXaOVDmeNAy7J85cABxbKL43kTmCApCHAPsD0iFgSEc8B04GxXd1oM7PerLuSSAA3SLpH0oRctmlEPA2Q/74zlw8FFhSeuzCXtVduZmZdpG83rffDEfGUpHcC0yU9XCdWNcqiTvnKFaRENQFgs80262xbzcysHd2yJxIRT+W/zwC/JvVpLMqHqch/n8nhC4HhhacPA56qU15rfRMjYnREjB48ePDq3BQzs16ty5OIpPUkbdA2D+wNPAhMAdpGWI0HrsnzU4Aj8iitXYDn8+GuacDekgbmDvW9c5mZmXWR7jictSnwa0lt678sIn4raQZwhaTPAk8AB+f4qcB+wHzgZeAogIhYIulUYEaOOyUilnTdZpiZWZcnkYh4FNi+RvlfgT1qlAdwTDt1TQImre42mplZY1ppiK+ZmfUwTiJmZlaZk4iZmVXmJGJmZpU5iZiZWWVOImZmVpmTiJmZVeYkYmZmlTmJmJlZZU4iZmZWmZOImZlV5iRiZmaVOYmYmVllTiJmZlaZk4iZmVXmJGJmZpU5iZiZWWVOImZmVpmTiJmZVdbjk4iksZIekTRf0gnd3R4zs96kRycRSX2AHwH7AtsAh0napntbZWbWe/Tt7gasojHA/Ih4FEDSZGAc8FC3tspsDTDihOtqlj9+5v5d3BJrZYqI7m5DZZIOAsZGxOfy48OBnSPi2FLcBGBCfvh3wCOlqjYBnm1wtZ2JbWbdPS22VdrRCrGt0o6eFtsq7WiF2O5ox+YRMXil0ojosRNwMPCTwuPDgf+sUM/MZsQ2s+6eFtsq7WiF2FZpR0+LbZV2tEJsK7WjR/eJAAuB4YXHw4CnuqktZma9Tk9PIjOAkZK2kLQ2cCgwpZvbZGbWa/TojvWIWC7pWGAa0AeYFBFzKlQ1sUmxzay7p8W2SjtaIbZV2tHTYlulHa0Q2zLt6NEd62Zm1r16+uEsMzPrRk4iZmZWmZOImZlV5iRiZmaV9ejRWdY7SdoIGAsMBYJ0btC0iFjaiTr2iojppbINgcER8adS+XYR8UCp7F0AEfEXSYOB/wc80sjoQElnRMQ3GojbAtgBeCgiHq6xfDPgmYh4RZKAI4EdSZf9+XFELC/EHgDcEBGvdLTeHP8PwKKIeETSR4BdgLkRsdK1UCStT3o/hgPLgXl5XStqxG5NujRR8b2bEhFzG2lXruOoiLionbqHAndFxIuF8rER8dtS7BggImJGvt7eWODhiJjawPovjYgjGoj7COnSTA9GxA2lZTuTXs8XJPUHTuCt9+6MiHi+EPtF4NcRsaCjdeb4ttMdnoqIGyV9Gvh7YC4wMSJeL8VvCXyct79/vyi2oe76euPorM7+CEnah3Qi400R8Xih/DMRMamDdd0cEbvXKN8kIp4tPP5n8geO9AMQhWUfB26LiCX5B+v75B8X4KsRsbBUd9O+qHXivxURpxQenwP8MiJ+3+DzPwp8krd/kH8SEfNLcUcAJwE3AE/m4mHAXsC3I+LSBtf3RERsVnh8CPAD4BmgH3BkRMzIy+6NiB0LsUeTvvQCziL9eM8BPgx8NyIuLMSeV1416coKlwJExBcLsVdHxIF5flxuz62kH4DvRMTFpW14EBgTES9LOgvYErga2D3X/ZlC7N+Al4DrgV+QPu9vtPPa/ID0WexLGj6/R37ersB9EfG10uv2NeB+4KPAH0hHOD4A/FNEzC7EHg8cBkwmnSgM6b07FJgcEWfWak+N9r3tvctlXwSOIf1QjgKOi4hr8rLy+3cS6aKtfYHpwM6k13nP/LqcXogtn3emvJ03A0TEAYXYuyNiTJ7/fG7Pr4G9gd8Ut0/SHGD7fJrCROBl4CrSa719RHyiEPs86b37E+m9uzIiFtd5fX6et21dYCmwPvCrXLciYnzpdfsYcBuwHzALeI6UVP5/RNza3nre1JnT29eECTgivxnnAyfm6YJcdkSN+DOA35G+0H8C/rWw7N5S7AOlaTbwatvjUuy9hfkTSV/W8cCVwLml2IcK85cDXyZ9+Y4Eppdij88fhBOAf87TCW1lnXidnujk6/pE6fFiYCbwZ+C7wA51nnsmcFFu61XA94DPA/cBB5diHwEG1KhjIPDHUtmUdqbfAC+VYmcBQ/L8GOBh4BP58X2l2NmkL+jGwIvAuwptmFWKXQj8LH/uxudpcdt8Kfa+wvwfgC3y/CbA/TW2ufi5uAdYq/D4/nLduX2fB24CFuXP/a416p1D+rFcl/SDsm4u70f6r7r8mV+30M5peX474A+l2D8C/Wqsb21gXgffpbd9p2rUMRtYP8+PyJ+94+q8f33y9r0AbJjL+1Pje5rfv91ISXQ34Ok8v2sptvj+zSDt1QKsB6cIwkoAAAuGSURBVMwuxc6t9VvQ9lms8d6tRUpGF+bPz2/zZ2iDGq/FA/lv3/w+98mPVWP7ZheWrwvcmuc3K79u7X5/GwlakyY68SNUeJH75vkBwFTyj3yND+eU/IHbGtg8f5gX5PnN63zg7gXWy/P9anzgHinM39PBB66ZX9QX2pmWActrbR8wEvgm6YfpYdJexFbl17gw3xf4feE9Kf9o/RHYqEbbNqqxfc8B+5O/8IVpN9KhmpptyI+HkH6Yv8jKX/LiPwAr/ViXHm9A+gfkMmBoLnu0nc9msd6769Wby6YBu+f5X7Z9xkjJrdyu8ja8K2/bHcCC0rIH89935Newf37ch0LiKnw/2o5o9C99rsvv3cOUvge5fPPiZzyXLSLtUWxemkaQDtOU6yi3a33SD+051PhRrvN+lWPXIv3TNh0Y1cH7d3/+zG5M6fpTNdZzJXBUnr8IGJ3ntwJmdPDe9QMOIO2VLK7RjgdJ3/eBpO/moML7ObcUOxtYp/B9u6dYT63tLE+9sU9EpEM8ZSvysrK+kY8tR8RSSR8DJkq6kvRGvSkiDsiHniYCZ0fEFEmvR8Sfa9TbX9IOpA9pn4h4KdfxuqTyYYZbJZ0CfCfPHxgRV+dDQOXjliuAd5P2AIqG5GVFmwL7kH4oikT6T7hsKfDBiFhUXiCpfLw28vbMA04FTpW0HelwxlTgvcU2SxoUEUty2/vk5z6Xj/UXnQ7cK+kGUoKG9F/TXnk9RXcCL0fEbTXaW76S8zJJW0buD4mIpyXtRjo8tG0pdoWkfpGOLb95XXRJ76A0WCUilgFfkrQT8DNJ15VjCraX9ALp9V9H0rsi9bms3faalHwOuFTSyaTPwSxJbXscXylvcqldfwHOA86TtHkp9jpJ/0v60fkJcIWkO0kJ+Hel2KnAbyXdRjpEdGV+LQaV1wl8CbhJ0jze/t69Fzi2FHstac9iVnmjJd1aLgP+ImlUW3xEvCjpH4FJpENrRa9JWjciXgZ2KtS7EaXvSKR+nXPz9/1cSYtovy95I9I/HgKi8P6tz8qvxeeAH0o6kXTF3Dvyd2hBXva2TS616XXyXnXuTym7kJSw+wD/AVwp6VFSv9bkUuxPgBn5/f0H0uFZ8mHzJe1s59s1kmnWpIm0C9h2OOsbeWo7nHVkjfhrqb3Lfxqwop11rEf6D2gKsLCdmFtKU9uhlFr/xfQDTgaeyNMK0n8YlwGblWLHAvNJx7An5um3uWxsKfZC4CPttO+ydrZ5TDvxZ5UeN7QrnGM/RUp6N+Tt2z+XD26nHQNJx9G/Cvxbnh+4ip+L7YGRNcr7kY7tF8s2o/be3lBgzzrrEOk4+c862bYBwIfqLH8fqQ/sk6Tj+2vViNmtk+v8ELBLnt8yv86HtFP3fnn5XoWytcj/4ZZi1yL9mH0SOCjP91mV9y7XO4x8WLHGsg+XHq/Urly+CfCBDtazP6njuzNtW5d8aLLGsg3yZ28nYNN2YrbqzPryc94NvLvw+Tmoznd327x86yqvfW/tWB9I+g98KOmLvZB0LLf8HzltmT4i/lZj2dCIeLJcXli+PenLf0En2taH9CF/uZ3lG5H2jv5ap461SMf1i9s3I9rpSG0GSetHYYRMA/GDgPeQbjLW4SgrSZtSGDgQNfaOekNsq7Sjs22u8fyGPy8VPltNqbunxTar7l6ZRGDVP/S5jq2jxtDL7o5VGvr5QqTDbyOA0aRjoSsNP20n9uGIeLDOOkdTGEVVr62rO1bSKNKe40ak5CjSf6FLSaNJ7i3E7kDa49yIt4/kqhVbrLcc+4WIuK8JsZ1p79vqrVB3t8fWU2vE1eqIbWbdPS22WXX3uj6R9n6EJHXqQ5/dQDq00TKxkk4AjgZelXQ26TDD74FvS7owIs6pEpvjdyUNL15K2v3+PTBQ0uvA4VEYx96sWOBi4OiIuKvUtl1IHZTbF4ov6kRsvXovblJsZ9pbrrezdXd7rKRyP82bi0gd4VSJbWbdPS222XXX0uuSCJ37gtQa5//mItKxxpaKJZ2DsA3pOOzjwHsiYrGk9YC7SH01VWIhjTLaO8dsAZwTER+WtBepf2XvLohdr/zeAUTEnbnd9JLYVmlHZ2LPIA3fXl6OZ+XBBp2JbWbdPS222XWvpDcmkc5+UY8ideC+WmPZYS0Y+0ZE/E3Sa8DfgL8CRMRLWmmgU6diIXWAtp3k9ARpyCURMV3pBLWuiL1eaYTTpbw1wmc46TyM3/ai2FZpR2di7wWujoh7yhsiqTwiqTOxzay7p8U2u+6V9Lo+kfxf/ZbU/tA/FhHHluJvBk6MiJWGvEp6LCK2aLHYi0lDj9cjnQW7nPRl3p10YtIhVWJz/CRSH9JNpNFAT0bEVyStSxrLvnWzY3P8vrx1Rn7bwIEpUeOSFWtybKu0o9FYSX8HLIkaZ1tL2jQK/ZKdiW1m3T0tttl119LrkgiApP1IJ+s08gUZBLwS7YyWasHYvsDBpB/lq0hDPg8j/Yf/o8jno3Q2Nsf3I53xvA3pxKpJEfGG0gi2d0bhfJhmxZpZi4lVHJ/tyVNXTqQBEWeSrpH01zzNzWUDektsq7SjYuzDqzO2mXX3tNhm111r6nWXgpf0QUm3SPqZpOGSpktaKmmG0hDLcvz6kk6RNEfS85IWS7pT0pE9LHb8qsSW4h/sRDtWayxwBekM+49GxMYRsTHpgnhLyWdL95LYVmlHldjdSrHPrWJsM+vuabHNrntlq/O/xJ4wAXeTLs9wGKlP5KBcvgdwR434a0gXOhxGupTEN0nXg7qE0pmra3Jsq7SD0jWW6i1bk2NbpR2tENsq7WiF2GbXXTOukaA1aeLtF18rX3m21kXuyheym5H/rkU6Ka9XxLZKO0jnxfw7hUtEkK4BdjxwY2+JbZV2tEJsq7SjFWKbXXetqdcdzgJekbS3pINJF0lru3/DrkCty4K8pHRzGZQuvrgE3rwwW3kc7Joc2yrt+BTp+mK3SXpO0hLSvSAGka7t1FtiW6UdrRDbKu1ohdhm172yRjLNmjSRTiacRrpA4dbAD0nHb+cAf18jfjvSIbClwO3ki6GRLg74xd4S22Lt2Jp0A6H1S+Vje1Nsq7SjFWJbpR2tENvsuld6fiNBvWUiX9+/GfFrcmxXtoN0D4xHSJdofxwYV1hWvu/CGhvbKu1ohdhWaUcrxDa77prf0Ua/zL1hYhXv5tdbY7uyHXT+DnZrZGyrtKMVYlulHa0Q2+y6a0297rInkh5obxGpQ6ly/Joc20Lt6BP58tQR8bjSjaOuUrqxUrn/ZE2ObZV2tEJsq7SjFWKbXffKGsk0a9JE52+72XD8mhzbKu0AbibfprRQ1pd0GZs3ektsq7SjFWJbpR2tENvsumtNq+WHuSdNdP5ufg3Hr8mxrdIOOncHuzU2tlXa0QqxrdKOVohtdt21pl557SwzM1s9euN5ImZmtpo4iZiZWWVOImZNpOR2pXtutJUdIqnWTabMehz3iZg1maT3k66IugPQB5hFOhv4T6tQZ9+IqHVLU7Mu5SRi1gUkfRd4iXQXyWURcarSJfePId1d8g/AsRGxQtJEYEegP3B5RJyS61gI/A8wFvhBRDR2qW6zJup1JxuadZNvk+5n/RowOu+dfJx0vbblOXEcClwGnBARS5TuPHmLpKsi4qFcz0sR8eHu2ACzWpxEzLpARLwk6XLgxYh4VdKewAeBmZIg7XUsyOGHSfos6fv5btJtg9uSyOVd23Kz+pxEzLrOijxBuqTEpIj4ZjFA0kjgOGBMRCyV9DPgHYWQt9333qy7eXSWWfe4EThE0iYAkjaWtBmwIbAMeEHSEGCfbmyjWYe8J2LWDSJitqRvAzdKWgt4HfgX0lVUHwIeBB4Fft99rTTrmEdnmZlZZT6cZWZmlTmJmJlZZU4iZmZWmZOImZlV5iRiZmaVOYmYmVllTiJmZlaZk4iZmVX2f95Na3DOhO/6AAAAAElFTkSuQmCC\n",
=======
      "image/png": "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\n",
>>>>>>> origin/omar_analytics
      "text/plain": [
       "<Figure size 432x288 with 1 Axes>"
      ]
     },
     "metadata": {
      "needs_background": "light"
     },
     "output_type": "display_data"
    }
   ],
   "source": [
<<<<<<< HEAD
    "#Plot crimes per year\n",
    "dc_crimes_df_sorted.groupby([dc_crimes_df_sorted.Year]).size().plot.bar()\n",
    "plt.title('Crime Over the Years')\n",
    "plt.xlabel('Year')\n",
=======
    "#Plot crimes per month\n",
    "dc_crimes_df.groupby([dc_crimes_df.Month]).size().plot.bar()\n",
    "plt.title('Crimes vs Month')\n",
    "plt.xlabel('Month')\n",
>>>>>>> origin/omar_analytics
    "plt.ylabel('Number of Crimes')\n",
    "plt.show()"
   ]
  },
  {
   "cell_type": "code",
<<<<<<< HEAD
   "execution_count": 22,
=======
   "execution_count": 58,
>>>>>>> origin/omar_analytics
   "metadata": {},
   "outputs": [
    {
     "data": {
<<<<<<< HEAD
      "image/png": "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\n",
=======
      "image/png": "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\n",
>>>>>>> origin/omar_analytics
      "text/plain": [
       "<Figure size 432x288 with 1 Axes>"
      ]
     },
     "metadata": {
      "needs_background": "light"
     },
     "output_type": "display_data"
    }
   ],
   "source": [
<<<<<<< HEAD
    "#Plot crimes per month\n",
    "dc_crimes_df.groupby([dc_crimes_df.Month]).size().plot.bar()\n",
    "plt.title('Crimes vs Month')\n",
    "plt.xlabel('Month')\n",
    "plt.ylabel('Number of Crimes')\n",
=======
    "fig, ax = plt.subplots()\n",
    "dc_crimes_df.groupby([dc_crimes_df.Month]).size().plot.bar()\n",
    "plt.grid(axis='y', alpha=0.45)\n",
    "plt.title('Crimes vs Month')\n",
    "plt.xlabel('Month')\n",
    "plt.ylabel('Number of Crimes')\n",
    "plt.ylim(20000, 36000)\n",
    "labels = [item.get_text() for item in ax.get_xticklabels()]\n",
    "ax.set_xticklabels([\"Jan.\", \"Feb.\", \"Mar.\", \"Apr.\", \"May\", \"Jun.\",\n",
    "            \"Jul.\", \"Aug.\", \"Sep.\", \"Oct.\", \"Nov.\", \"Dec.\"])\n",
>>>>>>> origin/omar_analytics
    "plt.show()"
   ]
  },
  {
   "cell_type": "code",
<<<<<<< HEAD
   "execution_count": 23,
=======
   "execution_count": 24,
>>>>>>> origin/omar_analytics
   "metadata": {},
   "outputs": [
    {
     "data": {
<<<<<<< HEAD
      "image/png": "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\n",
=======
      "image/png": "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\n",
>>>>>>> origin/omar_analytics
      "text/plain": [
       "<Figure size 432x288 with 1 Axes>"
      ]
     },
     "metadata": {
      "needs_background": "light"
     },
     "output_type": "display_data"
    }
   ],
   "source": [
    "#Plot crimes crimes per day of the week\n",
<<<<<<< HEAD
    "dc_crimes_df_sorted.groupby([dc_crimes_df_sorted.Day_of_Week]).size().plot.bar()\n",
=======
    "dc_crimes_df.groupby([dc_crimes_df.Day_of_Week]).size().plot.bar()\n",
>>>>>>> origin/omar_analytics
    "plt.title('Crimes vs Day of the Week')\n",
    "plt.xlabel('Day_of_Week')\n",
    "plt.ylabel('Number of Crimes Acts')\n",
    "plt.show()"
   ]
  },
  {
   "cell_type": "code",
<<<<<<< HEAD
   "execution_count": 24,
=======
   "execution_count": 25,
>>>>>>> origin/omar_analytics
   "metadata": {},
   "outputs": [
    {
     "data": {
<<<<<<< HEAD
      "image/png": "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\n",
=======
      "image/png": "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\n",
>>>>>>> origin/omar_analytics
      "text/plain": [
       "<Figure size 432x288 with 1 Axes>"
      ]
     },
     "metadata": {
      "needs_background": "light"
     },
     "output_type": "display_data"
    }
   ],
   "source": [
    "#Plot crimes crimes per Time of the day\n",
<<<<<<< HEAD
    "dc_crimes_df_sorted.groupby([dc_crimes_df_sorted.SHIFT]).size().plot.bar()\n",
=======
    "dc_crimes_df.groupby([dc_crimes_df.SHIFT]).size().plot.bar()\n",
>>>>>>> origin/omar_analytics
    "plt.title('Crimes vs Time')\n",
    "plt.xlabel('Time of the Day')\n",
    "plt.ylabel('Number of Crimes Acts')\n",
    "plt.show()"
   ]
  },
  {
   "cell_type": "code",
<<<<<<< HEAD
   "execution_count": 25,
=======
   "execution_count": 26,
>>>>>>> origin/omar_analytics
   "metadata": {
    "scrolled": false
   },
   "outputs": [
    {
     "data": {
      "text/plain": [
<<<<<<< HEAD
       "THEFT/OTHER                   139393\n",
       "THEFT F/AUTO                  105728\n",
       "ROBBERY                        34683\n",
       "MOTOR VEHICLE THEFT            31835\n",
       "BURGLARY                       29899\n",
       "ASSAULT W/DANGEROUS WEAPON     23418\n",
       "SEX ABUSE                       2613\n",
       "HOMICIDE                        1260\n",
=======
       "THEFT/OTHER                   139401\n",
       "THEFT F/AUTO                  105733\n",
       "ROBBERY                        34686\n",
       "MOTOR VEHICLE THEFT            31839\n",
       "BURGLARY                       29901\n",
       "ASSAULT W/DANGEROUS WEAPON     23420\n",
       "SEX ABUSE                       2691\n",
       "HOMICIDE                        1357\n",
>>>>>>> origin/omar_analytics
       "ARSON                            274\n",
       "Name: OFFENSE, dtype: int64"
      ]
     },
<<<<<<< HEAD
     "execution_count": 25,
=======
     "execution_count": 26,
>>>>>>> origin/omar_analytics
     "metadata": {},
     "output_type": "execute_result"
    }
   ],
   "source": [
    "#Distribution of each type of crime\n",
<<<<<<< HEAD
    "dc_crimes_df_sorted.columns\n",
    "dc_crimes_df_sorted[\"OFFENSE\"].unique()\n",
    "dc_crimes_df_sorted[\"OFFENSE\"].value_counts()"
=======
    "dc_crimes_df.columns\n",
    "dc_crimes_df[\"OFFENSE\"].unique()\n",
    "dc_crimes_df[\"OFFENSE\"].value_counts()"
>>>>>>> origin/omar_analytics
   ]
  },
  {
   "cell_type": "code",
<<<<<<< HEAD
   "execution_count": 26,
=======
   "execution_count": 27,
>>>>>>> origin/omar_analytics
   "metadata": {},
   "outputs": [
    {
     "data": {
<<<<<<< HEAD
      "image/png": "iVBORw0KGgoAAAANSUhEUgAAAiMAAAEWCAYAAAC0dZcyAAAABHNCSVQICAgIfAhkiAAAAAlwSFlzAAALEgAACxIB0t1+/AAAADh0RVh0U29mdHdhcmUAbWF0cGxvdGxpYiB2ZXJzaW9uMy4xLjAsIGh0dHA6Ly9tYXRwbG90bGliLm9yZy+17YcXAAAgAElEQVR4nO3debxd093H8c9XQiRIzHqLukVqiCFITTXEWFo1PFWSUrRVHeigD5WiT1VpTVVUJ23V0DS0qCqlaqZiSLgZDEGIIcYYUiSm+D1/rHXYOTnnnnPHncj3/XqdV/Zea+21197n5O7fWWvtsxURmJmZmZVlkbIbYGZmZgs3ByNmZmZWKgcjZmZmVioHI2ZmZlYqByNmZmZWKgcjZmZmVioHI2bWKyTtJelJSa9J2qiX9nmepBN6Y1+9SdJ9kob3wn6OlvT7nt5PV0iaJmnHOnlbS5rS222yjnMwYraAkfR5SePyRf0ZSVdL2qoX9huS1uxCFacBh0XEkhFxb3e1q7tIas3H2LfstjQSEUMi4qZe2M9PIuLgjm4naQtJ/5XUp5D2uzppv+mu9laLiFsjYq3uqKsnA9vCZ++1/HpO0pWSdmqw3WKSjpP0sKTXc2B2rqTWnmhnT3IwYrYAkfRd4AzgJ8BKwEeAXwF7lNmuJq0G3Fd2IxZkC0KglI0D+gAbF9K2Bp6uStsGuKUX2zW/WzoilgQ2BP4N/E3SQe2UvwTYHfg8MChvNx7YoYfb2f0iwi+//FoAXqQ/Nq8Bn2unTD9SsPJ0fp0B9Mt5BwG3VZUPYM28fB7wS+Aq4FXgTmCNnHdLLvt6bsO+Nfa9CHAs8DjwPHBBbnO/vE1l+6l12r426Q/wS8AUYJ9C3qeBe4H/Ak8Cx1VtuxVwO/BKzj+o0THV2P8TuY2v5de2uS3rF8qsCMwGVgCGA08BRwMzgGnAflXvxWm53ueA3wD923nvvgI8kNt5P7BxTp8GHAVMBN4E+ua0HXP+ccBfgT/lbScBHwO+n9+HJ4Gdqz5HfwCeAaYDJwB96rTpOOBPebk1n58D8zHNAI5p53iuB/63cN4eBX5UlRbAKnn9i4XjfxT4aqGu5YEr8/v7EnArsEjh/ByRz89M4GJg8Zw3HHiqUE/dsjn/e/m8PA0cnNu3JnAI8DbwVv5s/COXXwe4KbfrPmD3Ql3n0fxnr3Ju+1alH0H67CxSY5sdSZ/FVcv+29Qdr9Ib4JdffjX3AnYB3qn+g1VV5njgjvyHfgXSBfrHOe8gGgcjLwGbki54o4GLapWts+8vAY8AqwNLApcBFzazPbAE6aL5xbzvjUkXuyE5fziwPing2SD/gd4z530k/7EfCSwKLAcMbeaYqtowzwWB1Ot0cmH924UL0fD8fpxOCjy2JQVba+X8M4ArgGWBpYB/AD+ts+/PkQKDjwMiXQBXy3nTgDZgVXIww7zByBvAJ/MxXgA8BhyTz8dXgMcK+7oc+G0+5ysCd1G48Fe16zjmDUZ+B/QnfQt/E1inzrY/BP6el/fO7dqpKu3RQvlPA2vk498WmMX7AdlPScHcovm1NaDCubgL+HA+1w8AXyu8R9XBSL2yuwDPAkOAAcCFzPv/44RCXYuSPu9HA4sB25M+h2sVynf6s5fTV8/p85xj4CTg5rL/LnXXy8M0ZguO5YAZEfFOO2X2A46PiOcj4gXSN9EvdGAfl0XEXXkfo4GhHdh2P+D0iHg0Il4jfTMf0eTQwm7AtIj4Y0S8ExH3AJeSLlhExE0RMSki3o2IicAY0gWrst/rImJMRLwdES9GRFs3HdP5wOclVf5WfoF0kSr6QUS8GRE3k74F7yNJpCDg8Ih4KSJeJQ2tjaizn4OBUyLi7kgeiYjHC/lnRcSTETG7zva3RsS/8jH+lRSInhQRbwMXAa2Slpa0ErAr8J2IeD0ingd+3k67avlRRMyOiAnABFJQUsvNwFb5XGxN6s0YC2xeSLu5UjgiroqIqfn4bwauzWUg9Uq0kAK0tyPNBSk+WO2siHg6Il4iBX3tvcf1yu4D/DEi7ouIWaT/O+3ZnBR0nxQRb0XEDaTem5GFMl357EHqoYEUOFVbjtSL84HgYMRswfEisHyDi/uHScMkFY/ntGY9W1ieRfpj26xa++5LmtvSyGrAZpJeqbxIQcaHACRtJulGSS9Imgl8jdR1D6nHYGo7dXf6mCLiTlJvx7aS1ib1WFxRKPJyRLxeWK+c7xVI367HF47nmpxeS6NjeLJBU58rLM8mBa1zCuuQjns10jf6Zwrt+i2ph6RZzZ7PO3LeeqS5IbfmIPXJQtp780Uk7SrpDkkv5XZ9ivff41NJvRDXSnpU0qhOtqm9sh9m7vPc6Jx/GHgyIt4tpD0OrNzJdtVSqeulGnkvkgK0DwQHI2YLjrGk7vg92ynzNOmCU/ER3v929TrpAgmApA91c/tq7fsd5r5Q1vMkqct56cJryYj4es7/MykIWDUiBpG67FXYdo1uaH+9R5ifD+xP6hW5JCLeKOQtI2mJwnrlfM8gBQFDCsczKNLkxFoaHUN3PV79SdLQyvKFdg2MiCHdVP978nm6m9Tr1RIRD+asW3PaBuRgRFI/Uk/YacBKEbE08E/yexwRr0bE/0bE6sBngO9K6u5Jms8AqxTWV60+pKr1p4FVC71mkN7/6d3Ypr1I835q3Z58HbCppFVq5C1wHIyYLSAiYibwf8AvJe0paYCkRfM3ylNysTHAsZJWkLR8Lv+nnDcBGCJpqKTFSfMBOuI50hh2PWOAwyV9VNKSpGGJixsMK1VcCXxM0hfyMS0q6eOS1sn5SwEvRcQbkjYl3T1QMRrYUdI+kvpKWk5SR7vDAV4A3mXeY7yQdFHYnzTvodqP8i2WW5Musn/N35Z/B/xc0ooAklaW9Mk6+/49cISkTZSsKWm1OmU7LSKeIQ1//EzSQEmLSFpD0raNtu2kW4DvkOYuVdyW056NiEpv0GKkeTcvAO9I2hXYubKBpN3yORFpEvOc/OpOfwG+KGkdSQNI/3eKqj//lV6z7+XP63BSoHRRVxsiaSVJh5Hm3Xy/qvcFgIi4jvfvuNkkf/aXkvQ1SV/qaht6m4MRswVIRJwOfJd018oLpG+6h5EmJUK6M2Ic6W6BScA9OY2IeIg0wfU64GHSRaEjjgPOz937+9TIP5d04b6FNIHyDeCbTR7Xq6SLzwjSN85ngZNJFyiAbwDHS3qVdJH4S2HbJ0hd+v9L6s5uo/48hvbaMAs4EfhPPsbNc/pTpPMYpG/1Rc8CL+c2jyZNhqz0ABxFGlq4Q9J/See95m9eRMRf877/TJoEeTm15wl0hwNIF//7c9svoee6+28mDQEVP2u35bT3hmjy+/8t0vv6MinYLA6HDSadv9dIPYS/im7+nZWIuBo4C7iR9L6NzVlv5n//AKybPxuXR8RbpNtqdyX1hP0KOKDw/nfGK5JeJ/3f/RTpzrlzK5lKvyl0dKH83qQepItJdwdNBoaRztUCpTIb2czM6pB0LvB0RBxbSBtOutPkA9FNbnPLvXKTSbfGN9O7Z13gnhEzs3bkX7P8H9I3Y/sAU3pkwWKSliH1zP3DgUjvcDBiZlaHpB+Tvh2fGhGPld0e63FfJQ1/TiXNSfl6+8Wtu3iYxszMzErlnhEzMzMr1YLy0CWz0iy//PLR2tpadjPMzBYo48ePnxER9X7oby4ORswaaG1tZdy4cWU3w8xsgSLp8calEg/TmJmZWakcjJiZmVmpHIyYmZlZqRyMmJmZWak8gdWsgUnTZ9I66qqym2Fm1qumnfTpXtuXe0bMzMysVA5GzMzMrFQORhZCkpaT1JZfz0qaXlifVVX2IEln5+Xjqsq2SVpa0nBJMwtp10k6prA+p7D8rVxXi6Rr8/IQSTdIekjSw5J+oOSLhe3ekjQpL59UbFehrTdJGpaXpxXKt0k6K6efJ+mxnDZB0g69cc7NzKw+zxlZCEXEi8BQSAEG8FpEnJbXX2uw+c8rZSskAdwaEbtVlT2xUmdEDK3K2wX4l6T+wBXA1yPiWkkDgEuBb0TEL4E/5jqmAdtFxIy8flATh/pe+SpHRsQlkrYDzgEGN1GXmZn1EPeMWFl2Aa4GPg/8JyKuBYiIWcBhwKheaMNYYOVe2I+ZmbXDPSNWrb+ktsL6sqSei4rDJe2fl1+OiO3y8taF7f4aESfW24GkPsBaEXG/pIOB8cX8iJgqaUlJAyPiv+20dV9JWxXW16zKv1HSnLx8fkT8vCp/F+DyOm08BDgEoM/Aph6tYGZmneRgxKrNLg6p5OGQYYX8eYZpslrDNPVsBtxZ2QUQdcrVS6+4OCIOK7T1pqr8esM0p0o6BVgR2LzmjiPOIQ3h0K9lcKN2mJlZF3iYxsqwK3BNXr6PuYMdJK1Omsfyag/t/0hSL8qxwPk9tA8zM2uSgxErww7A9Xl5NLCVpB0B8oTWs4BTerIBEfEucCawiKRP9uS+zMysfQ5GrKMOr7q1t7UjG0taAXijMhckImYDewDHSpoCTALuBs6uX0vTbiy084LqzIgI4ATge92wLzMz6ySlv8dmvSNPfl0lIk4quy3N6tcyOFoOPKPsZpiZ9aqu/hy8pPERMaxxSQcjZg0NGzYsxo0bV3YzzMwWKB0JRjxMY2ZmZqVyMGJmZmalcjBiZmZmpXIwYmZmZqVyMGJmZmalcjBiZmZmpXIwYmZmZqVyMGJmZmalcjBiZmZmpXIwYmZmZqVyMGJmZmalcjBiZmZmpepbdgPM5neTps+kddRVZTfDzLqgq0+gtZ7lnhEzMzMrlYORhYik5SS15dezkqYX1mdVlT1I0tl5+biqsm2SlpY0XNLMQtp1ko4prM8pLH+rRv0vFPIvKORtIel3hfUz8/4XKaQdJ+mIqjqnSVqpnWNcTNIqkv4u6WFJU3Pdi3X3uTYzs+Z5mGYhEhEvAkMhXcyB1yLitLz+WoPNf14pWyEJ4NaI2K2q7ImVOiNiaDt1XhwRh9VI3wW4JtexCLAX8CSwDXBTg3bOqeyzxjEKuAz4dUTsIakPcE5u75EN6jUzsx7inhGbH+0AXJeXtwMmA78GRnax3u2BNyLijwARMQc4HPiSpAFdrNvMzDrJwYhV9C8OwwDHV+UfXsi/sZC+dSH9mA7uc9/Ctl8EkLQ88HZEzMxlRgJjgL8Bu0latBPHVjEEGF9MiIj/Ak8Aa3ahXjMz6wIP01jF7OKQiqSDgGGF/HmGabJawzTNqjVMszNwbW7DYsCngMMj4lVJd+b8q4CoU2e9dADVyZ8nXdIhwCEAfQau0OAwzMysK9wzYvObXcnzRUhzRwYBkyRNA7bi/aGaF4FlqrZdCnilnbrvY+4AC0kDgVWBqcX0iDgnIoZFxLA+AwZ14jDMzKxZDkZsvpEnmG4AtOWkkcDBEdEaEa3AR4Gd8/yOW4DdJS2Vt/0fYEKeB1LP9cAASQfkbfoAPwPOi4hZ7WxnZmY9yMGINas4Z6RNUmsP7GMT4N6IiBxwfJI0JANARLwO3AZ8JiImAmcDt+U5Ll8DDm6v8ogI0p05n5P0MPAQ8AZwdA8ci5mZNUnp77NZ+SQdCzwSEReV3Zaifi2Do+XAM8puhpl1gX+BtfdJGh8RwxqX9ARWm49ExAllt8HMzHqfgxGzBtZfeRDj/K3KzKzHeM6ImZmZlcrBiJmZmZXKwYiZmZmVysGImZmZlcrBiJmZmZXKwYiZmZmVysGImZmZlcrBiJmZmZXKwYiZmZmVysGImZmZlcrBiJmZmZXKz6Yxa2DS9Jm0jrqq7GYssPy0VDNrxD0jZmZmVioHI2ZmZlYqByPWrSTNkdQmabKkf0haupA3RNINkh6S9LCkH0hSzjtI0gt52/skXSJpQM47TtL0nPegpF9LWiTnnSfpsZzXJun2GvU9KOnwnL6zpLGF/fbJZbbs7XNlZmaJgxHrbrMjYmhErAe8BBwKIKk/cAVwUkR8DNgQ2BL4RmHbi/O2Q4C3gH0LeT+PiKHAusD6wLaFvCPzdkMjYsvq+oBPAMdIWjUirgUeB76cy3wTuDsibu+ewzczs47yBFbrSWOBDfLy54H/5GCAiJgl6TDgJuCXxY0k9QWWAF6uUediwOJ18mqKiBclPQK0AE8ChwO3SRoLHAZs2oFjMjOzbuaeEesRkvoAO5B6QwCGAOOLZSJiKrCkpIE5aV9JbcB0YFngH4Xih+e8Z4CHIqKtkHdqYZhmdI22fIQUwEzM+30GOIMULJ0QES/V2OYQSeMkjZsza2ZHD9/MzDrAwYh1t/45aHiRFFD8O6cLiDrbVNIrwyofAiYBRxbKVIZpVgSWkDSikFccptmvkL6vpPuAR4EzI+KNQt4vgT4RcV7NBkWcExHDImJYnwGDGh2zmZl1gYMR626zc9CwGmlI5dCcfh8wrFhQ0urAaxHxajE9IoLUK7JNdeUR8TZwTa28Gi7O80+2Bn4m6UOFet6lfnBkZma9yMGI9YiImAl8CzhC0qLAaGArSTvCexNazwJOqVPFVsDU6sR8F8yWtfLaactY4ELg2x05BjMz6x0ORqzHRMS9wARgRETMBvYAjpU0hTQMczdwdmGTffO8j4nARsCPC3mVOSOTSROvf1XIK84ZaZO0WI3mnAx8UdJS3XaAZmbWLZR6xM2snn4tg6PlwDPKbsYCyz8Hb7ZwkjQ+IoY1Lulbe80aWn/lQYzzBdXMrMd4mMbMzMxK5WDEzMzMSuVgxMzMzErlYMTMzMxK5WDEzMzMSuVgxMzMzErlYMTMzMxK5WDEzMzMSuVgxMzMzErlYMTMzMxK5WDEzMzMSuVn05g1MGn6TFpHXVV2M+ZrfhiemXWFe0bMzMysVA5GzMzMrFQORrpAUki6sLDeV9ILkq4spO0paaKkByVNkrRnTv+lpDZJ90uanZfbJO2t5FhJD0t6SNKNkoYU6pyW65oo6WZJq9Vo23mSvlqVtqekf+blOYV9tkkaldNvkjSssE2rpMl5eXjVse0qaZykB/LxnZbTj5N0RI021dxnIb+9c3KepL2ryr9WaOPsqroPqDpXlfRtC8svSXosL1/X3nttZmY9x3NGuuZ1YD1J/SNiNrATML2SKWlD4DRgp4h4TNJHgX9LejQiDs1lWoErI2JoYbvDgC2BDSNilqSdgSskDYmIN3Kx7SJihqQfAccCX6lq2xhgFPDbQtqInA4wu7jPjpK0HnA28OmIeFBSX+CQBpu1u88G52S3BnVPbafu7SJiRmF9aK7zvLyfSxrUbWZmPcg9I113NVCZvTeS9y/2AEcAP4mIxwDyvz8FjmxQ51HANyNiVt7uWuB2YL8aZccCK9dIvw5YW1ILgKQBwI7A5U0cUzO+B5wYEQ/mNr4TEb/qprrNzGwh4mCk6y4CRkhaHNgAuLOQNwQYX1V+XE6vSdJAYImImNrkdrtQI8CIiDnAZcA+OWl34MaIeDWv968a1ti3sPnoSjrwzzpNXa/GsTXS3j6bcWpx+6q8Narq3rqQd2NOu5MmSTokD0GNmzNrZgebaWZmHeFhmi6KiIl5WGEk8164BUQTac2o3u5GSSsBz5OGaWoZA5wKnEkaormgkNfekMl+ETEO3h8y6UR7a+nS0BBwZHFIpTJnJOvIME1DEXEOcA5Av5bBnXm/zMysSe4Z6R5XkOaGjKlKvw8YVpW2MXB/vYoi4r/A65JWb7DddsBqeR/H16nuP0BLnruyJfV7OTrjPmCTbqzPzMwWUg5Guse5wPERMakq/TTg+7l3odLLcDTwswb1nQqcJal/3m5HYCvgz8VCedLsd4ADJC1bXUlEBPAX4Hzgn4XJr93hVOBoSR/LbVxE0ne7sX4zM1tIeJimG0TEU6ShkOr0NklHAf+QtCjwNvC9iKie71DtF8AywCRJc4BngT1y8FG9j2ckjQEOBX5co64xpAmzo6rS+1fNu7gmIqrL1JWHp74DjMmTYwMo/kzpsTm/Un6Vru6zgTWq6j43Is7qprrNzKwHKX15rpMp/SUi9snLJ0fEUYW8ayNi515oo1mp+rUMjpYDzyi7GfM1/xy8mVWTND4iqqcq1NSoZ2RwYXkn0i2nFSt0tGFmC6L1Vx7EOF9szcx6TKM5I+3dReA7DMzMzKzLGvWMDJC0ESlo6Z+XlV/9e7pxZmZm9sHXKBh5Fji9xnJl3czMzKxL2g1GImJ4L7XDzMzMFlLtzhmR9HFJHyqsHyDp75LOqvW7FmZmZmYd1WgC62+BtwAkbQOcRPpJ8Znkn8o2MzMz64pGc0b6RMRLeXlf4JyIuBS4tMaDyszMzMw6rFHPSB9JlYBlB+CGQp5/vdXMzMy6rFFAMQa4WdIMYDZwK4CkNUlDNWZmZmZd0uhumhMlXQ+0ANfG+78dvwjwzZ5unJmZmX3wNRxqiYg7aqQ91DPNMTMzs4VNu8GIpFd5/2fflf+NvN1iEeF5I/aBN2n6TFpHXdW44ELED8Yzs+7UaJhmqeK6pKWAbwBfBf7Wg+0yMzOzhUSju2kAkLS0pOOACcBSwMcj4n97smFmZma2cGj0C6zLS/opcA/wDrBRRBwbES/2SutsviRpjqQ2SRMk3SNpy5w+XNKVVWXPk7R3Xr5J0pS83d2ShhbKLSnp15KmSrpX0nhJX8l5rZIm12lLX0kz8ue0mF5zX5L+LOnrhXKbSZpYuIXdzMx6WaM/wI8DLwB/BGYBX5b0XmZEnF5nO/tgmx0RlYv7J4GfAts2ue1+ETFO0heBU4GdcvrvgUeBwRHxrqQVgC81Ud/OwBRgH0lHF+74qrevw4Gxki4BXgTOBr4REe802X4zM+tmjYZpTiUFIpCGZ6pfZgOBlzux3VhgZQBJawCbAsdGxLsAEfFCRJzcRD0jgTOBJ4DNG+0rIp4DTgNOAb4GTIyI2zrRfjMz6yaNJrAe10vtsAVL//w4gMVJv0GzfSfq2AW4PC8PASZUApFmSepP+mXgrwJLkwKTsQ32BfAb4EBgODCsTt2HAIcA9Bm4QkeaZWZmHdRozshfCssnV+Vd21ONsvne7IgYGhFrky70FyiN30Wd8sX00ZKeAo4CflGrsKRj8pyUpxu0YzfgxoiYBVwK7CWpT6N95aDnt8DV9eY/RcQ5ETEsIob1GTCoQTPMzKwrGg3TDC4s71SV56+LRkSMBZYnfR5eBJapKrIsMKOwvh/wUeDPwC9z2v3AhpIWyXWemOekDGyw+5HAjpKmAeOB5YDtGuyr4t38MjOzkjUKRup9022UZwsJSWsDfUiByMPAhyWtk/NWAzYE5nrCc0S8DRwLbC5pnYh4BBgHnFDp2ZC0OO//0F6t/Q4EtgI+EhGtEdEKHEoKUOruq+tHbGZm3a3R3TQDJG1EClr652XlV/+ebpzNtypzRiB9Fg6MiDnAHEn7A3/MwcTbwMERMc9DFSNitqSfAUcAXwYOJk2YfkTSS6QHMx5V2GStPORScSZwQ0S8WUj7O3CKpH4N9mVmZvMRzX0nZFWmdBPt9IBExHb18sw+KPq1DI6WA88ouxnzFf8cvJk1Iml8RNS8SaBao7tphndLi8wWYOuvPIhxvviamfWYRnfT/KSwXD2B1czMzKzLGk1g3aWw3MwPUJmZmZl1SFMPyjMzMzPrKY3upllR0ndJd0xUlt/jZ9OYmZlZVzUKRn7H+8+gKS6bmZmZdYtGd9P8qLcaYmZmZgunRnfTXFtY/n7PN8fMzMwWNo0msBafP/O5nmyImZmZLZy68mwaMzMzsy5rNIF1dUlXkO6mqSy/JyJ277GWmZmZ2UKhUTCyR/63P3At6ZHrU0kPMTMzMzPrskbByO3AicCXgCdIPSSrAOcBR/doy8zmE5Omz6R11FVlN6Pb+WF3Zja/aDRn5BRgGeCjEbFxRGwErAEMIj3u3czMzKxLGgUjuwGHRMSrlYSI+C/wdcBfq8zMzKzLGt5NExHz3FETEXNo4k4bSXtJCklrF9IWkXSWpMmSJkm6W9JHc96XctrEnL9HYbu+kmZI+mnVPqZJWr6wPlzSlXn5IElnV5UfJ6lN0hOSXsjLbZJWLZT5rKRLCus/kPRg1XFdVpW/r6QTJE3P9T0s6dLiseeyK0l6R9KXq9KfknRxYX2EpN8X1j+Vz9WDuf4xklbJeX+S9FjhWG7N6QcXjvFBSd+q2ufXc/qDku6UtGVVe5YurO8o6fK83CLpn5ImSLq/emJzLvMLSYcV1q+X9JvC+pmSviVpTUmzC21vk7RfodzH82doh0JaX0lzctnJki6W1D/nrSrpinz+p0o6XdKihWMISbsW6rpG0lbV7Tczs97TKBi5X9IB1YmS9gcerFG+2kjgNmBEIW1f4MPABhGxPrAX8Eq+sB4DbBURGwCbAxML2+0MTAH2kaQm9l1TRAyLiKHA8cDoiBiaX08Wiv0H2LKwvgXwuqTl8vqWuUzFTsC/8/Kpub7BwCXAjYXtKsc/lnRuqm0maa3qREkbAmcA+0fE2sBGwMXAaoVihxeOZetC+uh8vFsDx0lqyXXuCXwR2DLXeShwkaTib8vUcwJwVURsGBHrAsfWKHM7+RxK6gMsDWxQyC+ewymFtg+NiNGFcpXPUPX5ejUf1/p5/Sv5c/F34K/5/K8FLEd6ryuerNNeMzMrSaNg5FDgUEk3SfqZpNMk3Qx8izRUU5ekJYFPAF9m7mCkBXgmIt4FiIinIuJlYEXgVeC1nP5aRDxW2G4kcCZpIu3mzR5gZ0TEs8AbklrzBW5F4ApSUALpQno7QKX3ICJeqlHPGOBG5j7+kcB3SLdKf6hqk59Re2LwKODHETEl1xsRcXlE/KdG2XrH9ALwKOn8AxwFHFFpd0SMA0YD32iiuhbgqULdE2uUKQZ0GwBtwGxJA3MvxmBgQns7kbQI8FngQGBXSYvVOK4AbgXWJAWsr0TEhTnvHeDbwCGSFs+b3EN6b7dr4jjNzKwXtBuMRMT0iNiM9M1yGikQOD4iNo2I6Q3q3hO4JiIeAl6StHFO/wvwmdzF/jNJG+X0CcBzwGOS/ijpM5WK8sVrB+BKYAy1exW6W+Wb/bqkXqA7gC3zBXEIMD6X2xm4rp167gHWBpDUCiwTEeNJvSb7VJUdA2yuPGxVMCTX056fF4Y5LqjOzPvuA0zOSesWjqFiXN5XI2cD50u6QdLRlb8HQScAABjLSURBVN6Wooh4Augj6cOk8zgWuIsUSG4K3JODBYC1qoZpKkHMNsCDEfEoKbjZpcZxLZrTJzH3+1JpxyvA08DqheQTadA7IukQpSG9cXNmzWz3ZJiZWdc06hkBICJuiIhfRMRZEXF9k3WPBC7KyxfldSLiKVL3+fdJv1tyvaQd8jyUXYC9gYdIF9fj8va7ATdGxCzgUmCv3PUPteeudMcvx1a+2VcupHeSLqSbAJMj4q1cbhfg6nbqKQ4pjSQNr0DhnBS8Q+odGVW3MmlFvT8n5TuFrOIwTXFobT9J9wGPAKcX2l2vrZVzV/e8RsQ/SXdV/YEU1NxbNRRVUQnoKudwbGH99kK56mGaSl7Nz1C2lKQ24G7Sb9+cV9X+esdFRNwALC5pixplK2XOyUN6w/oMGFSvmJmZdYOmgpGOyhem7YHfS5oGHAnsW5nrERFvRsTVEXEk8BNSL0pl+OGuiPgpaWjjs7nKkcCOua7xpHkAlW72F0m3H1csC8zohsOY60Kav2EvRfq2Xhwe2YR5exiKNgIeyMsjgYPzcVwGbFKjF+Q8Ui/QyoW0+4CNASLi+TxX4g/Akk0cx+iIGAIMB86UtGJOfyC3vWhj4P683O55jYgXI2J0ROxPGoKpNQm02Lv0ACkY2YJ559zMI/d47AUcn8/XGcCnJS2Ri7xaCF6+HRFvk87TsKp6libNUSoO+UHqHTmmvTaYmVnv6JFghNS7cUFErBYRrRGxKulisJWkjXPXfWVOwAbA45I+XBjKARia0weSLnQfyXW1kuayVL4l3wR8IdfXB9ifNE+jqyaRJogWJ9JOBA7h/fkiGwKTKvNfqknahxQ0XSxpXaBPRKxcOI5TmXs+Cbnn4izSXIeKU4D/q5rcOqAjBxMRt5GGgb5ZqPMUScvktm5MOne/zvk38f557QvsRz6vknYo3L0yEPgoaQiv2n9Iv+L7fES8m+etrAhsRgpM2rMzcHdErJrP10eAfwDtPYLgWmCZyt04ud2nA7+LiDeqzsc/gQ/R3LCUmZn1oJ4KRkYCf6tKuxT4POli9A9Jk0kX93dIcxAWBU5TvnWVdNfJt4H/AW6IiDcLdf0d2F1SP+DHwJqSJgD3koYj/lQoe5DSbaqV1yrNHEAOMMYBzxXmNowlzT2oDCPsClxTtemRlWEUUqCxXUS8mI+93jmp9jvgvcmaEXEv8F3gz5KmSPoPacLmRYVtinNG2grDWEUnkXpmloiIy4ALgTuUblv+DfD5iHg+lz0OWDef13tIPRtjct7HgXskTczn4te5jdXagJWYO/C4D3gh9zRVVM8ZqQSbzZ4v4L33bE9gZD7/U0iTon9QZ5OfkH5R2MzMSqSY92dErEmSbgD2zd/47QOqX8vgaDnwjLKb0e38c/Bm1pMkjY+IYY1LNn42jbUjIrYvuw3W89ZfeRDjfOE2M+sxPTVMY2ZmZtYUByNmZmZWKgcjZmZmVioHI2ZmZlYqByNmZmZWKgcjZmZmVioHI2ZmZlYqByNmZmZWKgcjZmZmVioHI2ZmZlYqByNmZmZWKj+bxqyBSdNn0jrqqnnS/aA5M7Pu4Z4RMzMzK5WDETMzMyuVgxFrmqRjJN0naaKkNkmb5fSbJE3JaW2SLsnpZ0n6QdX2v2yn/gmSxlSlnSfpsVzvg5J+WMibJmn5wvpwSVfm5ZUkXZnrvF/SP3N6q6TZhba2STqgu86RmZl1nOeMWFMkbQHsBmwcEW/mIGCxQpH9ImJc1WbHAm2SRgMBHAxsVKf+dUjB8TaSloiI1wvZR0bEJZIWB+6XdEFEPNagyccD/46IM3P9GxTypkbE0Abbm5lZL3EwYs1qAWZExJsAETGj0QYR8V9JxwBn56T/i4hX6hT/PHAhsA6wOzCmRpnF87+v18ir1d5rC22Z2MQ2ZmZWAg/TWLOuBVaV9JCkX0natip/dGHY49RKYkSMAZYBBkbEhe3Uvy9wMSkIGVmVd6qkNuAp4KKIeL6J9v4S+IOkG/Pw0IcLeWtUDdNsXb2xpEMkjZM0bs6smU3szszMOss9I9aUiHhN0ibA1sB2wMWSRkXEeblIrWEaJK0CfAgISUtGxGs1ynwceCEiHpf0FHCupGUi4uVcpDJMsyRwvaQtI+J20tDPPE3N7f2XpNWBXYBdgXslrZfLNBymiYhzgHMA+rUMrrUfMzPrJu4ZsaZFxJyIuCkifggcBny2ic3OBI4D/gL8sE6ZkcDakqYBU4GBterOgcxNwFY56UVSr0vFssCMQvmXIuLPEfEF4G5gmybaa2ZmvczBiDVF0lqSBheShgKPN9hmV2BF4ALgx8BektatKrMI8Dlgg4hojYhWYA/mHapBUl9gM1LAAikw+ULO6wPsD9yY17eXNCAvLwWsATzR/BGbmVlv8TCNNWtJ4BeSlgbeAR4BDinkj5Y0Oy/PIN15cwawd0QE8Lqk75Ems25f2G4bYHpETC+k3QKsK6klr58q6VjS3TvXA5fl9B8Dv5Y0ARBwDfCnnLcJcLakd0hB9+8j4m5JreQ5I4X9nRsRZ3X4jJiZWbdQuk6YWT39WgZHy4FnzJPun4M3M6tP0viIGNZMWfeMmDWw/sqDGOfAw8ysx3jOiJmZmZXKwYiZmZmVysGImZmZlcrBiJmZmZXKwYiZmZmVysGImZmZlcrBiJmZmZXKwYiZmZmVysGImZmZlcrBiJmZmZXKwYiZmZmVysGImZmZlcrBiFkDk6bPpHXUVbSOuqrsppiZfSA5GDEzM7NSORixLpP0WtX6QZLOLqwfIunB/LpL0laFvJskPSFJhbTLK3VKapU0uZC3qaRbJE3J9f1e0oDiPiUdJ2m6pDZJD0u6TNK6VfuckvPbJF3SM2fGzMya0bfsBtgHm6TdgK8CW0XEDEkbA5dL2jQins3FXgE+AdwmaWmgpU5dKwF/BUZExNgcwHwWWKpG8Z9HxGl5u32BGyStHxEv5Pz9ImJcdx2nmZl1nntGrKcdBRwZETMAIuIe4Hzg0EKZi4ARefl/gMvq1HUocH5EjM11RURcEhHPtdeAiLgYuBb4fKePwszMeoyDEesO/QtDHm3A8YW8IcD4qvLjcnrF9cA2kvqQgpKL6+xnvRp1NeseYO3C+uhCm0/tZJ1mZtYNPExj3WF2RAytrEg6CBjWTnkBUVifA9wG7Av0j4hphSkk3aW6wnaHaSQdAhwC0GfgCt3dFjMzK3DPiPW0+4FNqtI2zulFFwG/AP7STl331airWRsBDzRbOCLOiYhhETGsz4BBndylmZk1w8GI9bRTgJMlLQcgaShwEPCrqnK3Aj8FxrRT19nAgZI2qyRI2l/Sh9prgKTPAjs3qNvMzEriYRrrURFxhaSVgdslBfAqsH9EPFNVLoDTGtT1nKQRwGmSVgTeBW6h9oTXwyXtDywBTAa2L9xJA2nOyOy8PCMiduzM8ZmZWdcpXQPMrJ5+LYOj5cAzAJh20qdLbo2Z2YJB0viIaG/+4Hs8TGNmZmal8jCNWQPrrzyIce4RMTPrMe4ZMTMzs1I5GDEzM7NSORgxMzOzUjkYMTMzs1I5GDEzM7NSORgxMzOzUjkYMTMzs1I5GDEzM7NSORgxMzOzUjkYMTMzs1I5GDEzM7NSORgxa2DS9JllN8HM7APNwYiZmZmVysGImZmZlcrBiJVO0l6SQtLaeb1V0mxJbZLul3SBpEVz3gBJoyVNkjRZ0m2Slsx5q0j6u6SHJU2VdKakxXLe8LyPzxT2e6Wk4SUcspmZFTgYsfnBSOA2YEQhbWpEDAXWB1YB9snp3waei4j1I2I94MvA25IEXAZcHhGDgY8BSwInFup8CjimR4/EzMw6zMGIlSr3anyCFFSMqM6PiDnAXcDKOakFmF7InxIRbwLbA29ExB8L2x0OfEnSgFx8AjBT0k49dDhmZtYJDkasbHsC10TEQ8BLkjYuZkpaHNgMuCYnnQscJWmspBMkDc7pQ4DxxW0j4r/AE8CaheQTgGMbNUrSIZLGSRo3Z5bvpjEz60kORqxsI4GL8vJFeR1gDUltwIvAExExESAi2oDVgVOBZYG7Ja0DCIga9c+VHhG3Akjaur1GRcQ5ETEsIob1GTCos8dmZmZN6Ft2A2zhJWk50vDKepIC6EMKHH5FnjMiqQW4SdLuEXEFQES8Rpofcpmkd4FPkYZgPltV/0BgVWAqsFwh60TS3JF3evL4zMysOe4ZsTLtDVwQEatFRGtErAo8RpqwCkBEPAOMAr4PIOkTkpbJy4sB6wKPA9cDAyQdkPP6AD8DzouIWcWdRsS1wDLAhj18fGZm1gQHI1amkcDfqtIuBY6uSrucFGhsDawB3CxpEnAvMA64NCIC2Av4nKSHgYeAN2rUVXEihaDHzMzKo/Q33Mzq6dcyON585uGym2FmtkCRND4ihjVT1j0jZg2sv7InsJqZ9SQHI2ZmZlYqByNmZmZWKgcjZmZmVioHI2ZmZlYqByNmZmZWKt/aa9aApFeBKWW3oxOWB2aU3YhOcLt7z4LYZnC7e1tn271aRKzQTEH/HLxZY1OavVd+fiJpnNvdexbEdi+IbQa3u7f1Rrs9TGNmZmalcjBiZmZmpXIwYtbYOWU3oJPc7t61ILZ7QWwzuN29rcfb7QmsZmZmVir3jJiZmVmpHIyYmZlZqRyMmLVD0i6Spkh6RNKoEva/qqQbJT0g6T5J387py0r6t6SH87/L5HRJOiu3d6KkjQt1HZjLPyzpwEL6JpIm5W3OkqRubH8fSfdKujKvf1TSnbkNF0taLKf3y+uP5PzWQh3fz+lTJH2ykN4j742kpSVdIunBfN63mN/Pt6TD8+djsqQxkhafH8+1pHMlPS9pciGtx89tvX10sd2n5s/IREl/k7R0Ia9D57Ez71Vn213IO0JSSFo+r5d7viPCL7/8qvEC+gBTgdWBxYAJwLq93IYWYOO8vBTwELAucAowKqePAk7Oy58CrgYEbA7cmdOXBR7N/y6Tl5fJeXcBW+RtrgZ27cb2fxf4M3BlXv8LMCIv/wb4el7+BvCbvDwCuDgvr5vPez/go/n96NOT7w1wPnBwXl4MWHp+Pt/AysBjQP/COT5ofjzXwDbAxsDkQlqPn9t6++hiu3cG+ublkwvt7vB57Oh71ZV25/RVgX8BjwPLzw/nu9f+qPrl14L2yv/J/lVY/z7w/ZLb9HdgJ9IvwrbktBbSD7MB/BYYWSg/JeePBH5bSP9tTmsBHiykz1Wui21dBbge2B64Mv/BmlH4A/7e+c1/GLfIy31zOVWf80q5nnpvgIGkC7uq0ufb800KRp7MF4u++Vx/cn4910Arc1/Ue/zc1ttHV9pdlbcXMLrW+Wl0Hjvz/6Kr7QYuATYEpvF+MFLq+fYwjVl9lT/yFU/ltFLkLtqNgDuBlSLiGYD874q5WL02t5f+VI307nAG8D3g3by+HPBKRLxTY1/vtS/nz8zlO3o8XbU68ALwR6Xhpd9LWoL5+HxHxHTgNOAJ4BnSuRvP/H+uK3rj3NbbR3f5EqlnoDPt7sz/i06TtDswPSImVGWVer4djJjVV2ssv5R74SUtCVwKfCci/tte0Rpp0Yn0LpG0G/B8RIxvom3t5fVqu0nfPjcGfh0RGwGvk7qZ6ym93Xk8fg/SkMCHgSWAXdvZT+ltbtIC0U5JxwDvAKMrSXXa0Zl2d+sxSRoAHAP8X63sOvvqlfPtYMSsvqdIY6sVqwBP93YjJC1KCkRGR8RlOfk5SS05vwV4PqfXa3N76avUSO+qTwC7S5oGXEQaqjkDWFpS5ZlYxX29176cPwh4qRPH01VPAU9FxJ15/RJScDI/n+8dgcci4oWIeBu4DNiS+f9cV/TGua23jy7Jkzl3A/aLPCbRiXbPoOPvVWetQQpaJ+T/m6sA90j6UCfa3a3n28GIWX13A4PzTPfFSBPIrujNBuTZ6X8AHoiI0wtZVwAH5uUDSXNJKukH5JnxmwMzczfpv4CdJS2Tv0nvTBqXfgZ4VdLmeV8HFOrqtIj4fkSsEhGtpPN2Q0TsB9wI7F2n3ZXj2TuXj5w+It9V8FFgMGnSXI+8NxHxLPCkpLVy0g7A/czf5/sJYHNJA3KdlTbP1+e6oDfObb19dJqkXYCjgN0jYlbV8TR9HvO57+h71SkRMSkiVoyI1vx/8ynSBPlnKft8d3QSj19+LUwv0gzzh0iz4I8pYf9bkbo+JwJt+fUp0rjx9cDD+d9lc3kBv8ztnQQMK9T1JeCR/PpiIX0YMDlvczYdnCDXxDEM5/27aVYn/WF+BPgr0C+nL57XH8n5qxe2Pya3bQqFO0966r0BhgLj8jm/nHQHwXx9voEfAQ/mei8k3ckx351rYAxpXsvbpAvhl3vj3NbbRxfb/QhpLkXl/+VvOnseO/NedbbdVfnTeH8Ca6nn2z8Hb2ZmZqXyMI2ZmZmVysGImZmZlcrBiJmZmZXKwYiZmZmVysGImZmZlcrBiJn1GEnLSWrLr2clTS+sL1aj/LKSvtZEvX0lvVInPSSdXEgbJenYrh8NSPqTpD27o64G+xmh9MTg62rkrS3p6vxE1AckXSRpnp/bVnri88U93daOtquH9t1H0q15eXVJIwp5G+ffBOlonbdJGtqd7bT6HIyYWY+JiBcjYmhEDCU9jfTnlfWIeKvGJssCDYORBmYD+0hatov1dKvCL2w242DgkIjYsaqO/qQH4f0iIgZHxDrA76h6XomkvhHxZETs29V2N6PZdvWUiJgTEVvn1dVJPyhWsTHQ4WDEepeDETMrhaTvSZqcX9/MyScBa+Wek5MkDZR0g6R7JE1UeuZNI28B5wLfrrHPuXo2JL2W/91R0o2SLsnf7E+QdICku/N+WwvVfFLSrZIekrRr3r6vpNMl3ZXLH1yo9zpJFwH31mjP/pIm5XPwk5x2POkR7r+XdFLVJl8AbomIf1YSIuL6iHhA0sG5N+JK4GpJa0pqy3UeLOkySVdKekzS1yUdqfQwwNslLZ3LDZb0L0njJd0i6WM5fURu4wRJN9Y45+21q7+k8/Nx3iNpmw626bZ8bm+VdL+kYZL+lt+n4wrnv9JTdhKwXf4MfZv0HJb98vrekpaUdF5+r+6V9JlcxwBJf83v30WkHxyzXtKRSN3MrFtI2hTYD9gU6APcJelm0kPp1sw9KZXn8uwREa/mLv//kL6BN/ILoE3SzzrQrA2BdUhPRp0G/CoiPi7pf4HDgCNyuVWBbUk/832dpDVJv8j5fERsKqkfcIeka3P5zYF1I+KJqnOwCnAC6VcsZ+a6douI/5O0PXBYRLRVtXE90hN569kCGBoRL+d2FQ0h9RIsSfplzO9GxEaSfgHsT/oFzXOAgyNiqqRP5LSdgR8CwyPiuUqQ0IF2fQt4KyLWlzQE+KekwR1oE8DsiNg6vxeXA5vkc/aopDOA1wr7G0U6d3sCSHodWC8ivpPXTwGuiYiDlH7e/E5J/ya9xy9HxAaSNiL9Cq/1EgcjZlaGrYFLIz/TQ9LlpJ++v7aqnICTJW0FvAusKml5YJ75IkUR8YqkPwOH0vyTRO+MiOdyex4lPZMD0k9jb1Eo95eIeBeYIulJUlCyM7CO3p+rMCinA4ytDkSyzUjPGpmR9/lnYBuaC7bquTYiXq6Td0NEvA68nnuE/pHTJwEfy0HG5sCl0nsPZK1cI/4DXCDpr6QH8XXEVsCpABFxn6SngUqg1G6bCnVcUUifVHifppEe0PZgB9qzM7CrpMrTmBcHPkI696fkdt4r6b4O1Gld5GDEzMpQ6/HjtRxAurBvHBHvSHqK5rvPTyc9nOxC0tANpEe9LwJp0iNz/w18s7D8bmH93apy1cFN5XHq34iI64sZknYEXq/TvmbPQdF9pCCmnnr7gsbHJ2BGpVeqylfyfncjPfF1g6qgp712tXeczZ7zN2uUqVWuGQL2jIipcyWmAMzPRymJ54yYWRluAfbK8wmWBPYAbgVeBZYqlBtEGv54R9JOwMrN7iD3OPwNOKiQPI3UxQ+wF2mIqKM+p+RjpCGbh0m9KN9QnqQqaS2lSZ3tuYM0t2G5vN0I4OYG21wIbKvC3SGSPiVp3U4cx1xycPGMpL1yvYtI2jBnrx4RdwA/AF5m3vehvXbdQhqSQ9I6QAvpgWs9pfozVL3+L9LQUaWdG+XFYjs3JA0hWS9xMGJmvS4i7iI9UfRu0kX515Eeb/4cMC5PdjyJdJHbUtI44HOkC39HnAoUby/9LbCTpLtIT+d9s+ZW7XuEdOH6B+mOl7dyvQ+T5qlMBn5Ng2/sEfEUaXLlTaSnvt4REVc12GYW8Bng8DyB837S3IoXOnEctYwAviZpAqm3ozJh+OeSJpGGSa6LiMkdaNcvgP55+9HAAXXupOou9wJ98mTbbwE3ABvmyap7k55wPCB/xu4DjsvbnQ0sJ2kicDieM9Kr/NReMzMzK5V7RszMzKxUDkbMzMysVA5GzMzMrFQORszMzKxUDkbMzMysVA5GzMzMrFQORszMzKxU/w9hKX4DFZiFuwAAAABJRU5ErkJggg==\n",
=======
      "image/png": "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\n",
>>>>>>> origin/omar_analytics
      "text/plain": [
       "<Figure size 432x288 with 1 Axes>"
      ]
     },
     "metadata": {
      "needs_background": "light"
     },
     "output_type": "display_data"
    }
   ],
   "source": [
    "#Offense Plot - Bar Graph\n",
<<<<<<< HEAD
    "dc_crimes_df_sorted.groupby(dc_crimes_df_sorted['OFFENSE']).size().sort_values(ascending = True).plot(kind = 'barh')\n",
=======
    "dc_crimes_df.groupby(dc_crimes_df['OFFENSE']).size().sort_values(ascending = True).plot(kind = 'barh')\n",
>>>>>>> origin/omar_analytics
    "plt.xlabel('Total Number of Crimes Committed')\n",
    "plt.title(\"Count of each type crime in Washington D.C\")\n",
    "plt.show()"
   ]
  },
  {
   "cell_type": "markdown",
   "metadata": {},
   "source": [
    "# Analysis \n",
    "It appears that the most common type of Offense is: Theft "
   ]
  },
  {
   "cell_type": "markdown",
   "metadata": {},
   "source": [
    "# Analyzing the trend for different types of Offenses over the years"
   ]
  },
  {
   "cell_type": "code",
<<<<<<< HEAD
   "execution_count": null,
=======
   "execution_count": 28,
>>>>>>> origin/omar_analytics
   "metadata": {},
   "outputs": [],
   "source": [
    "#THEFT/OTHER                   141605\n",
    "#THEFT F/AUTO                  106850\n",
    "#ROBBERY                        35171\n",
    "#MOTOR VEHICLE THEFT            32388\n",
    "#BURGLARY                       30229\n",
    "#ASSAULT W/DANGEROUS WEAPON     23757\n",
    "#SEX ABUSE                       2750\n",
    "#HOMICIDE                        1374\n",
    "#ARSON                            279\n",
    "#dc_crimes_df.columns"
   ]
  },
  {
   "cell_type": "code",
<<<<<<< HEAD
   "execution_count": null,
=======
   "execution_count": 29,
>>>>>>> origin/omar_analytics
   "metadata": {},
   "outputs": [],
   "source": [
    "# gather yearly count of \"Theft from Vehicle\" crime \n",
    "#theft = dc_crimes_df[dc_crimes_df[\"OFFENSE\"]==\"THEFT/OTHER\"]\n",
    "#theft_yearly= theft[\"Year\"].value_counts(sort=False)\n",
    "#theft_yearly"
   ]
  },
  {
   "cell_type": "code",
<<<<<<< HEAD
   "execution_count": null,
=======
   "execution_count": 30,
>>>>>>> origin/omar_analytics
   "metadata": {},
   "outputs": [],
   "source": [
    "#Extract the information for x-axis (i.e years)\n",
    "#x_axis = theft_yearly.index.tolist()\n",
    "#x_axis"
   ]
  },
  {
   "cell_type": "code",
<<<<<<< HEAD
   "execution_count": null,
=======
   "execution_count": 31,
>>>>>>> origin/omar_analytics
   "metadata": {},
   "outputs": [],
   "source": [
    "#plt.plot(x_axis, theft_yearly, label = \"Trend for Theft/Other\") "
   ]
  },
  {
   "cell_type": "code",
<<<<<<< HEAD
   "execution_count": null,
=======
   "execution_count": 32,
>>>>>>> origin/omar_analytics
   "metadata": {},
   "outputs": [],
   "source": [
    "# #Finding Neighbourhoods\n",
    "# dc_crimes_df.columns\n",
    "# dc_crimes_df[\"BLOCK\"].unique()"
   ]
  },
  {
   "cell_type": "code",
<<<<<<< HEAD
   "execution_count": null,
=======
   "execution_count": 33,
>>>>>>> origin/omar_analytics
   "metadata": {},
   "outputs": [],
   "source": [
    "# #Top 10 crime blocks\n",
    "# dc_crimes_df[\"BLOCK\"].value_counts()[:10].plot.bar(title='Top 10 Dangerous Blocks')"
   ]
  },
  {
   "cell_type": "code",
<<<<<<< HEAD
   "execution_count": null,
=======
   "execution_count": 34,
>>>>>>> origin/omar_analytics
   "metadata": {},
   "outputs": [],
   "source": [
    "# plt.scatter(dc_crimes_df['LONGITUDE'], dc_crimes_df['LATITUDE'], s=0.5, alpha=0.3, color=\"brown\", lw=0)"
   ]
  },
  {
   "cell_type": "code",
<<<<<<< HEAD
   "execution_count": null,
=======
   "execution_count": 35,
>>>>>>> origin/omar_analytics
   "metadata": {},
   "outputs": [],
   "source": [
    "#Export the city data into a .csv. -\"Should be the final step\"\n",
    "#dc_crimes_df.to_csv(\"../dc_crimes.csv\",index=False,header=True,encoding='utf-8-sig')\n",
    "#encoding also exports any non-english data"
   ]
  },
  {
   "cell_type": "code",
<<<<<<< HEAD
   "execution_count": null,
=======
   "execution_count": 36,
>>>>>>> origin/omar_analytics
   "metadata": {},
   "outputs": [],
   "source": [
    "# df1 = dc_crimes_df['BLOCK'].str.extract('(?P<number>\\d+)(?P<name>.*)', expand=True)\n",
    "# print (df1)"
   ]
  },
  {
   "cell_type": "code",
<<<<<<< HEAD
   "execution_count": 27,
=======
   "execution_count": 37,
>>>>>>> origin/omar_analytics
   "metadata": {},
   "outputs": [
    {
     "data": {
      "text/html": [
       "<div>\n",
       "<style scoped>\n",
       "    .dataframe tbody tr th:only-of-type {\n",
       "        vertical-align: middle;\n",
       "    }\n",
       "\n",
       "    .dataframe tbody tr th {\n",
       "        vertical-align: top;\n",
       "    }\n",
       "\n",
       "    .dataframe thead th {\n",
       "        text-align: right;\n",
       "    }\n",
       "</style>\n",
       "<table border=\"1\" class=\"dataframe\">\n",
       "  <thead>\n",
       "    <tr style=\"text-align: right;\">\n",
       "      <th></th>\n",
       "      <th>BLOCK</th>\n",
       "      <th>Street_Name</th>\n",
       "    </tr>\n",
       "  </thead>\n",
       "  <tbody>\n",
       "    <tr>\n",
<<<<<<< HEAD
       "      <th>249524</th>\n",
       "      <td>3239 - 3399</td>\n",
       "      <td>THEODORE R HAGANS DRIVE NE</td>\n",
       "    </tr>\n",
       "    <tr>\n",
       "      <th>249520</th>\n",
       "      <td>PENNSYLVANIA AVENUE SE AND D STREET SE</td>\n",
       "      <td>None</td>\n",
=======
       "      <td>0</td>\n",
       "      <td>1000 - 1099</td>\n",
       "      <td>CONNECTICUT AVENUE NW</td>\n",
       "    </tr>\n",
       "    <tr>\n",
       "      <td>1</td>\n",
       "      <td>1100 - 1199</td>\n",
       "      <td>5TH STREET NE</td>\n",
>>>>>>> origin/omar_analytics
       "    </tr>\n",
       "  </tbody>\n",
       "</table>\n",
       "</div>"
      ],
      "text/plain": [
<<<<<<< HEAD
       "                                         BLOCK                 Street_Name\n",
       "249524                            3239 - 3399   THEODORE R HAGANS DRIVE NE\n",
       "249520  PENNSYLVANIA AVENUE SE AND D STREET SE                        None"
      ]
     },
     "execution_count": 27,
=======
       "          BLOCK            Street_Name\n",
       "0  1000 - 1099   CONNECTICUT AVENUE NW\n",
       "1  1100 - 1199           5TH STREET NE"
      ]
     },
     "execution_count": 37,
>>>>>>> origin/omar_analytics
     "metadata": {},
     "output_type": "execute_result"
    }
   ],
   "source": [
<<<<<<< HEAD
    "copy_df=dc_crimes_df_sorted.copy()\n",
    "copy_df[['BLOCK','Street_Name']] = dc_crimes_df_sorted['BLOCK'].str.split('BLOCK OF ',expand=True)\n",
=======
    "copy_df=dc_crimes_df.copy()\n",
    "copy_df[['BLOCK','Street_Name']] = dc_crimes_df['BLOCK'].str.split('BLOCK OF ',expand=True)\n",
>>>>>>> origin/omar_analytics
    "copy_df[['BLOCK','Street_Name']].head(2)\n",
    "#copy_df.loc[copy_df[\"Street_Name\"]==\"None\",:]"
   ]
  },
  {
   "cell_type": "code",
<<<<<<< HEAD
   "execution_count": 28,
=======
   "execution_count": 38,
>>>>>>> origin/omar_analytics
   "metadata": {
    "scrolled": false
   },
   "outputs": [
    {
     "data": {
      "text/plain": [
<<<<<<< HEAD
       "<matplotlib.axes._subplots.AxesSubplot at 0x1a58c31780>"
      ]
     },
     "execution_count": 28,
=======
       "<matplotlib.axes._subplots.AxesSubplot at 0x7fd9ddbe8be0>"
      ]
     },
     "execution_count": 38,
>>>>>>> origin/omar_analytics
     "metadata": {},
     "output_type": "execute_result"
    },
    {
     "data": {
<<<<<<< HEAD
      "image/png": "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\n",
=======
      "image/png": "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\n",
>>>>>>> origin/omar_analytics
      "text/plain": [
       "<Figure size 432x288 with 1 Axes>"
      ]
     },
     "metadata": {
      "needs_background": "light"
     },
     "output_type": "display_data"
    }
   ],
   "source": [
    "copy_df[\"Street_Name\"].value_counts()[:10].plot.bar(title='Top 10 Dangerous Blocks')"
   ]
  },
  {
   "cell_type": "code",
   "execution_count": null,
   "metadata": {},
   "outputs": [],
   "source": []
<<<<<<< HEAD
=======
  },
  {
   "cell_type": "code",
   "execution_count": null,
   "metadata": {},
   "outputs": [],
   "source": []
  },
  {
   "cell_type": "code",
   "execution_count": null,
   "metadata": {},
   "outputs": [],
   "source": []
  },
  {
   "cell_type": "code",
   "execution_count": null,
   "metadata": {},
   "outputs": [],
   "source": []
>>>>>>> origin/omar_analytics
  }
 ],
 "metadata": {
  "kernelspec": {
   "display_name": "Python 3",
   "language": "python",
   "name": "python3"
  },
  "language_info": {
   "codemirror_mode": {
    "name": "ipython",
    "version": 3
   },
   "file_extension": ".py",
   "mimetype": "text/x-python",
   "name": "python",
   "nbconvert_exporter": "python",
   "pygments_lexer": "ipython3",
   "version": "3.7.3"
  }
 },
 "nbformat": 4,
 "nbformat_minor": 2
}
